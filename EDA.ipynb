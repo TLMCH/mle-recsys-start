{
 "cells": [
  {
   "cell_type": "code",
   "execution_count": 1,
   "metadata": {},
   "outputs": [],
   "source": [
    "import matplotlib.pyplot as plt\n",
    "import numpy as np\n",
    "import pandas as pd"
   ]
  },
  {
   "cell_type": "code",
   "execution_count": 2,
   "metadata": {},
   "outputs": [],
   "source": [
    "%matplotlib inline\n",
    "%config InlineBackend.figure_format = 'png'\n",
    "%config InlineBackend.figure_format = 'retina'"
   ]
  },
  {
   "cell_type": "code",
   "execution_count": 6,
   "metadata": {},
   "outputs": [],
   "source": [
    "books = pd.read_parquet(\"books.parquet\")\n",
    "interactions = pd.read_parquet(\"interactions.parquet\")"
   ]
  },
  {
   "cell_type": "code",
   "execution_count": 7,
   "metadata": {},
   "outputs": [
    {
     "data": {
      "text/html": [
       "<div>\n",
       "<style scoped>\n",
       "    .dataframe tbody tr th:only-of-type {\n",
       "        vertical-align: middle;\n",
       "    }\n",
       "\n",
       "    .dataframe tbody tr th {\n",
       "        vertical-align: top;\n",
       "    }\n",
       "\n",
       "    .dataframe thead th {\n",
       "        text-align: right;\n",
       "    }\n",
       "</style>\n",
       "<table border=\"1\" class=\"dataframe\">\n",
       "  <thead>\n",
       "    <tr style=\"text-align: right;\">\n",
       "      <th></th>\n",
       "      <th>book_id</th>\n",
       "      <th>author</th>\n",
       "      <th>title</th>\n",
       "      <th>description</th>\n",
       "      <th>genre_and_votes</th>\n",
       "      <th>num_pages</th>\n",
       "      <th>average_rating</th>\n",
       "      <th>ratings_count</th>\n",
       "      <th>text_reviews_count</th>\n",
       "      <th>publisher</th>\n",
       "      <th>publication_year</th>\n",
       "      <th>country_code</th>\n",
       "      <th>language_code</th>\n",
       "      <th>format</th>\n",
       "      <th>is_ebook</th>\n",
       "      <th>isbn</th>\n",
       "      <th>isbn13</th>\n",
       "      <th>genre_and_votes_dict</th>\n",
       "      <th>genre_and_votes_str</th>\n",
       "    </tr>\n",
       "  </thead>\n",
       "  <tbody>\n",
       "    <tr>\n",
       "      <th>3</th>\n",
       "      <td>6066819</td>\n",
       "      <td>Jennifer Weiner</td>\n",
       "      <td>Best Friends Forever</td>\n",
       "      <td>Addie Downs and Valerie Adler were eight when ...</td>\n",
       "      <td>{'Womens Fiction-Chick Lit': 739, 'Fiction': 442}</td>\n",
       "      <td>368</td>\n",
       "      <td>3.49</td>\n",
       "      <td>51184</td>\n",
       "      <td>3282</td>\n",
       "      <td>Atria Books</td>\n",
       "      <td>2009</td>\n",
       "      <td>US</td>\n",
       "      <td>eng</td>\n",
       "      <td>Hardcover</td>\n",
       "      <td>False</td>\n",
       "      <td>0743294297</td>\n",
       "      <td>9780743294294</td>\n",
       "      <td>{'Academic': None, 'Academic-Academia': None, ...</td>\n",
       "      <td>Womens Fiction-Chick Lit 739, Fiction 442</td>\n",
       "    </tr>\n",
       "    <tr>\n",
       "      <th>6</th>\n",
       "      <td>378460</td>\n",
       "      <td>Michael Halberstam</td>\n",
       "      <td>The Wanting of Levine</td>\n",
       "      <td></td>\n",
       "      <td>{'Politics': 1, 'Humor': 1}</td>\n",
       "      <td>&lt;NA&gt;</td>\n",
       "      <td>4.38</td>\n",
       "      <td>12</td>\n",
       "      <td>4</td>\n",
       "      <td>Berkley Publishing Group</td>\n",
       "      <td>1979</td>\n",
       "      <td>US</td>\n",
       "      <td></td>\n",
       "      <td>Paperback</td>\n",
       "      <td>False</td>\n",
       "      <td>0425040887</td>\n",
       "      <td>9780425040881</td>\n",
       "      <td>{'Academic': None, 'Academic-Academia': None, ...</td>\n",
       "      <td>Politics 1user, Humor 1user</td>\n",
       "    </tr>\n",
       "    <tr>\n",
       "      <th>15</th>\n",
       "      <td>89375</td>\n",
       "      <td>Don Piper, Cecil Murphey</td>\n",
       "      <td>90 Minutes in Heaven: A True Story of Death an...</td>\n",
       "      <td>As he is driving home from a minister's confer...</td>\n",
       "      <td>{'Christian': 395, 'Nonfiction': 392, 'Religio...</td>\n",
       "      <td>&lt;NA&gt;</td>\n",
       "      <td>3.91</td>\n",
       "      <td>68157</td>\n",
       "      <td>2885</td>\n",
       "      <td></td>\n",
       "      <td>&lt;NA&gt;</td>\n",
       "      <td>US</td>\n",
       "      <td></td>\n",
       "      <td></td>\n",
       "      <td>False</td>\n",
       "      <td>0800759494</td>\n",
       "      <td>9780800759490</td>\n",
       "      <td>{'Academic': None, 'Academic-Academia': None, ...</td>\n",
       "      <td>Christian 395, Nonfiction 392, Religion 142, S...</td>\n",
       "    </tr>\n",
       "    <tr>\n",
       "      <th>16</th>\n",
       "      <td>89376</td>\n",
       "      <td>Randy Alcorn</td>\n",
       "      <td>Heaven</td>\n",
       "      <td>What is Heaven really going to be like? What w...</td>\n",
       "      <td>{'Christian': 225, 'Religion-Theology': 154, '...</td>\n",
       "      <td>533</td>\n",
       "      <td>4.26</td>\n",
       "      <td>7345</td>\n",
       "      <td>566</td>\n",
       "      <td></td>\n",
       "      <td>&lt;NA&gt;</td>\n",
       "      <td>US</td>\n",
       "      <td>eng</td>\n",
       "      <td></td>\n",
       "      <td>False</td>\n",
       "      <td>0842379428</td>\n",
       "      <td>9780842379427</td>\n",
       "      <td>{'Academic': None, 'Academic-Academia': None, ...</td>\n",
       "      <td>Christian 225, Religion-Theology 154, Nonficti...</td>\n",
       "    </tr>\n",
       "    <tr>\n",
       "      <th>17</th>\n",
       "      <td>89377</td>\n",
       "      <td>Jennifer L. Holm</td>\n",
       "      <td>Penny from Heaven</td>\n",
       "      <td>It's 1953 and 11-year-old Penny dreams of a su...</td>\n",
       "      <td>{'Historical-Historical Fiction': 284, 'Childr...</td>\n",
       "      <td>288</td>\n",
       "      <td>3.98</td>\n",
       "      <td>6949</td>\n",
       "      <td>615</td>\n",
       "      <td>Random House Books for Young Readers</td>\n",
       "      <td>2006</td>\n",
       "      <td>US</td>\n",
       "      <td></td>\n",
       "      <td>Hardcover</td>\n",
       "      <td>False</td>\n",
       "      <td>037583687X</td>\n",
       "      <td>9780375836879</td>\n",
       "      <td>{'Academic': None, 'Academic-Academia': None, ...</td>\n",
       "      <td>Historical-Historical Fiction 284, Childrens-M...</td>\n",
       "    </tr>\n",
       "  </tbody>\n",
       "</table>\n",
       "</div>"
      ],
      "text/plain": [
       "    book_id                    author  \\\n",
       "3   6066819           Jennifer Weiner   \n",
       "6    378460        Michael Halberstam   \n",
       "15    89375  Don Piper, Cecil Murphey   \n",
       "16    89376              Randy Alcorn   \n",
       "17    89377          Jennifer L. Holm   \n",
       "\n",
       "                                                title  \\\n",
       "3                                Best Friends Forever   \n",
       "6                               The Wanting of Levine   \n",
       "15  90 Minutes in Heaven: A True Story of Death an...   \n",
       "16                                             Heaven   \n",
       "17                                  Penny from Heaven   \n",
       "\n",
       "                                          description  \\\n",
       "3   Addie Downs and Valerie Adler were eight when ...   \n",
       "6                                                       \n",
       "15  As he is driving home from a minister's confer...   \n",
       "16  What is Heaven really going to be like? What w...   \n",
       "17  It's 1953 and 11-year-old Penny dreams of a su...   \n",
       "\n",
       "                                      genre_and_votes  num_pages  \\\n",
       "3   {'Womens Fiction-Chick Lit': 739, 'Fiction': 442}        368   \n",
       "6                         {'Politics': 1, 'Humor': 1}       <NA>   \n",
       "15  {'Christian': 395, 'Nonfiction': 392, 'Religio...       <NA>   \n",
       "16  {'Christian': 225, 'Religion-Theology': 154, '...        533   \n",
       "17  {'Historical-Historical Fiction': 284, 'Childr...        288   \n",
       "\n",
       "    average_rating  ratings_count  text_reviews_count  \\\n",
       "3             3.49          51184                3282   \n",
       "6             4.38             12                   4   \n",
       "15            3.91          68157                2885   \n",
       "16            4.26           7345                 566   \n",
       "17            3.98           6949                 615   \n",
       "\n",
       "                               publisher  publication_year country_code  \\\n",
       "3                            Atria Books              2009           US   \n",
       "6               Berkley Publishing Group              1979           US   \n",
       "15                                                    <NA>           US   \n",
       "16                                                    <NA>           US   \n",
       "17  Random House Books for Young Readers              2006           US   \n",
       "\n",
       "   language_code     format  is_ebook        isbn         isbn13  \\\n",
       "3            eng  Hardcover     False  0743294297  9780743294294   \n",
       "6                 Paperback     False  0425040887  9780425040881   \n",
       "15                              False  0800759494  9780800759490   \n",
       "16           eng                False  0842379428  9780842379427   \n",
       "17                Hardcover     False  037583687X  9780375836879   \n",
       "\n",
       "                                 genre_and_votes_dict  \\\n",
       "3   {'Academic': None, 'Academic-Academia': None, ...   \n",
       "6   {'Academic': None, 'Academic-Academia': None, ...   \n",
       "15  {'Academic': None, 'Academic-Academia': None, ...   \n",
       "16  {'Academic': None, 'Academic-Academia': None, ...   \n",
       "17  {'Academic': None, 'Academic-Academia': None, ...   \n",
       "\n",
       "                                  genre_and_votes_str  \n",
       "3           Womens Fiction-Chick Lit 739, Fiction 442  \n",
       "6                         Politics 1user, Humor 1user  \n",
       "15  Christian 395, Nonfiction 392, Religion 142, S...  \n",
       "16  Christian 225, Religion-Theology 154, Nonficti...  \n",
       "17  Historical-Historical Fiction 284, Childrens-M...  "
      ]
     },
     "execution_count": 7,
     "metadata": {},
     "output_type": "execute_result"
    }
   ],
   "source": [
    "books.head()"
   ]
  },
  {
   "cell_type": "code",
   "execution_count": 8,
   "metadata": {},
   "outputs": [
    {
     "data": {
      "text/html": [
       "<div>\n",
       "<style scoped>\n",
       "    .dataframe tbody tr th:only-of-type {\n",
       "        vertical-align: middle;\n",
       "    }\n",
       "\n",
       "    .dataframe tbody tr th {\n",
       "        vertical-align: top;\n",
       "    }\n",
       "\n",
       "    .dataframe thead th {\n",
       "        text-align: right;\n",
       "    }\n",
       "</style>\n",
       "<table border=\"1\" class=\"dataframe\">\n",
       "  <thead>\n",
       "    <tr style=\"text-align: right;\">\n",
       "      <th></th>\n",
       "      <th>user_id</th>\n",
       "      <th>book_id</th>\n",
       "      <th>started_at</th>\n",
       "      <th>read_at</th>\n",
       "      <th>is_read</th>\n",
       "      <th>rating</th>\n",
       "      <th>is_reviewed</th>\n",
       "    </tr>\n",
       "  </thead>\n",
       "  <tbody>\n",
       "    <tr>\n",
       "      <th>0</th>\n",
       "      <td>8842281e1d1347389f2ab93d60773d4d</td>\n",
       "      <td>22034</td>\n",
       "      <td>2015-07-12</td>\n",
       "      <td>2015-07-17</td>\n",
       "      <td>True</td>\n",
       "      <td>5</td>\n",
       "      <td>False</td>\n",
       "    </tr>\n",
       "    <tr>\n",
       "      <th>1</th>\n",
       "      <td>8842281e1d1347389f2ab93d60773d4d</td>\n",
       "      <td>22318578</td>\n",
       "      <td>2015-06-07</td>\n",
       "      <td>2015-08-09</td>\n",
       "      <td>True</td>\n",
       "      <td>5</td>\n",
       "      <td>True</td>\n",
       "    </tr>\n",
       "    <tr>\n",
       "      <th>2</th>\n",
       "      <td>8842281e1d1347389f2ab93d60773d4d</td>\n",
       "      <td>22551730</td>\n",
       "      <td>2015-06-24</td>\n",
       "      <td>2015-07-11</td>\n",
       "      <td>True</td>\n",
       "      <td>4</td>\n",
       "      <td>True</td>\n",
       "    </tr>\n",
       "    <tr>\n",
       "      <th>3</th>\n",
       "      <td>8842281e1d1347389f2ab93d60773d4d</td>\n",
       "      <td>22816087</td>\n",
       "      <td>2015-09-27</td>\n",
       "      <td>2015-11-04</td>\n",
       "      <td>True</td>\n",
       "      <td>5</td>\n",
       "      <td>True</td>\n",
       "    </tr>\n",
       "    <tr>\n",
       "      <th>4</th>\n",
       "      <td>8842281e1d1347389f2ab93d60773d4d</td>\n",
       "      <td>20527133</td>\n",
       "      <td>2015-05-05</td>\n",
       "      <td>2015-09-06</td>\n",
       "      <td>True</td>\n",
       "      <td>0</td>\n",
       "      <td>False</td>\n",
       "    </tr>\n",
       "  </tbody>\n",
       "</table>\n",
       "</div>"
      ],
      "text/plain": [
       "                            user_id   book_id  started_at     read_at  \\\n",
       "0  8842281e1d1347389f2ab93d60773d4d     22034  2015-07-12  2015-07-17   \n",
       "1  8842281e1d1347389f2ab93d60773d4d  22318578  2015-06-07  2015-08-09   \n",
       "2  8842281e1d1347389f2ab93d60773d4d  22551730  2015-06-24  2015-07-11   \n",
       "3  8842281e1d1347389f2ab93d60773d4d  22816087  2015-09-27  2015-11-04   \n",
       "4  8842281e1d1347389f2ab93d60773d4d  20527133  2015-05-05  2015-09-06   \n",
       "\n",
       "   is_read  rating  is_reviewed  \n",
       "0     True       5        False  \n",
       "1     True       5         True  \n",
       "2     True       4         True  \n",
       "3     True       5         True  \n",
       "4     True       0        False  "
      ]
     },
     "execution_count": 8,
     "metadata": {},
     "output_type": "execute_result"
    }
   ],
   "source": [
    "interactions.head()"
   ]
  },
  {
   "cell_type": "code",
   "execution_count": null,
   "metadata": {},
   "outputs": [
    {
     "data": {
      "text/plain": [
       "542657"
      ]
     },
     "execution_count": 9,
     "metadata": {},
     "output_type": "execute_result"
    }
   ],
   "source": [
    "# количество пользователей\n",
    "interactions['user_id'].nunique()"
   ]
  },
  {
   "cell_type": "code",
   "execution_count": 30,
   "metadata": {},
   "outputs": [
    {
     "data": {
      "text/plain": [
       "24"
      ]
     },
     "execution_count": 30,
     "metadata": {},
     "output_type": "execute_result"
    }
   ],
   "source": [
    "# среднее количество прочитанных книг на пользователя\n",
    "round(interactions.shape[0] / interactions['user_id'].nunique())"
   ]
  },
  {
   "cell_type": "code",
   "execution_count": null,
   "metadata": {},
   "outputs": [
    {
     "data": {
      "text/plain": [
       "is_read\n",
       "True    12890434\n",
       "Name: count, dtype: int64"
      ]
     },
     "execution_count": 26,
     "metadata": {},
     "output_type": "execute_result"
    }
   ],
   "source": [
    "# в столбце is_read все значения положительные\n",
    "interactions['is_read'].value_counts()"
   ]
  },
  {
   "cell_type": "code",
   "execution_count": 40,
   "metadata": {},
   "outputs": [
    {
     "name": "stdout",
     "output_type": "stream",
     "text": [
      "Количество прочитанных книг без рейтинга: 1051672\n",
      "Доля прочитанных книг, у которых нет рейтинга:  8.16 %\n"
     ]
    }
   ],
   "source": [
    "# доля прочитанных книг, у которых нет рейтинга\n",
    "print('Количество прочитанных книг без рейтинга:', interactions[interactions['rating'] == 0].shape[0])\n",
    "print('Доля прочитанных книг, у которых нет рейтинга: ', round(interactions[interactions['rating'] == 0].shape[0] / interactions.shape[0] * 100, 2), '%')"
   ]
  },
  {
   "cell_type": "code",
   "execution_count": 73,
   "metadata": {},
   "outputs": [
    {
     "data": {
      "image/png": "[encoded data removed]",
      "text/plain": [
       "<Figure size 640x480 with 1 Axes>"
      ]
     },
     "metadata": {
      "image/png": {
       "height": 413,
       "width": 587
      }
     },
     "output_type": "display_data"
    }
   ],
   "source": [
    "# распределение рейтинга\n",
    "plt.bar(sorted(interactions['rating'].unique()), interactions['rating'].value_counts().sort_index().values)\n",
    "plt.ticklabel_format(style='plain')\n",
    "plt.grid()"
   ]
  },
  {
   "cell_type": "code",
   "execution_count": 85,
   "metadata": {},
   "outputs": [],
   "source": [
    "# распределение популярности (доля пользователей, приходящаяся на одну книгу)\n",
    "books_id = sorted(interactions['book_id'].unique())\n",
    "books_readers = []\n",
    "for i in books_id:\n",
    "    books_readers.append(interactions[interactions['book_id'] == i].shape[0])\n"
   ]
  },
  {
   "cell_type": "code",
   "execution_count": 94,
   "metadata": {},
   "outputs": [
    {
     "name": "stdout",
     "output_type": "stream",
     "text": [
      "max 45201\n",
      "min 1\n",
      "mean 307.5595056308456\n",
      "median 52.0\n"
     ]
    }
   ],
   "source": [
    "print('max', max(books_readers))\n",
    "print('min', min(books_readers))\n",
    "print('mean', np.mean(books_readers))\n",
    "print('median', np.median(books_readers))"
   ]
  },
  {
   "cell_type": "code",
   "execution_count": 95,
   "metadata": {},
   "outputs": [
    {
     "data": {
      "text/plain": [
       "count       12890434\n",
       "unique          3988\n",
       "top       2016-01-01\n",
       "freq           24782\n",
       "Name: started_at, dtype: object"
      ]
     },
     "execution_count": 95,
     "metadata": {},
     "output_type": "execute_result"
    }
   ],
   "source": [
    "interactions['started_at'].describe()"
   ]
  },
  {
   "cell_type": "code",
   "execution_count": 103,
   "metadata": {},
   "outputs": [
    {
     "data": {
      "text/plain": [
       "(array([   6886.,    6864.,   88850.,  457735.,  948544., 1761415.,\n",
       "        2199744., 2457171., 2757043., 2206182.]),\n",
       " array([13514. , 13915.7, 14317.4, 14719.1, 15120.8, 15522.5, 15924.2,\n",
       "        16325.9, 16727.6, 17129.3, 17531. ]),\n",
       " <BarContainer object of 10 artists>)"
      ]
     },
     "execution_count": 103,
     "metadata": {},
     "output_type": "execute_result"
    },
    {
     "data": {
      "image/png": "[encoded data removed]",
      "text/plain": [
       "<Figure size 640x480 with 1 Axes>"
      ]
     },
     "metadata": {
      "image/png": {
       "height": 428,
       "width": 547
      }
     },
     "output_type": "display_data"
    }
   ],
   "source": [
    "plt.hist(interactions['started_at'])"
   ]
  },
  {
   "cell_type": "code",
   "execution_count": 100,
   "metadata": {},
   "outputs": [
    {
     "data": {
      "text/plain": [
       "(array([   6495.,    6629.,   73064.,  431557.,  897442., 1701650.,\n",
       "        2177762., 2466128., 2790457., 2339250.]),\n",
       " array([13514. , 13915.7, 14317.4, 14719.1, 15120.8, 15522.5, 15924.2,\n",
       "        16325.9, 16727.6, 17129.3, 17531. ]),\n",
       " <BarContainer object of 10 artists>)"
      ]
     },
     "execution_count": 100,
     "metadata": {},
     "output_type": "execute_result"
    },
    {
     "data": {
      "image/png": "[encoded data removed]",
      "text/plain": [
       "<Figure size 640x480 with 1 Axes>"
      ]
     },
     "metadata": {
      "image/png": {
       "height": 428,
       "width": 547
      }
     },
     "output_type": "display_data"
    }
   ],
   "source": [
    "plt.hist(interactions['read_at'])"
   ]
  }
 ],
 "metadata": {
  "kernelspec": {
   "display_name": "env_recsys_start",
   "language": "python",
   "name": "python3"
  },
  "language_info": {
   "codemirror_mode": {
    "name": "ipython",
    "version": 3
   },
   "file_extension": ".py",
   "mimetype": "text/x-python",
   "name": "python",
   "nbconvert_exporter": "python",
   "pygments_lexer": "ipython3",
   "version": "3.10.12"
  }
 },
 "nbformat": 4,
 "nbformat_minor": 2
}
