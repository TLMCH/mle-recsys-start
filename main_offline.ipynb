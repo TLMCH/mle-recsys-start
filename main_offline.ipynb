{
 "cells": [
  {
   "cell_type": "markdown",
   "id": "b3589a9a-ce16-4d2e-b581-d75139fc58b3",
   "metadata": {},
   "source": [
    "# Initialization"
   ]
  },
  {
   "cell_type": "code",
   "execution_count": 4,
   "id": "c6e28b2f-3822-4e27-b576-9bc42b279b32",
   "metadata": {},
   "outputs": [],
   "source": [
    "import logging\n",
    "\n",
    "import matplotlib.pyplot as plt\n",
    "import numpy as np\n",
    "import pandas as pd"
   ]
  },
  {
   "cell_type": "code",
   "execution_count": 5,
   "id": "4e53bc65-3e32-454b-b353-e9b95489c26c",
   "metadata": {},
   "outputs": [],
   "source": [
    "%matplotlib inline\n",
    "%config InlineBackend.figure_format = 'png'\n",
    "%config InlineBackend.figure_format = 'retina'"
   ]
  },
  {
   "cell_type": "markdown",
   "id": "e8b1d982-8795-45c2-b221-6e5a07eaa150",
   "metadata": {},
   "source": [
    "# Загрузка данных"
   ]
  },
  {
   "cell_type": "code",
   "execution_count": 6,
   "id": "6ab0db85-17df-4a4f-b23c-e9cd983d8c43",
   "metadata": {},
   "outputs": [],
   "source": [
    "items = pd.read_parquet(\"items.par\")\n",
    "events = pd.read_parquet(\"events.par\")"
   ]
  },
  {
   "cell_type": "markdown",
   "id": "f18f28dd-0371-4144-bf11-d077d44e8de0",
   "metadata": {},
   "source": [
    "# Разбиение с учётом хронологии"
   ]
  },
  {
   "cell_type": "markdown",
   "id": "47016708-6f94-4518-886c-58fa6e7bb315",
   "metadata": {},
   "source": [
    "Рекомендательные системы на практике работают с учётом хронологии. Поэтому поток событий для тренировки и валидации полезно делить на то, что уже случилось, и что ещё случится. Это позволяет проводить валидацию на тех же пользователях, на которых тренировались, но на их событиях в будущем."
   ]
  },
  {
   "cell_type": "markdown",
   "id": "e8df5897-bbcd-4364-b5d3-ec7d1de6743a",
   "metadata": {},
   "source": [
    "# === Знакомство: \"холодный\" старт"
   ]
  },
  {
   "cell_type": "markdown",
   "id": "b0b1a5ae",
   "metadata": {},
   "source": [
    "### Разбиение на тренировочную и тестовую выборки"
   ]
  },
  {
   "cell_type": "code",
   "execution_count": 7,
   "id": "4713c062-c9cd-425f-8174-cf133c4730d1",
   "metadata": {},
   "outputs": [
    {
     "name": "stdout",
     "output_type": "stream",
     "text": [
      "428220 123223 120858\n"
     ]
    }
   ],
   "source": [
    "# зададим точку разбиения\n",
    "train_test_global_time_split_date = pd.to_datetime(\"2017-08-01\").date()\n",
    "\n",
    "train_test_global_time_split_idx = events[\"started_at\"] < train_test_global_time_split_date\n",
    "events_train = events[train_test_global_time_split_idx]\n",
    "events_test = events[~train_test_global_time_split_idx]\n",
    "\n",
    "# количество пользователей в train и test\n",
    "users_train = events_train[\"user_id\"].drop_duplicates()\n",
    "users_test = events_test[\"user_id\"].drop_duplicates()\n",
    "# количество пользователей, которые есть и в train, и в test\n",
    "common_users = 0\n",
    "for i in users_test.values:\n",
    "    if i in users_train.values:\n",
    "        common_users += 1\n",
    "\n",
    "print(len(users_train), len(users_test), common_users)"
   ]
  },
  {
   "cell_type": "markdown",
   "id": "93146bbb",
   "metadata": {},
   "source": [
    "### Идентификация холодных пользователей"
   ]
  },
  {
   "cell_type": "code",
   "execution_count": 8,
   "id": "4cb94a23-8d1d-4025-908f-f290013fa429",
   "metadata": {},
   "outputs": [
    {
     "name": "stdout",
     "output_type": "stream",
     "text": [
      "2365\n"
     ]
    }
   ],
   "source": [
    "cold_users = []\n",
    "\n",
    "for i in users_test.values:\n",
    "    if i not in users_train.values:\n",
    "        cold_users.append(i)\n",
    "\n",
    "print(len(cold_users))"
   ]
  },
  {
   "cell_type": "markdown",
   "id": "30bf3010",
   "metadata": {},
   "source": [
    "### топ-100 наиболее популярных книг"
   ]
  },
  {
   "cell_type": "code",
   "execution_count": 9,
   "id": "6f94990b-65c8-43cc-88da-ebe6a12163b4",
   "metadata": {},
   "outputs": [],
   "source": [
    "top_pop_start_date = pd.to_datetime(\"2015-01-01\").date()\n",
    "\n",
    "item_popularity = events_train \\\n",
    "    .query(\"started_at >= @top_pop_start_date\") \\\n",
    "    .groupby([\"item_id\"]).agg(users=(\"user_id\", \"nunique\"), avg_rating=(\"rating\", \"mean\")).reset_index()\n",
    "item_popularity[\"popularity_weighted\"] = item_popularity[\"users\"] * item_popularity[\"avg_rating\"]\n",
    "\n",
    "# сортируем по убыванию взвешенной популярности\n",
    "item_popularity = item_popularity.sort_values(by='popularity_weighted', ascending=False)\n",
    "\n",
    "# выбираем первые 100 айтемов со средней оценкой avg_rating не меньше 4\n",
    "top_k_pop_items = item_popularity.query(\"avg_rating >= 4\")[: 100]"
   ]
  },
  {
   "cell_type": "code",
   "execution_count": 10,
   "id": "9c6e257f",
   "metadata": {},
   "outputs": [
    {
     "data": {
      "text/html": [
       "<div>\n",
       "<style scoped>\n",
       "    .dataframe tbody tr th:only-of-type {\n",
       "        vertical-align: middle;\n",
       "    }\n",
       "\n",
       "    .dataframe tbody tr th {\n",
       "        vertical-align: top;\n",
       "    }\n",
       "\n",
       "    .dataframe thead th {\n",
       "        text-align: right;\n",
       "    }\n",
       "</style>\n",
       "<table border=\"1\" class=\"dataframe\">\n",
       "  <thead>\n",
       "    <tr style=\"text-align: right;\">\n",
       "      <th></th>\n",
       "      <th>item_id</th>\n",
       "      <th>author</th>\n",
       "      <th>title</th>\n",
       "      <th>publication_year</th>\n",
       "      <th>users</th>\n",
       "      <th>avg_rating</th>\n",
       "      <th>popularity_weighted</th>\n",
       "      <th>genre_and_votes</th>\n",
       "    </tr>\n",
       "  </thead>\n",
       "  <tbody>\n",
       "    <tr>\n",
       "      <th>0</th>\n",
       "      <td>18007564</td>\n",
       "      <td>Andy Weir</td>\n",
       "      <td>The Martian</td>\n",
       "      <td>2014</td>\n",
       "      <td>20207</td>\n",
       "      <td>4.321275</td>\n",
       "      <td>87320.0</td>\n",
       "      <td>{'Science Fiction': 11966, 'Fiction': 8430}</td>\n",
       "    </tr>\n",
       "    <tr>\n",
       "      <th>1</th>\n",
       "      <td>18143977</td>\n",
       "      <td>Anthony Doerr</td>\n",
       "      <td>All the Light We Cannot See</td>\n",
       "      <td>2014</td>\n",
       "      <td>19462</td>\n",
       "      <td>4.290669</td>\n",
       "      <td>83505.0</td>\n",
       "      <td>{'Historical-Historical Fiction': 13679, 'Fict...</td>\n",
       "    </tr>\n",
       "    <tr>\n",
       "      <th>2</th>\n",
       "      <td>16096824</td>\n",
       "      <td>Sarah J. Maas</td>\n",
       "      <td>A Court of Thorns and Roses (A Court of Thorns...</td>\n",
       "      <td>2015</td>\n",
       "      <td>16770</td>\n",
       "      <td>4.301014</td>\n",
       "      <td>72128.0</td>\n",
       "      <td>{'Fantasy': 14326, 'Young Adult': 4662, 'Roman...</td>\n",
       "    </tr>\n",
       "    <tr>\n",
       "      <th>3</th>\n",
       "      <td>3</td>\n",
       "      <td>J.K. Rowling, Mary GrandPré</td>\n",
       "      <td>Harry Potter and the Sorcerer's Stone (Harry P...</td>\n",
       "      <td>1997</td>\n",
       "      <td>15139</td>\n",
       "      <td>4.706057</td>\n",
       "      <td>71245.0</td>\n",
       "      <td>{'Fantasy': 59818, 'Fiction': 17918, 'Young Ad...</td>\n",
       "    </tr>\n",
       "    <tr>\n",
       "      <th>4</th>\n",
       "      <td>38447</td>\n",
       "      <td>Margaret Atwood</td>\n",
       "      <td>The Handmaid's Tale</td>\n",
       "      <td>1998</td>\n",
       "      <td>14611</td>\n",
       "      <td>4.232770</td>\n",
       "      <td>61845.0</td>\n",
       "      <td>{'Fiction': 15424, 'Classics': 9937, 'Science ...</td>\n",
       "    </tr>\n",
       "    <tr>\n",
       "      <th>...</th>\n",
       "      <td>...</td>\n",
       "      <td>...</td>\n",
       "      <td>...</td>\n",
       "      <td>...</td>\n",
       "      <td>...</td>\n",
       "      <td>...</td>\n",
       "      <td>...</td>\n",
       "      <td>...</td>\n",
       "    </tr>\n",
       "    <tr>\n",
       "      <th>95</th>\n",
       "      <td>2767052</td>\n",
       "      <td>Suzanne Collins</td>\n",
       "      <td>The Hunger Games (The Hunger Games, #1)</td>\n",
       "      <td>2008</td>\n",
       "      <td>4361</td>\n",
       "      <td>4.413437</td>\n",
       "      <td>19247.0</td>\n",
       "      <td>{'Young Adult': 30042, 'Fiction': 16754, 'Scie...</td>\n",
       "    </tr>\n",
       "    <tr>\n",
       "      <th>96</th>\n",
       "      <td>18293427</td>\n",
       "      <td>Gabrielle Zevin</td>\n",
       "      <td>The Storied Life of A.J. Fikry</td>\n",
       "      <td>2014</td>\n",
       "      <td>4674</td>\n",
       "      <td>4.092640</td>\n",
       "      <td>19129.0</td>\n",
       "      <td>{'Fiction': 3795, 'Contemporary': 1100, 'Writi...</td>\n",
       "    </tr>\n",
       "    <tr>\n",
       "      <th>97</th>\n",
       "      <td>3636</td>\n",
       "      <td>Lois Lowry</td>\n",
       "      <td>The Giver (The Giver, #1)</td>\n",
       "      <td>2006</td>\n",
       "      <td>4667</td>\n",
       "      <td>4.098564</td>\n",
       "      <td>19128.0</td>\n",
       "      <td>{'Young Adult': 10993, 'Fiction': 9045, 'Class...</td>\n",
       "    </tr>\n",
       "    <tr>\n",
       "      <th>98</th>\n",
       "      <td>18966819</td>\n",
       "      <td>Pierce Brown</td>\n",
       "      <td>Golden Son (Red Rising, #2)</td>\n",
       "      <td>2015</td>\n",
       "      <td>4361</td>\n",
       "      <td>4.374914</td>\n",
       "      <td>19079.0</td>\n",
       "      <td>{'Science Fiction': 2613, 'Fantasy': 1372, 'Sc...</td>\n",
       "    </tr>\n",
       "    <tr>\n",
       "      <th>99</th>\n",
       "      <td>26252859</td>\n",
       "      <td>Rick Riordan</td>\n",
       "      <td>The Hidden Oracle (The Trials of Apollo, #1)</td>\n",
       "      <td>2016</td>\n",
       "      <td>4371</td>\n",
       "      <td>4.293068</td>\n",
       "      <td>18765.0</td>\n",
       "      <td>{'Fantasy': 3173, 'Fantasy-Mythology': 1514}</td>\n",
       "    </tr>\n",
       "  </tbody>\n",
       "</table>\n",
       "<p>100 rows × 8 columns</p>\n",
       "</div>"
      ],
      "text/plain": [
       "     item_id                       author  \\\n",
       "0   18007564                    Andy Weir   \n",
       "1   18143977                Anthony Doerr   \n",
       "2   16096824                Sarah J. Maas   \n",
       "3          3  J.K. Rowling, Mary GrandPré   \n",
       "4      38447              Margaret Atwood   \n",
       "..       ...                          ...   \n",
       "95   2767052              Suzanne Collins   \n",
       "96  18293427              Gabrielle Zevin   \n",
       "97      3636                   Lois Lowry   \n",
       "98  18966819                 Pierce Brown   \n",
       "99  26252859                 Rick Riordan   \n",
       "\n",
       "                                                title  publication_year  \\\n",
       "0                                         The Martian              2014   \n",
       "1                         All the Light We Cannot See              2014   \n",
       "2   A Court of Thorns and Roses (A Court of Thorns...              2015   \n",
       "3   Harry Potter and the Sorcerer's Stone (Harry P...              1997   \n",
       "4                                 The Handmaid's Tale              1998   \n",
       "..                                                ...               ...   \n",
       "95            The Hunger Games (The Hunger Games, #1)              2008   \n",
       "96                     The Storied Life of A.J. Fikry              2014   \n",
       "97                          The Giver (The Giver, #1)              2006   \n",
       "98                        Golden Son (Red Rising, #2)              2015   \n",
       "99       The Hidden Oracle (The Trials of Apollo, #1)              2016   \n",
       "\n",
       "    users  avg_rating  popularity_weighted  \\\n",
       "0   20207    4.321275              87320.0   \n",
       "1   19462    4.290669              83505.0   \n",
       "2   16770    4.301014              72128.0   \n",
       "3   15139    4.706057              71245.0   \n",
       "4   14611    4.232770              61845.0   \n",
       "..    ...         ...                  ...   \n",
       "95   4361    4.413437              19247.0   \n",
       "96   4674    4.092640              19129.0   \n",
       "97   4667    4.098564              19128.0   \n",
       "98   4361    4.374914              19079.0   \n",
       "99   4371    4.293068              18765.0   \n",
       "\n",
       "                                      genre_and_votes  \n",
       "0         {'Science Fiction': 11966, 'Fiction': 8430}  \n",
       "1   {'Historical-Historical Fiction': 13679, 'Fict...  \n",
       "2   {'Fantasy': 14326, 'Young Adult': 4662, 'Roman...  \n",
       "3   {'Fantasy': 59818, 'Fiction': 17918, 'Young Ad...  \n",
       "4   {'Fiction': 15424, 'Classics': 9937, 'Science ...  \n",
       "..                                                ...  \n",
       "95  {'Young Adult': 30042, 'Fiction': 16754, 'Scie...  \n",
       "96  {'Fiction': 3795, 'Contemporary': 1100, 'Writi...  \n",
       "97  {'Young Adult': 10993, 'Fiction': 9045, 'Class...  \n",
       "98  {'Science Fiction': 2613, 'Fantasy': 1372, 'Sc...  \n",
       "99       {'Fantasy': 3173, 'Fantasy-Mythology': 1514}  \n",
       "\n",
       "[100 rows x 8 columns]"
      ]
     },
     "metadata": {},
     "output_type": "display_data"
    }
   ],
   "source": [
    "# добавляем информацию о книгах\n",
    "top_k_pop_items = top_k_pop_items.merge(\n",
    "    items.set_index(\"item_id\")[[\"author\", \"title\", \"genre_and_votes\", \"publication_year\"]], on=\"item_id\")\n",
    "\n",
    "with pd.option_context('display.max_rows', 10):\n",
    "    display(top_k_pop_items[[\"item_id\", \"author\", \"title\", \"publication_year\", \"users\", \"avg_rating\", \"popularity_weighted\", \"genre_and_votes\"]])"
   ]
  },
  {
   "cell_type": "code",
   "execution_count": 11,
   "id": "1789b9a3",
   "metadata": {},
   "outputs": [],
   "source": [
    "cold_users_events_with_recs = \\\n",
    "    events_test[events_test[\"user_id\"].isin(cold_users)] \\\n",
    "    .merge(top_k_pop_items, on=\"item_id\", how=\"left\")\n",
    "\n",
    "cold_user_items_no_avg_rating_idx = cold_users_events_with_recs[\"avg_rating\"].isnull()\n",
    "cold_user_recs = cold_users_events_with_recs[~cold_user_items_no_avg_rating_idx] \\\n",
    "    [[\"user_id\", \"item_id\", \"rating\", \"avg_rating\"]]"
   ]
  },
  {
   "cell_type": "code",
   "execution_count": 12,
   "id": "84cf0cfd",
   "metadata": {},
   "outputs": [
    {
     "data": {
      "text/plain": [
       "0.8023159636062862"
      ]
     },
     "execution_count": 12,
     "metadata": {},
     "output_type": "execute_result"
    }
   ],
   "source": [
    "# Для какой доли событий «холодных» пользователей в events_test рекомендации в top_k_pop_items совпали по книгам?\n",
    "1 - (len(cold_user_recs) / len(cold_users_events_with_recs))"
   ]
  },
  {
   "cell_type": "markdown",
   "id": "0cdfc016",
   "metadata": {},
   "source": [
    "### Подсчет метрик rmse и mae для полученных рекомендаций."
   ]
  },
  {
   "cell_type": "code",
   "execution_count": 13,
   "id": "cb16b385",
   "metadata": {},
   "outputs": [
    {
     "name": "stdout",
     "output_type": "stream",
     "text": [
      "0.78 0.62\n"
     ]
    }
   ],
   "source": [
    "# посчитаем метрики рекомендаций\n",
    "from sklearn.metrics import mean_squared_error, mean_absolute_error\n",
    "\n",
    "rmse = mean_squared_error(cold_user_recs[\"rating\"], cold_user_recs[\"avg_rating\"], squared=False)\n",
    "mae = mean_absolute_error(cold_user_recs[\"rating\"], cold_user_recs[\"avg_rating\"])\n",
    "print(round(rmse, 2), round(mae, 2))"
   ]
  },
  {
   "cell_type": "code",
   "execution_count": 14,
   "id": "b9a68d55",
   "metadata": {},
   "outputs": [
    {
     "name": "stdout",
     "output_type": "stream",
     "text": [
      "Доля пользователей без релевантных рекомендаций: 0.59\n",
      "Среднее покрытие пользователей: 0.44\n"
     ]
    }
   ],
   "source": [
    "# посчитаем покрытие холодных пользователей рекомендациями\n",
    "\n",
    "cold_users_hit_ratio = cold_users_events_with_recs.groupby(\"user_id\").agg(hits=(\"avg_rating\", lambda x: (~x.isnull()).mean()))\n",
    "\n",
    "print(f\"Доля пользователей без релевантных рекомендаций: {(cold_users_hit_ratio == 0).mean().iat[0]:.2f}\")\n",
    "print(f\"Среднее покрытие пользователей: {cold_users_hit_ratio[cold_users_hit_ratio != 0].mean().iat[0]:.2f}\")"
   ]
  },
  {
   "cell_type": "markdown",
   "id": "65ef157d-dd5a-4882-8208-40cd9cdfebfc",
   "metadata": {},
   "source": [
    "# === Знакомство: первые персональные рекомендации"
   ]
  },
  {
   "cell_type": "markdown",
   "id": "50a8c0c2",
   "metadata": {},
   "source": [
    "### Степень разреженности матрицы взаимодействий (U-I-матрицы)"
   ]
  },
  {
   "cell_type": "code",
   "execution_count": 15,
   "id": "b687dc99-9aee-472f-9730-d5f17df99c7e",
   "metadata": {},
   "outputs": [
    {
     "data": {
      "text/plain": [
       "0.9993451160571009"
      ]
     },
     "execution_count": 15,
     "metadata": {},
     "output_type": "execute_result"
    }
   ],
   "source": [
    "non_empty_cells = events.shape[0]\n",
    "all_cells = events['user_id'].nunique() * events['item_id'].nunique()\n",
    "empty_cells = all_cells - non_empty_cells\n",
    "sparcity = empty_cells / all_cells\n",
    "sparcity"
   ]
  },
  {
   "cell_type": "code",
   "execution_count": 16,
   "id": "4e804e6f-3348-407c-aa3c-fc50b6045d8d",
   "metadata": {},
   "outputs": [
    {
     "data": {
      "text/plain": [
       "<surprise.prediction_algorithms.matrix_factorization.SVD at 0x7f5baf899720>"
      ]
     },
     "execution_count": 16,
     "metadata": {},
     "output_type": "execute_result"
    }
   ],
   "source": [
    "from surprise import Dataset, Reader\n",
    "from surprise import SVD\n",
    "\n",
    "# используем Reader из библиотеки surprise для преобразования событий (events)\n",
    "# в формат, необходимый surprise\n",
    "reader = Reader(rating_scale=(1, 5))\n",
    "surprise_train_set = Dataset.load_from_df(events_train[['user_id', 'item_id', 'rating']], reader)\n",
    "surprise_train_set = surprise_train_set.build_full_trainset()\n",
    "\n",
    "# инициализируем модель\n",
    "svd_model = SVD(n_factors=100, random_state=0)\n",
    "\n",
    "# обучаем модель\n",
    "svd_model.fit(surprise_train_set)"
   ]
  },
  {
   "cell_type": "code",
   "execution_count": 17,
   "id": "d2677881",
   "metadata": {},
   "outputs": [],
   "source": [
    "surprise_test_set = list(events_test[['user_id', 'item_id', 'rating']].itertuples(index=False))\n",
    "\n",
    "# получаем рекомендации для тестовой выборки\n",
    "svd_predictions = svd_model.test(surprise_test_set)"
   ]
  },
  {
   "cell_type": "code",
   "execution_count": 18,
   "id": "1c103378",
   "metadata": {},
   "outputs": [
    {
     "name": "stdout",
     "output_type": "stream",
     "text": [
      "RMSE: 0.8263\n",
      "MAE:  0.6460\n",
      "0.826346375350908 0.6460143973270805\n"
     ]
    }
   ],
   "source": [
    "from surprise import accuracy\n",
    "\n",
    "rmse = accuracy.rmse(svd_predictions)\n",
    "mae = accuracy.mae(svd_predictions)\n",
    "                     \n",
    "print(rmse, mae)"
   ]
  },
  {
   "cell_type": "code",
   "execution_count": 19,
   "id": "3a293525",
   "metadata": {},
   "outputs": [],
   "source": [
    "from surprise import NormalPredictor\n",
    "\n",
    "# инициализируем состояние генератора, это необходимо для получения\n",
    "# одной и той же последовательности случайных чисел, только в учебных целях\n",
    "np.random.seed(0)\n",
    "\n",
    "random_model = NormalPredictor()\n",
    "\n",
    "random_model.fit(surprise_train_set)\n",
    "random_predictions = random_model.test(surprise_test_set)"
   ]
  },
  {
   "cell_type": "code",
   "execution_count": 20,
   "id": "bcfbd9a3",
   "metadata": {},
   "outputs": [
    {
     "name": "stdout",
     "output_type": "stream",
     "text": [
      "MAE:  0.9982\n"
     ]
    }
   ],
   "source": [
    "mae_random = accuracy.mae(random_predictions)"
   ]
  },
  {
   "cell_type": "code",
   "execution_count": 21,
   "id": "836936b3",
   "metadata": {},
   "outputs": [
    {
     "name": "stdout",
     "output_type": "stream",
     "text": [
      "64.71648968142657\n",
      "154.52012383900927\n"
     ]
    }
   ],
   "source": [
    "print(0.6460 / 0.9982 * 100)\n",
    "print(0.9982 / 0.6460 * 100)"
   ]
  },
  {
   "cell_type": "code",
   "execution_count": 22,
   "id": "203dafe2",
   "metadata": {},
   "outputs": [],
   "source": [
    "# readers_count = events.groupby([\"item_id\"]).agg(users=(\"user_id\", \"nunique\"))\n",
    "# rare_items = readers_count.query(\"users < 5\")\n",
    "# events = events[~events['item_id'].isin(rare_items['users'].index.values)]"
   ]
  },
  {
   "cell_type": "code",
   "execution_count": 23,
   "id": "77c5bbd5",
   "metadata": {},
   "outputs": [],
   "source": [
    "def get_recommendations_svd(user_id, all_items, events, model, include_seen=True, n=5):\n",
    "\n",
    "    \"\"\" возвращает n рекомендаций для user_id \"\"\"\n",
    "    \n",
    "    # получим список идентификаторов всех книг\n",
    "    all_items = set(events['item_id'].unique())\n",
    "        \n",
    "    # учитываем флаг, стоит ли уже прочитанные книги включать в рекомендации\n",
    "    if include_seen:\n",
    "        items_to_predict = list(all_items)\n",
    "    else:\n",
    "        # получим список книг, которые пользователь уже прочитал (\"видел\")\n",
    "        seen_items = set(events[user_id]['item_id'].unique())\n",
    "        \n",
    "        # книги, которые пользователь ещё не читал\n",
    "        # только их и будем включать в рекомендации\n",
    "        items_to_predict = list(all_items - seen_items)\n",
    "    \n",
    "    # получаем скоры для списка книг, т. е. рекомендации\n",
    "    predictions = [model.predict(user_id, item_id) for item_id in items_to_predict]\n",
    "    \n",
    "    # сортируем рекомендации по убыванию скора и берём только n первых\n",
    "    recommendations = sorted(predictions, key=lambda x: x.est, reverse=True)[:n]\n",
    "    \n",
    "    return pd.DataFrame([(pred.iid, pred.est) for pred in recommendations], columns=[\"item_id\", \"score\"])"
   ]
  },
  {
   "cell_type": "code",
   "execution_count": 24,
   "id": "daeec0f2",
   "metadata": {},
   "outputs": [
    {
     "data": {
      "text/html": [
       "<div>\n",
       "<style scoped>\n",
       "    .dataframe tbody tr th:only-of-type {\n",
       "        vertical-align: middle;\n",
       "    }\n",
       "\n",
       "    .dataframe tbody tr th {\n",
       "        vertical-align: top;\n",
       "    }\n",
       "\n",
       "    .dataframe thead th {\n",
       "        text-align: right;\n",
       "    }\n",
       "</style>\n",
       "<table border=\"1\" class=\"dataframe\">\n",
       "  <thead>\n",
       "    <tr style=\"text-align: right;\">\n",
       "      <th></th>\n",
       "      <th>item_id</th>\n",
       "      <th>score</th>\n",
       "    </tr>\n",
       "  </thead>\n",
       "  <tbody>\n",
       "    <tr>\n",
       "      <th>0</th>\n",
       "      <td>24812</td>\n",
       "      <td>5.000000</td>\n",
       "    </tr>\n",
       "    <tr>\n",
       "      <th>1</th>\n",
       "      <td>8471387</td>\n",
       "      <td>5.000000</td>\n",
       "    </tr>\n",
       "    <tr>\n",
       "      <th>2</th>\n",
       "      <td>481749</td>\n",
       "      <td>5.000000</td>\n",
       "    </tr>\n",
       "    <tr>\n",
       "      <th>3</th>\n",
       "      <td>30688013</td>\n",
       "      <td>4.996900</td>\n",
       "    </tr>\n",
       "    <tr>\n",
       "      <th>4</th>\n",
       "      <td>1108124</td>\n",
       "      <td>4.979711</td>\n",
       "    </tr>\n",
       "  </tbody>\n",
       "</table>\n",
       "</div>"
      ],
      "text/plain": [
       "    item_id     score\n",
       "0     24812  5.000000\n",
       "1   8471387  5.000000\n",
       "2    481749  5.000000\n",
       "3  30688013  4.996900\n",
       "4   1108124  4.979711"
      ]
     },
     "execution_count": 24,
     "metadata": {},
     "output_type": "execute_result"
    }
   ],
   "source": [
    "rec = get_recommendations_svd(1296647, items, events_train, svd_model)\n",
    "rec"
   ]
  },
  {
   "cell_type": "code",
   "execution_count": 25,
   "id": "b761bbae",
   "metadata": {},
   "outputs": [
    {
     "name": "stdout",
     "output_type": "stream",
     "text": [
      "user_id: 1109853\n",
      "История (последние события, recent)\n"
     ]
    },
    {
     "data": {
      "text/html": [
       "<div>\n",
       "<style scoped>\n",
       "    .dataframe tbody tr th:only-of-type {\n",
       "        vertical-align: middle;\n",
       "    }\n",
       "\n",
       "    .dataframe tbody tr th {\n",
       "        vertical-align: top;\n",
       "    }\n",
       "\n",
       "    .dataframe thead th {\n",
       "        text-align: right;\n",
       "    }\n",
       "</style>\n",
       "<table border=\"1\" class=\"dataframe\">\n",
       "  <thead>\n",
       "    <tr style=\"text-align: right;\">\n",
       "      <th></th>\n",
       "      <th>author</th>\n",
       "      <th>title</th>\n",
       "      <th>started_at</th>\n",
       "      <th>read_at</th>\n",
       "      <th>rating</th>\n",
       "      <th>genre_and_votes</th>\n",
       "    </tr>\n",
       "  </thead>\n",
       "  <tbody>\n",
       "    <tr>\n",
       "      <th>0</th>\n",
       "      <td>Patrick Rothfuss</td>\n",
       "      <td>The Wise Man's Fear (The Kingkiller Chronicle,...</td>\n",
       "      <td>2015-06-17</td>\n",
       "      <td>2015-08-31</td>\n",
       "      <td>5</td>\n",
       "      <td>{'Fantasy': 16491, 'Fiction': 2222, 'Fantasy-E...</td>\n",
       "    </tr>\n",
       "    <tr>\n",
       "      <th>1</th>\n",
       "      <td>Andy Weir</td>\n",
       "      <td>The Martian</td>\n",
       "      <td>2014-12-07</td>\n",
       "      <td>2014-12-11</td>\n",
       "      <td>4</td>\n",
       "      <td>{'Science Fiction': 11966, 'Fiction': 8430}</td>\n",
       "    </tr>\n",
       "    <tr>\n",
       "      <th>2</th>\n",
       "      <td>Brandon Sanderson</td>\n",
       "      <td>The Way of Kings (The Stormlight Archive, #1)</td>\n",
       "      <td>2015-08-31</td>\n",
       "      <td>2015-10-30</td>\n",
       "      <td>5</td>\n",
       "      <td>{'Fantasy': 14291, 'Fiction': 1623, 'Fantasy-E...</td>\n",
       "    </tr>\n",
       "    <tr>\n",
       "      <th>3</th>\n",
       "      <td>Brandon Sanderson</td>\n",
       "      <td>Words of Radiance (The Stormlight Archive, #2)</td>\n",
       "      <td>2015-10-30</td>\n",
       "      <td>2016-03-17</td>\n",
       "      <td>5</td>\n",
       "      <td>{'Fantasy': 8542, 'Fiction': 872, 'Fantasy-Epi...</td>\n",
       "    </tr>\n",
       "    <tr>\n",
       "      <th>4</th>\n",
       "      <td>Ken Follett</td>\n",
       "      <td>Fall of Giants (The Century Trilogy, #1)</td>\n",
       "      <td>2016-05-12</td>\n",
       "      <td>2016-08-30</td>\n",
       "      <td>4</td>\n",
       "      <td>{'Historical-Historical Fiction': 4665, 'Ficti...</td>\n",
       "    </tr>\n",
       "  </tbody>\n",
       "</table>\n",
       "</div>"
      ],
      "text/plain": [
       "              author                                              title  \\\n",
       "0   Patrick Rothfuss  The Wise Man's Fear (The Kingkiller Chronicle,...   \n",
       "1          Andy Weir                                        The Martian   \n",
       "2  Brandon Sanderson      The Way of Kings (The Stormlight Archive, #1)   \n",
       "3  Brandon Sanderson     Words of Radiance (The Stormlight Archive, #2)   \n",
       "4        Ken Follett           Fall of Giants (The Century Trilogy, #1)   \n",
       "\n",
       "   started_at     read_at  rating  \\\n",
       "0  2015-06-17  2015-08-31       5   \n",
       "1  2014-12-07  2014-12-11       4   \n",
       "2  2015-08-31  2015-10-30       5   \n",
       "3  2015-10-30  2016-03-17       5   \n",
       "4  2016-05-12  2016-08-30       4   \n",
       "\n",
       "                                     genre_and_votes  \n",
       "0  {'Fantasy': 16491, 'Fiction': 2222, 'Fantasy-E...  \n",
       "1        {'Science Fiction': 11966, 'Fiction': 8430}  \n",
       "2  {'Fantasy': 14291, 'Fiction': 1623, 'Fantasy-E...  \n",
       "3  {'Fantasy': 8542, 'Fiction': 872, 'Fantasy-Epi...  \n",
       "4  {'Historical-Historical Fiction': 4665, 'Ficti...  "
      ]
     },
     "metadata": {},
     "output_type": "display_data"
    },
    {
     "name": "stdout",
     "output_type": "stream",
     "text": [
      "Рекомендации\n"
     ]
    },
    {
     "data": {
      "text/html": [
       "<div>\n",
       "<style scoped>\n",
       "    .dataframe tbody tr th:only-of-type {\n",
       "        vertical-align: middle;\n",
       "    }\n",
       "\n",
       "    .dataframe tbody tr th {\n",
       "        vertical-align: top;\n",
       "    }\n",
       "\n",
       "    .dataframe thead th {\n",
       "        text-align: right;\n",
       "    }\n",
       "</style>\n",
       "<table border=\"1\" class=\"dataframe\">\n",
       "  <thead>\n",
       "    <tr style=\"text-align: right;\">\n",
       "      <th></th>\n",
       "      <th>item_id</th>\n",
       "      <th>score</th>\n",
       "      <th>author</th>\n",
       "      <th>title</th>\n",
       "      <th>genre_and_votes</th>\n",
       "    </tr>\n",
       "  </thead>\n",
       "  <tbody>\n",
       "    <tr>\n",
       "      <th>0</th>\n",
       "      <td>30688013</td>\n",
       "      <td>5.000000</td>\n",
       "      <td>Robin Hobb</td>\n",
       "      <td>Assassin's Fate (The Fitz and the Fool, #3)</td>\n",
       "      <td>{'Fantasy': 1657, 'Fiction': 172, 'Fantasy-Epi...</td>\n",
       "    </tr>\n",
       "    <tr>\n",
       "      <th>1</th>\n",
       "      <td>11221285</td>\n",
       "      <td>5.000000</td>\n",
       "      <td>Brandon Sanderson</td>\n",
       "      <td>The Way of Kings, Part 2 (The Stormlight Archi...</td>\n",
       "      <td>{'Fantasy': 641, 'Fiction': 46, 'Fantasy-Epic ...</td>\n",
       "    </tr>\n",
       "    <tr>\n",
       "      <th>2</th>\n",
       "      <td>19219646</td>\n",
       "      <td>5.000000</td>\n",
       "      <td>Wolfgang Herrndorf</td>\n",
       "      <td>Arbeit und Struktur</td>\n",
       "      <td>{'Nonfiction': 25, 'European Literature-German...</td>\n",
       "    </tr>\n",
       "    <tr>\n",
       "      <th>3</th>\n",
       "      <td>22037424</td>\n",
       "      <td>4.996202</td>\n",
       "      <td>J.K. Rowling, Jonny Duddle, Tomislav Tomić</td>\n",
       "      <td>Harry Potter and the Prisoner of Azkaban (Harr...</td>\n",
       "      <td>{'Fantasy': 49994, 'Young Adult': 15433, 'Fict...</td>\n",
       "    </tr>\n",
       "    <tr>\n",
       "      <th>4</th>\n",
       "      <td>2168850</td>\n",
       "      <td>4.995777</td>\n",
       "      <td>محمد بن إدريس الشافعي, إميل بديع يعقوب</td>\n",
       "      <td>ديوان الإمام الشافعي</td>\n",
       "      <td>{'Poetry': 93, 'Religion': 15, 'Literature': 1...</td>\n",
       "    </tr>\n",
       "  </tbody>\n",
       "</table>\n",
       "</div>"
      ],
      "text/plain": [
       "    item_id     score                                      author  \\\n",
       "0  30688013  5.000000                                  Robin Hobb   \n",
       "1  11221285  5.000000                           Brandon Sanderson   \n",
       "2  19219646  5.000000                          Wolfgang Herrndorf   \n",
       "3  22037424  4.996202  J.K. Rowling, Jonny Duddle, Tomislav Tomić   \n",
       "4   2168850  4.995777      محمد بن إدريس الشافعي, إميل بديع يعقوب   \n",
       "\n",
       "                                               title  \\\n",
       "0        Assassin's Fate (The Fitz and the Fool, #3)   \n",
       "1  The Way of Kings, Part 2 (The Stormlight Archi...   \n",
       "2                                Arbeit und Struktur   \n",
       "3  Harry Potter and the Prisoner of Azkaban (Harr...   \n",
       "4                               ديوان الإمام الشافعي   \n",
       "\n",
       "                                     genre_and_votes  \n",
       "0  {'Fantasy': 1657, 'Fiction': 172, 'Fantasy-Epi...  \n",
       "1  {'Fantasy': 641, 'Fiction': 46, 'Fantasy-Epic ...  \n",
       "2  {'Nonfiction': 25, 'European Literature-German...  \n",
       "3  {'Fantasy': 49994, 'Young Adult': 15433, 'Fict...  \n",
       "4  {'Poetry': 93, 'Religion': 15, 'Literature': 1...  "
      ]
     },
     "metadata": {},
     "output_type": "display_data"
    }
   ],
   "source": [
    "# выберем произвольного пользователя из тренировочной выборки (\"прошлого\")\n",
    "user_id = events_train['user_id'].sample().iat[0]\n",
    "\n",
    "print(f\"user_id: {user_id}\")\n",
    "\n",
    "print(\"История (последние события, recent)\")\n",
    "user_history = (\n",
    "    events_train\n",
    "    .query(\"user_id == @user_id\")\n",
    "    .merge(items.set_index(\"item_id\")[[\"author\", \"title\", \"genre_and_votes\"]], on=\"item_id\")\n",
    ")\n",
    "user_history_to_print = user_history[[\"author\", \"title\", \"started_at\", \"read_at\", \"rating\", \"genre_and_votes\"]].tail(10)\n",
    "display(user_history_to_print)\n",
    "\n",
    "print(\"Рекомендации\")\n",
    "user_recommendations = get_recommendations_svd(user_id, items, events_train, svd_model)\n",
    "user_recommendations = user_recommendations.merge(items[[\"item_id\", \"author\", \"title\", \"genre_and_votes\"]], on=\"item_id\")\n",
    "display(user_recommendations)"
   ]
  },
  {
   "cell_type": "markdown",
   "id": "3817eb52-1161-4e4e-a263-0cb616794a8e",
   "metadata": {},
   "source": [
    "# === Базовые подходы: коллаборативная фильтрация"
   ]
  },
  {
   "cell_type": "code",
   "execution_count": 26,
   "id": "21789993-d0cd-4e74-96af-b3966d0f44c3",
   "metadata": {},
   "outputs": [
    {
     "name": "stderr",
     "output_type": "stream",
     "text": [
      "/tmp/ipykernel_1868/1044897688.py:8: SettingWithCopyWarning: \n",
      "A value is trying to be set on a copy of a slice from a DataFrame.\n",
      "Try using .loc[row_indexer,col_indexer] = value instead\n",
      "\n",
      "See the caveats in the documentation: https://pandas.pydata.org/pandas-docs/stable/user_guide/indexing.html#returning-a-view-versus-a-copy\n",
      "  events_train[\"user_id_enc\"] = user_encoder.transform(events_train[\"user_id\"])\n",
      "/tmp/ipykernel_1868/1044897688.py:9: SettingWithCopyWarning: \n",
      "A value is trying to be set on a copy of a slice from a DataFrame.\n",
      "Try using .loc[row_indexer,col_indexer] = value instead\n",
      "\n",
      "See the caveats in the documentation: https://pandas.pydata.org/pandas-docs/stable/user_guide/indexing.html#returning-a-view-versus-a-copy\n",
      "  events_test[\"user_id_enc\"] = user_encoder.transform(events_test[\"user_id\"])\n",
      "/tmp/ipykernel_1868/1044897688.py:16: SettingWithCopyWarning: \n",
      "A value is trying to be set on a copy of a slice from a DataFrame.\n",
      "Try using .loc[row_indexer,col_indexer] = value instead\n",
      "\n",
      "See the caveats in the documentation: https://pandas.pydata.org/pandas-docs/stable/user_guide/indexing.html#returning-a-view-versus-a-copy\n",
      "  events_train[\"item_id_enc\"] = item_encoder.transform(events_train[\"item_id\"])\n",
      "/tmp/ipykernel_1868/1044897688.py:17: SettingWithCopyWarning: \n",
      "A value is trying to be set on a copy of a slice from a DataFrame.\n",
      "Try using .loc[row_indexer,col_indexer] = value instead\n",
      "\n",
      "See the caveats in the documentation: https://pandas.pydata.org/pandas-docs/stable/user_guide/indexing.html#returning-a-view-versus-a-copy\n",
      "  events_test[\"item_id_enc\"] = item_encoder.transform(events_test[\"item_id\"])\n"
     ]
    }
   ],
   "source": [
    "import scipy\n",
    "import sklearn.preprocessing\n",
    "\n",
    "# перекодируем идентификаторы пользователей: \n",
    "# из имеющихся в последовательность 0, 1, 2, ...\n",
    "user_encoder = sklearn.preprocessing.LabelEncoder()\n",
    "user_encoder.fit(events[\"user_id\"])\n",
    "events_train[\"user_id_enc\"] = user_encoder.transform(events_train[\"user_id\"])\n",
    "events_test[\"user_id_enc\"] = user_encoder.transform(events_test[\"user_id\"])\n",
    "\n",
    "# перекодируем идентификаторы объектов: \n",
    "# из имеющихся в последовательность 0, 1, 2, ...\n",
    "item_encoder = sklearn.preprocessing.LabelEncoder()\n",
    "item_encoder.fit(items[\"item_id\"])\n",
    "items[\"item_id_enc\"] = item_encoder.transform(items[\"item_id\"])\n",
    "events_train[\"item_id_enc\"] = item_encoder.transform(events_train[\"item_id\"])\n",
    "events_test[\"item_id_enc\"] = item_encoder.transform(events_test[\"item_id\"])"
   ]
  },
  {
   "cell_type": "code",
   "execution_count": 27,
   "id": "9a96f98d-0270-4a06-9063-a687dbffeca5",
   "metadata": {},
   "outputs": [
    {
     "data": {
      "text/plain": [
       "16.54028546065092"
      ]
     },
     "execution_count": 27,
     "metadata": {},
     "output_type": "execute_result"
    }
   ],
   "source": [
    "#  размер матрицы взаимодействий в гигабайтах\n",
    "events_train[\"user_id_enc\"].nunique() * events_train[\"item_id_enc\"].nunique() / 1024**3"
   ]
  },
  {
   "cell_type": "code",
   "execution_count": 28,
   "id": "d9b938da",
   "metadata": {},
   "outputs": [],
   "source": [
    "# создаём sparse-матрицу формата CSR \n",
    "user_item_matrix_train = scipy.sparse.csr_matrix((\n",
    "    events_train[\"rating\"],\n",
    "    (events_train['user_id_enc'], events_train['item_id_enc'])),\n",
    "    dtype=np.int8)"
   ]
  },
  {
   "cell_type": "code",
   "execution_count": 29,
   "id": "608b5247",
   "metadata": {},
   "outputs": [
    {
     "data": {
      "text/plain": [
       "0.26370687410235405"
      ]
     },
     "execution_count": 29,
     "metadata": {},
     "output_type": "execute_result"
    }
   ],
   "source": [
    "#  размер sparse-матрицы формата CSR  в гигабайтах\n",
    "import sys\n",
    "\n",
    "sum([sys.getsizeof(i) for i in user_item_matrix_train.data])/1024**3"
   ]
  },
  {
   "cell_type": "code",
   "execution_count": 30,
   "id": "70c93788",
   "metadata": {},
   "outputs": [
    {
     "name": "stderr",
     "output_type": "stream",
     "text": [
      "/home/mle-user/sprint_4/env_recsys_start/lib/python3.10/site-packages/tqdm/auto.py:21: TqdmWarning: IProgress not found. Please update jupyter and ipywidgets. See https://ipywidgets.readthedocs.io/en/stable/user_install.html\n",
      "  from .autonotebook import tqdm as notebook_tqdm\n",
      "/home/mle-user/sprint_4/env_recsys_start/lib/python3.10/site-packages/implicit/cpu/als.py:95: RuntimeWarning: OpenBLAS is configured to use 4 threads. It is highly recommended to disable its internal threadpool by setting the environment variable 'OPENBLAS_NUM_THREADS=1' or by calling 'threadpoolctl.threadpool_limits(1, \"blas\")'. Having OpenBLAS use a threadpool can lead to severe performance issues here.\n",
      "  check_blas_config()\n",
      "100%|██████████| 50/50 [02:47<00:00,  3.35s/it]\n"
     ]
    }
   ],
   "source": [
    "# создание и тренировка модели\n",
    "from implicit.als import AlternatingLeastSquares\n",
    "\n",
    "als_model = AlternatingLeastSquares(factors=50, iterations=50, regularization=0.05, random_state=0)\n",
    "als_model.fit(user_item_matrix_train)"
   ]
  },
  {
   "cell_type": "code",
   "execution_count": 31,
   "id": "459fdb8e",
   "metadata": {},
   "outputs": [],
   "source": [
    "def get_recommendations_als(user_item_matrix, model, user_id, user_encoder, item_encoder, include_seen=True, n=5):\n",
    "    \"\"\"\n",
    "    Возвращает отранжированные рекомендации для заданного пользователя\n",
    "    \"\"\"\n",
    "    user_id_enc = user_encoder.transform([user_id])[0]\n",
    "    recommendations = model.recommend(\n",
    "         user_id_enc, \n",
    "         user_item_matrix[user_id_enc], \n",
    "         filter_already_liked_items=not include_seen,\n",
    "         N=n)\n",
    "    recommendations = pd.DataFrame({\"item_id_enc\": recommendations[0], \"score\": recommendations[1]})\n",
    "    recommendations[\"item_id\"] = item_encoder.inverse_transform(recommendations[\"item_id_enc\"])\n",
    "    \n",
    "    return recommendations"
   ]
  },
  {
   "cell_type": "code",
   "execution_count": 32,
   "id": "a995c240",
   "metadata": {},
   "outputs": [],
   "source": [
    "def user_history_and_recommendations(user_item_matrix, model, user_id, user_encoder, item_encoder, include_seen=True, n=5):\n",
    "    user_history = events_train[events_train['user_id'] == user_id]\n",
    "\n",
    "    history_text = f'''\n",
    "User id: {user_id} \n",
    "\n",
    "    User's history: \\n\n",
    "'''\n",
    "    for i in range(len(user_history)):\n",
    "        history_text += '\\t'\n",
    "        history_text += items[items[\"item_id_enc\"] == user_history.iloc[i, :]['item_id_enc']].iloc[0, 1]\n",
    "        history_text += ': '\n",
    "        history_text += items[items[\"item_id_enc\"] == user_history.iloc[i, :]['item_id_enc']].iloc[0, 2]\n",
    "        history_text += '\\n'\n",
    "\n",
    "    print(history_text)\n",
    "\n",
    "    rec = get_recommendations_als(user_item_matrix, model, user_id, user_encoder, item_encoder, include_seen, n)\n",
    "    \n",
    "    recommendation_text = f'''\n",
    "    User's recommendation:\\n\n",
    "'''\n",
    "    \n",
    "    for i in range(n):\n",
    "        recommendation_text += '\\t'\n",
    "        recommendation_text += items[items[\"item_id_enc\"] == rec.iloc[i, :]['item_id_enc']].iloc[0, 1]\n",
    "        recommendation_text += ': '\n",
    "        recommendation_text += items[items[\"item_id_enc\"] == rec.iloc[i, :]['item_id_enc']].iloc[0, 2]\n",
    "        recommendation_text += ' / '\n",
    "        if rec.iloc[i, :]['item_id_enc'] in user_history['item_id_enc'].values:\n",
    "            recommendation_text += 'пользователь прочитал рекоммендованную книгу'\n",
    "        else:\n",
    "            recommendation_text += 'пользователь не прочитал рекоммендованную книгу'\n",
    "        recommendation_text += '\\n'\n",
    "    \n",
    "    print(recommendation_text)"
   ]
  },
  {
   "cell_type": "code",
   "execution_count": 33,
   "id": "26f9172e",
   "metadata": {},
   "outputs": [
    {
     "name": "stdout",
     "output_type": "stream",
     "text": [
      "\n",
      "User id: 1000006 \n",
      "\n",
      "    User's history: \n",
      "\n",
      "\tMargaret Atwood: The Handmaid's Tale\n",
      "\tLouisa May Alcott: Little Women (Little Women, #1)\n",
      "\tGarth Stein: The Art of Racing in the Rain\n",
      "\tMaria Semple: Where'd You Go, Bernadette\n",
      "\tRoald Dahl, Quentin Blake: Matilda\n",
      "\tFrances Hodgson Burnett: The Secret Garden\n",
      "\tNina George, Simon Pare: The Little Paris Bookshop\n",
      "\tAziz Ansari, Eric Klinenberg: Modern Romance\n",
      "\tKennilworthy Whisp, J.K. Rowling: Quidditch Through the Ages\n",
      "\tAmy Schumer: The Girl with the Lower Back Tattoo\n",
      "\tJ.K. Rowling, Mary GrandPré: Harry Potter and the Sorcerer's Stone (Harry Potter, #1)\n",
      "\tDiane Ackerman: The Zookeeper's Wife\n",
      "\tJ.K. Rowling, Mary GrandPré: Harry Potter and the Chamber of Secrets (Harry Potter, #2)\n",
      "\tJ.K. Rowling, Mary GrandPré: Harry Potter and the Prisoner of Azkaban (Harry Potter, #3)\n",
      "\tJodi Picoult: Small Great Things\n",
      "\tJ.K. Rowling, Mary GrandPré: Harry Potter and the Goblet of Fire (Harry Potter, #4)\n",
      "\tWilliam L. Myers Jr.: A Criminal Defense\n",
      "\n",
      "\n",
      "    User's recommendation:\n",
      "\n",
      "\tJ.K. Rowling, Mary GrandPré: Harry Potter and the Sorcerer's Stone (Harry Potter, #1) / пользователь прочитал рекоммендованную книгу\n",
      "\tJ.K. Rowling, Mary GrandPré: Harry Potter and the Chamber of Secrets (Harry Potter, #2) / пользователь прочитал рекоммендованную книгу\n",
      "\tJ.K. Rowling, Mary GrandPré: Harry Potter and the Prisoner of Azkaban (Harry Potter, #3) / пользователь прочитал рекоммендованную книгу\n",
      "\tJ.K. Rowling, Mary GrandPré: Harry Potter and the Goblet of Fire (Harry Potter, #4) / пользователь прочитал рекоммендованную книгу\n",
      "\tJ.K. Rowling, Mary GrandPré: Harry Potter and the Order of the Phoenix (Harry Potter, #5) / пользователь не прочитал рекоммендованную книгу\n",
      "\n"
     ]
    }
   ],
   "source": [
    "user_history_and_recommendations(user_item_matrix_train, als_model, 1_000_006, user_encoder, item_encoder, include_seen=True, n=5)"
   ]
  },
  {
   "cell_type": "code",
   "execution_count": 34,
   "id": "cba5923a",
   "metadata": {},
   "outputs": [],
   "source": [
    "# получаем список всех возможных user_id (перекодированных)\n",
    "user_ids_encoded = range(len(user_encoder.classes_))\n",
    "\n",
    "# получаем рекомендации для всех пользователей\n",
    "als_recommendations = als_model.recommend(\n",
    "    user_ids_encoded, \n",
    "    user_item_matrix_train[user_ids_encoded], \n",
    "    filter_already_liked_items=False, N=100)"
   ]
  },
  {
   "cell_type": "code",
   "execution_count": 35,
   "id": "a7519226",
   "metadata": {},
   "outputs": [],
   "source": [
    "# преобразуем полученные рекомендации в табличный формат\n",
    "item_ids_enc = als_recommendations[0]\n",
    "als_scores = als_recommendations[1]\n",
    "\n",
    "als_recommendations = pd.DataFrame({\n",
    "    \"user_id_enc\": user_ids_encoded,\n",
    "    \"item_id_enc\": item_ids_enc.tolist(), \n",
    "    \"score\": als_scores.tolist()})\n",
    "als_recommendations = als_recommendations.explode([\"item_id_enc\", \"score\"], ignore_index=True)\n",
    "\n",
    "# приводим типы данных\n",
    "als_recommendations[\"item_id_enc\"] = als_recommendations[\"item_id_enc\"].astype(\"int\")\n",
    "als_recommendations[\"score\"] = als_recommendations[\"score\"].astype(\"float\")\n",
    "\n",
    "# получаем изначальные идентификаторы\n",
    "als_recommendations[\"user_id\"] = user_encoder.inverse_transform(als_recommendations[\"user_id_enc\"])\n",
    "als_recommendations[\"item_id\"] = item_encoder.inverse_transform(als_recommendations[\"item_id_enc\"])\n",
    "als_recommendations = als_recommendations.drop(columns=[\"user_id_enc\", \"item_id_enc\"])"
   ]
  },
  {
   "cell_type": "code",
   "execution_count": 36,
   "id": "2bbce5cc",
   "metadata": {},
   "outputs": [],
   "source": [
    "als_recommendations = als_recommendations[[\"user_id\", \"item_id\", \"score\"]]\n",
    "als_recommendations.to_parquet(\"als_recommendations.parquet\")"
   ]
  },
  {
   "cell_type": "code",
   "execution_count": 37,
   "id": "c9307235",
   "metadata": {},
   "outputs": [],
   "source": [
    "als_recommendations = (\n",
    "    als_recommendations\n",
    "    .merge(events_test[[\"user_id\", \"item_id\", \"rating\"]]\n",
    "               .rename(columns={\"rating\": \"rating_test\"}), \n",
    "           on=[\"user_id\", \"item_id\"], how=\"left\")\n",
    ")"
   ]
  },
  {
   "cell_type": "code",
   "execution_count": 38,
   "id": "8048e27e",
   "metadata": {},
   "outputs": [],
   "source": [
    "import sklearn.metrics\n",
    "\n",
    "def compute_ndcg(rating: pd.Series, score: pd.Series, k):\n",
    "\n",
    "    \"\"\" подсчёт ndcg\n",
    "    rating: истинные оценки\n",
    "    score: оценки модели\n",
    "    k: количество айтемов (по убыванию score) для оценки, остальные - отбрасываются\n",
    "    \"\"\"\n",
    "    \n",
    "    # если кол-во объектов меньше 2, то NDCG - не определена\n",
    "    if len(rating) < 2:\n",
    "        return np.nan\n",
    "\n",
    "    ndcg = sklearn.metrics.ndcg_score(np.asarray([rating.to_numpy()]), np.asarray([score.to_numpy()]), k=k)\n",
    "\n",
    "    return ndcg"
   ]
  },
  {
   "cell_type": "code",
   "execution_count": 39,
   "id": "8aae5452",
   "metadata": {},
   "outputs": [],
   "source": [
    "rating_test_idx = ~als_recommendations[\"rating_test\"].isnull()\n",
    "ndcg_at_5_scores = als_recommendations[rating_test_idx].groupby(\"user_id\").apply(lambda x: compute_ndcg(x[\"rating_test\"], x[\"score\"], k=5))"
   ]
  },
  {
   "cell_type": "code",
   "execution_count": 40,
   "id": "92355121",
   "metadata": {},
   "outputs": [
    {
     "name": "stdout",
     "output_type": "stream",
     "text": [
      "0.975946709792109\n"
     ]
    }
   ],
   "source": [
    "print(ndcg_at_5_scores.mean())"
   ]
  },
  {
   "cell_type": "code",
   "execution_count": 41,
   "id": "10654c65",
   "metadata": {},
   "outputs": [
    {
     "name": "stdout",
     "output_type": "stream",
     "text": [
      "2334248    The Hitchhiker's Guide to the Galaxy (Hitchhik...\n",
      "Name: title, dtype: object\n",
      "840143    The Restaurant at the End of the Universe (Hit...\n",
      "Name: title, dtype: object\n",
      "840144    Life, the Universe and Everything (Hitchhiker'...\n",
      "Name: title, dtype: object\n",
      "55118    So Long, and Thanks for All the Fish (Hitchhik...\n",
      "Name: title, dtype: object\n",
      "2334250    The Ultimate Hitchhiker's Guide to the Galaxy\n",
      "Name: title, dtype: object\n"
     ]
    }
   ],
   "source": [
    "a = als_model.similar_items(itemid=7, N=5, recalculate_item=False, item_users=user_item_matrix_train, filter_items=None, items=None)\n",
    "for i in range(5):\n",
    "    print(items[items['item_id_enc'] == a[0][i]]['title'])"
   ]
  },
  {
   "cell_type": "markdown",
   "id": "62575f67-f46e-4747-b3de-6ff5a87d0eba",
   "metadata": {},
   "source": [
    "# === Базовые подходы: контентные рекомендации"
   ]
  },
  {
   "cell_type": "code",
   "execution_count": 42,
   "id": "5ae7f494-3ee9-4f49-a61b-9dfb411518bd",
   "metadata": {},
   "outputs": [],
   "source": [
    "items[\"genre_and_votes\"] = items[\"genre_and_votes\"].apply(eval)"
   ]
  },
  {
   "cell_type": "code",
   "execution_count": 43,
   "id": "5f655832-4caa-4290-9b34-388e7b3f5d37",
   "metadata": {},
   "outputs": [],
   "source": [
    "def get_genres(items):\n",
    "\n",
    "    \"\"\" \n",
    "    извлекает список жанров по всем книгам, \n",
    "    подсчитывает долю голосов по каждому их них\n",
    "    \"\"\"\n",
    "    \n",
    "    genres_counter = {}\n",
    "    \n",
    "    for k, v, in items.iterrows():\n",
    "        genre_and_votes = v['genre_and_votes']\n",
    "        if genre_and_votes is None or not isinstance(genre_and_votes, dict):\n",
    "            continue\n",
    "        for genre, votes in genre_and_votes.items():\n",
    "            # увеличиваем счётчик жанров\n",
    "            try:\n",
    "                genres_counter[genre] += votes\n",
    "            except KeyError:\n",
    "                genres_counter[genre] = 0\n",
    "\n",
    "    genres = pd.Series(genres_counter, name=\"votes\")\n",
    "    genres = genres.to_frame()\n",
    "    genres = genres.reset_index().rename(columns={\"index\": \"name\"})\n",
    "    genres.index.name = \"genre_id\"\n",
    "    \n",
    "    return genres\n",
    "   \n",
    "genres = get_genres(items)"
   ]
  },
  {
   "cell_type": "code",
   "execution_count": 44,
   "id": "d8f945a6-bd08-4f17-84a3-4a82e00a29c6",
   "metadata": {},
   "outputs": [
    {
     "data": {
      "text/html": [
       "<div>\n",
       "<style scoped>\n",
       "    .dataframe tbody tr th:only-of-type {\n",
       "        vertical-align: middle;\n",
       "    }\n",
       "\n",
       "    .dataframe tbody tr th {\n",
       "        vertical-align: top;\n",
       "    }\n",
       "\n",
       "    .dataframe thead th {\n",
       "        text-align: right;\n",
       "    }\n",
       "</style>\n",
       "<table border=\"1\" class=\"dataframe\">\n",
       "  <thead>\n",
       "    <tr style=\"text-align: right;\">\n",
       "      <th></th>\n",
       "      <th>name</th>\n",
       "      <th>votes</th>\n",
       "      <th>score</th>\n",
       "    </tr>\n",
       "    <tr>\n",
       "      <th>genre_id</th>\n",
       "      <th></th>\n",
       "      <th></th>\n",
       "      <th></th>\n",
       "    </tr>\n",
       "  </thead>\n",
       "  <tbody>\n",
       "    <tr>\n",
       "      <th>25</th>\n",
       "      <td>Fantasy</td>\n",
       "      <td>6850060</td>\n",
       "      <td>0.149651</td>\n",
       "    </tr>\n",
       "    <tr>\n",
       "      <th>1</th>\n",
       "      <td>Fiction</td>\n",
       "      <td>6406256</td>\n",
       "      <td>0.139955</td>\n",
       "    </tr>\n",
       "    <tr>\n",
       "      <th>38</th>\n",
       "      <td>Classics</td>\n",
       "      <td>3414934</td>\n",
       "      <td>0.074605</td>\n",
       "    </tr>\n",
       "    <tr>\n",
       "      <th>18</th>\n",
       "      <td>Young Adult</td>\n",
       "      <td>3296951</td>\n",
       "      <td>0.072027</td>\n",
       "    </tr>\n",
       "    <tr>\n",
       "      <th>34</th>\n",
       "      <td>Romance</td>\n",
       "      <td>2422614</td>\n",
       "      <td>0.052926</td>\n",
       "    </tr>\n",
       "    <tr>\n",
       "      <th>5</th>\n",
       "      <td>Nonfiction</td>\n",
       "      <td>1737406</td>\n",
       "      <td>0.037957</td>\n",
       "    </tr>\n",
       "    <tr>\n",
       "      <th>16</th>\n",
       "      <td>Historical-Historical Fiction</td>\n",
       "      <td>1531205</td>\n",
       "      <td>0.033452</td>\n",
       "    </tr>\n",
       "    <tr>\n",
       "      <th>20</th>\n",
       "      <td>Mystery</td>\n",
       "      <td>1371196</td>\n",
       "      <td>0.029956</td>\n",
       "    </tr>\n",
       "    <tr>\n",
       "      <th>24</th>\n",
       "      <td>Science Fiction</td>\n",
       "      <td>1218917</td>\n",
       "      <td>0.026629</td>\n",
       "    </tr>\n",
       "    <tr>\n",
       "      <th>33</th>\n",
       "      <td>Fantasy-Paranormal</td>\n",
       "      <td>857012</td>\n",
       "      <td>0.018723</td>\n",
       "    </tr>\n",
       "  </tbody>\n",
       "</table>\n",
       "</div>"
      ],
      "text/plain": [
       "                                   name    votes     score\n",
       "genre_id                                                  \n",
       "25                              Fantasy  6850060  0.149651\n",
       "1                               Fiction  6406256  0.139955\n",
       "38                             Classics  3414934  0.074605\n",
       "18                          Young Adult  3296951  0.072027\n",
       "34                              Romance  2422614  0.052926\n",
       "5                            Nonfiction  1737406  0.037957\n",
       "16        Historical-Historical Fiction  1531205  0.033452\n",
       "20                              Mystery  1371196  0.029956\n",
       "24                      Science Fiction  1218917  0.026629\n",
       "33                   Fantasy-Paranormal   857012  0.018723"
      ]
     },
     "execution_count": 44,
     "metadata": {},
     "output_type": "execute_result"
    }
   ],
   "source": [
    "genres[\"score\"] = genres[\"votes\"] / genres[\"votes\"].sum()\n",
    "genres.sort_values(by=\"score\", ascending=False).head(10)"
   ]
  },
  {
   "cell_type": "code",
   "execution_count": 45,
   "id": "94af5d2b",
   "metadata": {},
   "outputs": [],
   "source": [
    "def get_item2genre_matrix(genres, items):\n",
    "\n",
    "    genre_names_to_id = genres.reset_index().set_index(\"name\")[\"genre_id\"].to_dict()\n",
    "    \n",
    "    # list to build CSR matrix\n",
    "    genres_csr_data = []\n",
    "    genres_csr_row_idx = []\n",
    "    genres_csr_col_idx = []\n",
    "    \n",
    "    for item_idx, (k, v) in enumerate(items.iterrows()):\n",
    "        if v[\"genre_and_votes\"] is None:\n",
    "            continue\n",
    "        for genre_name, votes in v[\"genre_and_votes\"].items():\n",
    "            genre_idx = genre_names_to_id[genre_name]\n",
    "            genres_csr_data.append(int(votes))\n",
    "            genres_csr_row_idx.append(item_idx)\n",
    "            genres_csr_col_idx.append(genre_idx)\n",
    "\n",
    "    genres_csr = scipy.sparse.csr_matrix((genres_csr_data, (genres_csr_row_idx, genres_csr_col_idx)), shape=(len(items), len(genres)))\n",
    "    # нормализуем, чтобы сумма оценок принадлежности к жанру была равна 1\n",
    "    genres_csr = sklearn.preprocessing.normalize(genres_csr, norm='l1', axis=1)\n",
    "    \n",
    "    return genres_csr"
   ]
  },
  {
   "cell_type": "code",
   "execution_count": 46,
   "id": "74fadaa9",
   "metadata": {},
   "outputs": [],
   "source": [
    "items = items.sort_values(by=\"item_id_enc\")\n",
    "all_items_genres_csr = get_item2genre_matrix(genres, items)"
   ]
  },
  {
   "cell_type": "code",
   "execution_count": 47,
   "id": "7c14b091",
   "metadata": {},
   "outputs": [
    {
     "data": {
      "text/plain": [
       "<Compressed Sparse Row sparse matrix of dtype 'float64'\n",
       "\twith 149 stored elements and shape (22, 56)>"
      ]
     },
     "execution_count": 47,
     "metadata": {},
     "output_type": "execute_result"
    }
   ],
   "source": [
    "user_id = 1000010\n",
    "user_events = events_train.query(\"user_id == @user_id\")[[\"item_id\", \"rating\"]]\n",
    "user_items = items[items[\"item_id\"].isin(user_events[\"item_id\"])]\n",
    "\n",
    "user_items_genres_csr = get_item2genre_matrix(get_genres(user_items), user_items)\n",
    "user_items_genres_csr"
   ]
  },
  {
   "cell_type": "code",
   "execution_count": 48,
   "id": "24bfcebc",
   "metadata": {},
   "outputs": [],
   "source": [
    "# вычислим склонность пользователя к жанрам как среднее взвешенное значение популяции на его оценки книг.\n",
    "\n",
    "# преобразуем пользовательские оценки из списка в вектор-столбец\n",
    "user_ratings = user_events[\"rating\"].to_numpy() / 5\n",
    "user_ratings = np.expand_dims(user_ratings, axis=1)\n",
    "\n",
    "user_items_genres_weighted = user_items_genres_csr.multiply(user_ratings)\n",
    "\n",
    "user_genres_scores = np.asarray(user_items_genres_weighted.mean(axis=0))"
   ]
  },
  {
   "cell_type": "code",
   "execution_count": 49,
   "id": "40f097cb",
   "metadata": {},
   "outputs": [
    {
     "data": {
      "text/html": [
       "<div>\n",
       "<style scoped>\n",
       "    .dataframe tbody tr th:only-of-type {\n",
       "        vertical-align: middle;\n",
       "    }\n",
       "\n",
       "    .dataframe tbody tr th {\n",
       "        vertical-align: top;\n",
       "    }\n",
       "\n",
       "    .dataframe thead th {\n",
       "        text-align: right;\n",
       "    }\n",
       "</style>\n",
       "<table border=\"1\" class=\"dataframe\">\n",
       "  <thead>\n",
       "    <tr style=\"text-align: right;\">\n",
       "      <th></th>\n",
       "      <th>name</th>\n",
       "      <th>votes</th>\n",
       "      <th>score</th>\n",
       "    </tr>\n",
       "    <tr>\n",
       "      <th>genre_id</th>\n",
       "      <th></th>\n",
       "      <th></th>\n",
       "      <th></th>\n",
       "    </tr>\n",
       "  </thead>\n",
       "  <tbody>\n",
       "    <tr>\n",
       "      <th>0</th>\n",
       "      <td>Fiction</td>\n",
       "      <td>110201</td>\n",
       "      <td>0.195253</td>\n",
       "    </tr>\n",
       "    <tr>\n",
       "      <th>14</th>\n",
       "      <td>Classics</td>\n",
       "      <td>96456</td>\n",
       "      <td>0.096687</td>\n",
       "    </tr>\n",
       "    <tr>\n",
       "      <th>21</th>\n",
       "      <td>Fantasy</td>\n",
       "      <td>25814</td>\n",
       "      <td>0.074261</td>\n",
       "    </tr>\n",
       "    <tr>\n",
       "      <th>15</th>\n",
       "      <td>Science Fiction</td>\n",
       "      <td>14819</td>\n",
       "      <td>0.045902</td>\n",
       "    </tr>\n",
       "    <tr>\n",
       "      <th>4</th>\n",
       "      <td>Nonfiction</td>\n",
       "      <td>10179</td>\n",
       "      <td>0.044359</td>\n",
       "    </tr>\n",
       "  </tbody>\n",
       "</table>\n",
       "</div>"
      ],
      "text/plain": [
       "                     name   votes     score\n",
       "genre_id                                   \n",
       "0                 Fiction  110201  0.195253\n",
       "14               Classics   96456  0.096687\n",
       "21                Fantasy   25814  0.074261\n",
       "15        Science Fiction   14819  0.045902\n",
       "4              Nonfiction   10179  0.044359"
      ]
     },
     "execution_count": 49,
     "metadata": {},
     "output_type": "execute_result"
    }
   ],
   "source": [
    "# выведем список жанров, которые предпочитает пользователь\n",
    "\n",
    "user_genres = get_genres(user_items).copy()\n",
    "user_genres[\"score\"] = np.ravel(user_genres_scores)\n",
    "user_genres = user_genres[user_genres[\"score\"] > 0].sort_values(by=[\"score\"], ascending=False)\n",
    "\n",
    "user_genres.head(5)"
   ]
  },
  {
   "cell_type": "code",
   "execution_count": 50,
   "id": "1086a8ae",
   "metadata": {},
   "outputs": [],
   "source": [
    "from sklearn.metrics.pairwise import cosine_similarity\n",
    "\n",
    "# вычисляем сходство между вектором пользователя и векторами по книгам\n",
    "similarity_scores = cosine_similarity(user_items_genres_csr, user_genres_scores)\n",
    "\n",
    "# преобразуем в одномерный массив\n",
    "similarity_scores = similarity_scores.flatten()\n",
    "\n",
    "# получаем индексы top-k (по убыванию значений), по сути, индексы книг (encoded)\n",
    "k = 5\n",
    "top_k_indices = np.argsort(similarity_scores)"
   ]
  },
  {
   "cell_type": "code",
   "execution_count": 51,
   "id": "2ea375cd",
   "metadata": {},
   "outputs": [
    {
     "data": {
      "text/html": [
       "<div>\n",
       "<style scoped>\n",
       "    .dataframe tbody tr th:only-of-type {\n",
       "        vertical-align: middle;\n",
       "    }\n",
       "\n",
       "    .dataframe tbody tr th {\n",
       "        vertical-align: top;\n",
       "    }\n",
       "\n",
       "    .dataframe thead th {\n",
       "        text-align: right;\n",
       "    }\n",
       "</style>\n",
       "<table border=\"1\" class=\"dataframe\">\n",
       "  <thead>\n",
       "    <tr style=\"text-align: right;\">\n",
       "      <th></th>\n",
       "      <th>author</th>\n",
       "      <th>title</th>\n",
       "      <th>genre_and_votes</th>\n",
       "    </tr>\n",
       "  </thead>\n",
       "  <tbody>\n",
       "    <tr>\n",
       "      <th>861044</th>\n",
       "      <td>J.K. Rowling</td>\n",
       "      <td>Harry Potter and the Half-Blood Prince (Harry Potter, #6)</td>\n",
       "      <td>{'Fantasy': 46400, 'Young Adult': 15083, 'Fiction': 13083, 'Fantasy-Magic': 3815, 'Childrens': 2...</td>\n",
       "    </tr>\n",
       "    <tr>\n",
       "      <th>2083381</th>\n",
       "      <td>J.K. Rowling, Mary GrandPré</td>\n",
       "      <td>Harry Potter and the Order of the Phoenix (Harry Potter, #5)</td>\n",
       "      <td>{'Fantasy': 46485, 'Young Adult': 15194, 'Fiction': 13064}</td>\n",
       "    </tr>\n",
       "    <tr>\n",
       "      <th>1584855</th>\n",
       "      <td>J.K. Rowling, Mary GrandPré</td>\n",
       "      <td>Harry Potter and the Sorcerer's Stone (Harry Potter, #1)</td>\n",
       "      <td>{'Fantasy': 59818, 'Fiction': 17918, 'Young Adult': 17892, 'Fantasy-Magic': 4974, 'Childrens': 4...</td>\n",
       "    </tr>\n",
       "    <tr>\n",
       "      <th>1028676</th>\n",
       "      <td>J.K. Rowling, Mary GrandPré</td>\n",
       "      <td>Harry Potter and the Prisoner of Azkaban (Harry Potter, #3)</td>\n",
       "      <td>{'Fantasy': 49784, 'Young Adult': 15393, 'Fiction': 14272, 'Fantasy-Magic': 4199, 'Childrens': 3...</td>\n",
       "    </tr>\n",
       "    <tr>\n",
       "      <th>2251360</th>\n",
       "      <td>J.K. Rowling, Mary GrandPré</td>\n",
       "      <td>Harry Potter and the Goblet of Fire (Harry Potter, #4)</td>\n",
       "      <td>{'Fantasy': 48257, 'Young Adult': 15483, 'Fiction': 13649}</td>\n",
       "    </tr>\n",
       "    <tr>\n",
       "      <th>2335569</th>\n",
       "      <td>J.K. Rowling, Mary GrandPré</td>\n",
       "      <td>Harry Potter Boxed Set, Books 1-5 (Harry Potter, #1-5)</td>\n",
       "      <td>{'Fantasy': 113, 'Young Adult': 43, 'Fiction': 29, 'Fantasy-Magic': 22, 'Adventure': 9, 'Fantasy...</td>\n",
       "    </tr>\n",
       "    <tr>\n",
       "      <th>2334249</th>\n",
       "      <td>J.K. Rowling</td>\n",
       "      <td>Harry Potter Collection (Harry Potter, #1-6)</td>\n",
       "      <td>{'Fantasy': 282, 'Fiction': 96, 'Young Adult': 85, 'Fantasy-Magic': 35, 'Adventure': 19, 'Childr...</td>\n",
       "    </tr>\n",
       "    <tr>\n",
       "      <th>2334248</th>\n",
       "      <td>Douglas Adams</td>\n",
       "      <td>The Hitchhiker's Guide to the Galaxy (Hitchhiker's Guide to the Galaxy, #1)</td>\n",
       "      <td>{'Science Fiction': 13941, 'Fiction': 9853, 'Humor': 5340, 'Fantasy': 4304, 'Classics': 4179, 'H...</td>\n",
       "    </tr>\n",
       "    <tr>\n",
       "      <th>2334250</th>\n",
       "      <td>Douglas Adams</td>\n",
       "      <td>The Ultimate Hitchhiker's Guide to the Galaxy</td>\n",
       "      <td>{'Science Fiction': 3146, 'Fiction': 2511, 'Humor': 1394, 'Fantasy': 1052, 'Classics': 744}</td>\n",
       "    </tr>\n",
       "    <tr>\n",
       "      <th>1080474</th>\n",
       "      <td>Bill Bryson</td>\n",
       "      <td>A Short History of Nearly Everything</td>\n",
       "      <td>{'Nonfiction': 7715, 'Science': 5973, 'History': 4648, 'Audiobook': 502}</td>\n",
       "    </tr>\n",
       "    <tr>\n",
       "      <th>1080475</th>\n",
       "      <td>Bill Bryson</td>\n",
       "      <td>Bill Bryson's African Diary</td>\n",
       "      <td>{'Travel': 448, 'Nonfiction': 310, 'Cultural-Africa': 157, 'Humor': 46, 'Autobiography-Memoir': 45}</td>\n",
       "    </tr>\n",
       "    <tr>\n",
       "      <th>1080469</th>\n",
       "      <td>Bill Bryson</td>\n",
       "      <td>In a Sunburned Country</td>\n",
       "      <td>{'Travel': 2850, 'Nonfiction': 2463, 'Humor': 672, 'Cultural-Australia': 527, 'Autobiography-Mem...</td>\n",
       "    </tr>\n",
       "    <tr>\n",
       "      <th>1080470</th>\n",
       "      <td>Bill Bryson</td>\n",
       "      <td>I'm a Stranger Here Myself: Notes on Returning to America after Twenty Years Away</td>\n",
       "      <td>{'Nonfiction': 1635, 'Travel': 1306, 'Humor': 663, 'Autobiography-Memoir': 378, 'Writing-Essays'...</td>\n",
       "    </tr>\n",
       "    <tr>\n",
       "      <th>1080471</th>\n",
       "      <td>Bill Bryson</td>\n",
       "      <td>The Lost Continent: Travels in Small Town America</td>\n",
       "      <td>{'Travel': 1728, 'Nonfiction': 1319, 'Humor': 420, 'Autobiography-Memoir': 206}</td>\n",
       "    </tr>\n",
       "    <tr>\n",
       "      <th>832647</th>\n",
       "      <td>Bill Bryson</td>\n",
       "      <td>Neither Here nor There: Travels in Europe</td>\n",
       "      <td>{'Travel': 2175, 'Nonfiction': 1347, 'Humor': 399, 'Autobiography-Memoir': 221}</td>\n",
       "    </tr>\n",
       "    <tr>\n",
       "      <th>1080478</th>\n",
       "      <td>Bill Bryson</td>\n",
       "      <td>Notes from a Small Island</td>\n",
       "      <td>{'Travel': 2631, 'Nonfiction': 2491, 'Humor': 594, 'Autobiography-Memoir': 366, 'European Litera...</td>\n",
       "    </tr>\n",
       "    <tr>\n",
       "      <th>1080479</th>\n",
       "      <td>Bill Bryson</td>\n",
       "      <td>The Mother Tongue: English and How It Got That Way</td>\n",
       "      <td>{'Nonfiction': 2106, 'History': 711, 'Humanities-Language': 687}</td>\n",
       "    </tr>\n",
       "    <tr>\n",
       "      <th>2187516</th>\n",
       "      <td>J.R.R. Tolkien</td>\n",
       "      <td>J.R.R. Tolkien 4-Book Boxed Set: The Hobbit and The Lord of the Rings</td>\n",
       "      <td>{'Fantasy': 2173, 'Fiction': 629, 'Classics': 548}</td>\n",
       "    </tr>\n",
       "    <tr>\n",
       "      <th>2187513</th>\n",
       "      <td>J.R.R. Tolkien</td>\n",
       "      <td>The Lord of the Rings (The Lord of the Rings, #1-3)</td>\n",
       "      <td>{'Fantasy': 16354, 'Classics': 4836, 'Fiction': 4812}</td>\n",
       "    </tr>\n",
       "    <tr>\n",
       "      <th>2187520</th>\n",
       "      <td>J.R.R. Tolkien</td>\n",
       "      <td>The Fellowship of the Ring (The Lord of the Rings, #1)</td>\n",
       "      <td>{'Fantasy': 38907, 'Classics': 10145, 'Fiction': 9431}</td>\n",
       "    </tr>\n",
       "    <tr>\n",
       "      <th>2040860</th>\n",
       "      <td>Gary Paulsen</td>\n",
       "      <td>Hatchet (Brian's Saga, #1)</td>\n",
       "      <td>{'Young Adult': 2595, 'Fiction': 2198, 'Adventure': 1127, 'Classics': 1033, 'Childrens': 772, 'A...</td>\n",
       "    </tr>\n",
       "    <tr>\n",
       "      <th>2040854</th>\n",
       "      <td>Delia Sherman</td>\n",
       "      <td>Changeling (Changeling, #1)</td>\n",
       "      <td>{'Fantasy': 138, 'Young Adult': 34, 'Fantasy-Urban Fantasy': 23, 'Paranormal-Fairies': 19, 'Fict...</td>\n",
       "    </tr>\n",
       "  </tbody>\n",
       "</table>\n",
       "</div>"
      ],
      "text/plain": [
       "                              author  \\\n",
       "861044                  J.K. Rowling   \n",
       "2083381  J.K. Rowling, Mary GrandPré   \n",
       "1584855  J.K. Rowling, Mary GrandPré   \n",
       "1028676  J.K. Rowling, Mary GrandPré   \n",
       "2251360  J.K. Rowling, Mary GrandPré   \n",
       "2335569  J.K. Rowling, Mary GrandPré   \n",
       "2334249                 J.K. Rowling   \n",
       "2334248                Douglas Adams   \n",
       "2334250                Douglas Adams   \n",
       "1080474                  Bill Bryson   \n",
       "1080475                  Bill Bryson   \n",
       "1080469                  Bill Bryson   \n",
       "1080470                  Bill Bryson   \n",
       "1080471                  Bill Bryson   \n",
       "832647                   Bill Bryson   \n",
       "1080478                  Bill Bryson   \n",
       "1080479                  Bill Bryson   \n",
       "2187516               J.R.R. Tolkien   \n",
       "2187513               J.R.R. Tolkien   \n",
       "2187520               J.R.R. Tolkien   \n",
       "2040860                 Gary Paulsen   \n",
       "2040854                Delia Sherman   \n",
       "\n",
       "                                                                                     title  \\\n",
       "861044                           Harry Potter and the Half-Blood Prince (Harry Potter, #6)   \n",
       "2083381                       Harry Potter and the Order of the Phoenix (Harry Potter, #5)   \n",
       "1584855                           Harry Potter and the Sorcerer's Stone (Harry Potter, #1)   \n",
       "1028676                        Harry Potter and the Prisoner of Azkaban (Harry Potter, #3)   \n",
       "2251360                             Harry Potter and the Goblet of Fire (Harry Potter, #4)   \n",
       "2335569                             Harry Potter Boxed Set, Books 1-5 (Harry Potter, #1-5)   \n",
       "2334249                                       Harry Potter Collection (Harry Potter, #1-6)   \n",
       "2334248        The Hitchhiker's Guide to the Galaxy (Hitchhiker's Guide to the Galaxy, #1)   \n",
       "2334250                                      The Ultimate Hitchhiker's Guide to the Galaxy   \n",
       "1080474                                               A Short History of Nearly Everything   \n",
       "1080475                                                        Bill Bryson's African Diary   \n",
       "1080469                                                             In a Sunburned Country   \n",
       "1080470  I'm a Stranger Here Myself: Notes on Returning to America after Twenty Years Away   \n",
       "1080471                                  The Lost Continent: Travels in Small Town America   \n",
       "832647                                           Neither Here nor There: Travels in Europe   \n",
       "1080478                                                          Notes from a Small Island   \n",
       "1080479                                 The Mother Tongue: English and How It Got That Way   \n",
       "2187516              J.R.R. Tolkien 4-Book Boxed Set: The Hobbit and The Lord of the Rings   \n",
       "2187513                                The Lord of the Rings (The Lord of the Rings, #1-3)   \n",
       "2187520                             The Fellowship of the Ring (The Lord of the Rings, #1)   \n",
       "2040860                                                         Hatchet (Brian's Saga, #1)   \n",
       "2040854                                                        Changeling (Changeling, #1)   \n",
       "\n",
       "                                                                                             genre_and_votes  \n",
       "861044   {'Fantasy': 46400, 'Young Adult': 15083, 'Fiction': 13083, 'Fantasy-Magic': 3815, 'Childrens': 2...  \n",
       "2083381                                           {'Fantasy': 46485, 'Young Adult': 15194, 'Fiction': 13064}  \n",
       "1584855  {'Fantasy': 59818, 'Fiction': 17918, 'Young Adult': 17892, 'Fantasy-Magic': 4974, 'Childrens': 4...  \n",
       "1028676  {'Fantasy': 49784, 'Young Adult': 15393, 'Fiction': 14272, 'Fantasy-Magic': 4199, 'Childrens': 3...  \n",
       "2251360                                           {'Fantasy': 48257, 'Young Adult': 15483, 'Fiction': 13649}  \n",
       "2335569  {'Fantasy': 113, 'Young Adult': 43, 'Fiction': 29, 'Fantasy-Magic': 22, 'Adventure': 9, 'Fantasy...  \n",
       "2334249  {'Fantasy': 282, 'Fiction': 96, 'Young Adult': 85, 'Fantasy-Magic': 35, 'Adventure': 19, 'Childr...  \n",
       "2334248  {'Science Fiction': 13941, 'Fiction': 9853, 'Humor': 5340, 'Fantasy': 4304, 'Classics': 4179, 'H...  \n",
       "2334250          {'Science Fiction': 3146, 'Fiction': 2511, 'Humor': 1394, 'Fantasy': 1052, 'Classics': 744}  \n",
       "1080474                             {'Nonfiction': 7715, 'Science': 5973, 'History': 4648, 'Audiobook': 502}  \n",
       "1080475  {'Travel': 448, 'Nonfiction': 310, 'Cultural-Africa': 157, 'Humor': 46, 'Autobiography-Memoir': 45}  \n",
       "1080469  {'Travel': 2850, 'Nonfiction': 2463, 'Humor': 672, 'Cultural-Australia': 527, 'Autobiography-Mem...  \n",
       "1080470  {'Nonfiction': 1635, 'Travel': 1306, 'Humor': 663, 'Autobiography-Memoir': 378, 'Writing-Essays'...  \n",
       "1080471                      {'Travel': 1728, 'Nonfiction': 1319, 'Humor': 420, 'Autobiography-Memoir': 206}  \n",
       "832647                       {'Travel': 2175, 'Nonfiction': 1347, 'Humor': 399, 'Autobiography-Memoir': 221}  \n",
       "1080478  {'Travel': 2631, 'Nonfiction': 2491, 'Humor': 594, 'Autobiography-Memoir': 366, 'European Litera...  \n",
       "1080479                                     {'Nonfiction': 2106, 'History': 711, 'Humanities-Language': 687}  \n",
       "2187516                                                   {'Fantasy': 2173, 'Fiction': 629, 'Classics': 548}  \n",
       "2187513                                                {'Fantasy': 16354, 'Classics': 4836, 'Fiction': 4812}  \n",
       "2187520                                               {'Fantasy': 38907, 'Classics': 10145, 'Fiction': 9431}  \n",
       "2040860  {'Young Adult': 2595, 'Fiction': 2198, 'Adventure': 1127, 'Classics': 1033, 'Childrens': 772, 'A...  \n",
       "2040854  {'Fantasy': 138, 'Young Adult': 34, 'Fantasy-Urban Fantasy': 23, 'Paranormal-Fairies': 19, 'Fict...  "
      ]
     },
     "metadata": {},
     "output_type": "display_data"
    }
   ],
   "source": [
    "selected_items = items[items[\"item_id_enc\"].isin(top_k_indices)]\n",
    "\n",
    "with pd.option_context(\"max_colwidth\", 100):\n",
    "   display(selected_items[[\"author\", \"title\", \"genre_and_votes\"]])"
   ]
  },
  {
   "cell_type": "markdown",
   "id": "dfdeb7c3-0935-4bee-8b93-dfe26091289b",
   "metadata": {},
   "source": [
    "# === Базовые подходы: валидация"
   ]
  },
  {
   "cell_type": "code",
   "execution_count": 52,
   "id": "05850eab-168a-4338-8692-cd1a8fefb685",
   "metadata": {},
   "outputs": [],
   "source": [
    "def process_events_recs_for_binary_metrics(events_train, events_test, recs, top_k=None):\n",
    "\n",
    "    \"\"\"\n",
    "    размечает пары <user_id, item_id> для общего множества пользователей признаками\n",
    "    - gt (ground truth)\n",
    "    - pr (prediction)\n",
    "    top_k: расчёт ведётся только для top k-рекомендаций\n",
    "    \"\"\"\n",
    "\n",
    "    events_test[\"gt\"] = True\n",
    "    common_users = set(events_test[\"user_id\"]) & set(recs[\"user_id\"])\n",
    "\n",
    "    print(f\"Common users: {len(common_users)}\")\n",
    "    \n",
    "    events_for_common_users = events_test[events_test[\"user_id\"].isin(common_users)].copy()\n",
    "    recs_for_common_users = recs[recs[\"user_id\"].isin(common_users)].copy()\n",
    "\n",
    "    recs_for_common_users = recs_for_common_users.sort_values([\"user_id\", \"score\"], ascending=[True, False])\n",
    "\n",
    "    # оставляет только те item_id, которые были в events_train, \n",
    "    # т. к. модель не имела никакой возможности давать рекомендации для новых айтемов\n",
    "    events_for_common_users = events_for_common_users[events_for_common_users[\"item_id\"].isin(events_train[\"item_id\"].unique())]\n",
    "\n",
    "    if top_k is not None:\n",
    "        recs_for_common_users = recs_for_common_users.groupby(\"user_id\").head(top_k)\n",
    "    \n",
    "    events_recs_common = events_for_common_users[[\"user_id\", \"item_id\", \"gt\"]].merge(\n",
    "        recs_for_common_users[[\"user_id\", \"item_id\", \"score\"]], \n",
    "        on=[\"user_id\", \"item_id\"], how=\"outer\")    \n",
    "\n",
    "    events_recs_common[\"gt\"] = events_recs_common[\"gt\"].fillna(False)\n",
    "    events_recs_common[\"pr\"] = ~events_recs_common[\"score\"].isnull()\n",
    "    \n",
    "    events_recs_common[\"tp\"] = events_recs_common[\"gt\"] & events_recs_common[\"pr\"]\n",
    "    events_recs_common[\"fp\"] = ~events_recs_common[\"gt\"] & events_recs_common[\"pr\"]\n",
    "    events_recs_common[\"fn\"] = events_recs_common[\"gt\"] & ~events_recs_common[\"pr\"]\n",
    "\n",
    "    return events_recs_common"
   ]
  },
  {
   "cell_type": "code",
   "execution_count": 53,
   "id": "28f429e6-b9da-4231-afba-25dd8e606a23",
   "metadata": {},
   "outputs": [
    {
     "name": "stderr",
     "output_type": "stream",
     "text": [
      "/tmp/ipykernel_1868/3166051426.py:10: SettingWithCopyWarning: \n",
      "A value is trying to be set on a copy of a slice from a DataFrame.\n",
      "Try using .loc[row_indexer,col_indexer] = value instead\n",
      "\n",
      "See the caveats in the documentation: https://pandas.pydata.org/pandas-docs/stable/user_guide/indexing.html#returning-a-view-versus-a-copy\n",
      "  events_test[\"gt\"] = True\n"
     ]
    },
    {
     "name": "stdout",
     "output_type": "stream",
     "text": [
      "Common users: 123223\n"
     ]
    }
   ],
   "source": [
    "events_recs_for_binary_metrics = process_events_recs_for_binary_metrics(\n",
    "  events_train,\n",
    "    events_test, \n",
    "    als_recommendations, \n",
    "    top_k=5)"
   ]
  },
  {
   "cell_type": "code",
   "execution_count": 54,
   "id": "b4e4509b-6289-4ad6-a767-cbb2ace791ee",
   "metadata": {},
   "outputs": [],
   "source": [
    "def compute_cls_metrics(events_recs_for_binary_metric):\n",
    "    \n",
    "    groupper = events_recs_for_binary_metric.groupby(\"user_id\")\n",
    "\n",
    "    # precision = tp / (tp + fp)\n",
    "    precision = groupper[\"tp\"].sum()/(groupper[\"tp\"].sum()+groupper[\"fp\"].sum())\n",
    "    precision = precision.fillna(0).mean()\n",
    "    \n",
    "    # recall = tp / (tp + fn)\n",
    "    recall = groupper[\"tp\"].sum()/(groupper[\"tp\"].sum()+groupper[\"fn\"].sum())\n",
    "    recall = recall.fillna(0).mean()\n",
    "\n",
    "    return precision, recall"
   ]
  },
  {
   "cell_type": "code",
   "execution_count": 55,
   "id": "8715b088",
   "metadata": {},
   "outputs": [
    {
     "name": "stdout",
     "output_type": "stream",
     "text": [
      "0.007581376853347184\n",
      "0.014121568795222568\n"
     ]
    }
   ],
   "source": [
    "p, r = compute_cls_metrics(events_recs_for_binary_metrics)\n",
    "print(p)\n",
    "print(r)"
   ]
  },
  {
   "cell_type": "markdown",
   "id": "f78475fc-bee1-48f4-be55-329db8ecd326",
   "metadata": {},
   "source": [
    "# === Двухстадийный подход: метрики"
   ]
  },
  {
   "cell_type": "code",
   "execution_count": 67,
   "id": "2a4cf639-1afa-4e89-8ba5-eee48a1bd0e1",
   "metadata": {},
   "outputs": [
    {
     "name": "stdout",
     "output_type": "stream",
     "text": [
      "0.09\n"
     ]
    }
   ],
   "source": [
    "# расчёт покрытия по объектам\n",
    "cov_items = als_recommendations['item_id'].nunique() / items['item_id'].nunique()\n",
    "print(f\"{cov_items:.2f}\")"
   ]
  },
  {
   "cell_type": "code",
   "execution_count": 69,
   "id": "965361cc",
   "metadata": {},
   "outputs": [
    {
     "name": "stderr",
     "output_type": "stream",
     "text": [
      "/tmp/ipykernel_1868/3052700722.py:2: SettingWithCopyWarning: \n",
      "A value is trying to be set on a copy of a slice from a DataFrame.\n",
      "Try using .loc[row_indexer,col_indexer] = value instead\n",
      "\n",
      "See the caveats in the documentation: https://pandas.pydata.org/pandas-docs/stable/user_guide/indexing.html#returning-a-view-versus-a-copy\n",
      "  events_train[\"read\"] = True\n"
     ]
    }
   ],
   "source": [
    "# разметим каждую рекомендацию признаком read\n",
    "events_train[\"read\"] = True\n",
    "als_recommendations = als_recommendations.merge(events_train, on=[\"user_id\", \"item_id\"], how=\"left\")\n",
    "als_recommendations[\"read\"] = als_recommendations[\"read\"].fillna(False).astype(\"bool\")\n",
    "\n",
    "# проставим ранги\n",
    "als_recommendations = als_recommendations.sort_values(by=\"score\", ascending=False)\n",
    "als_recommendations[\"rank\"] = als_recommendations.groupby(\"user_id\").cumcount() + 1\n",
    "\n",
    "# посчитаем novelty по пользователям\n",
    "novelty_5 = (1-als_recommendations.query(\"rank <= 5\").groupby(\"user_id\")[\"read\"].mean())\n",
    "\n",
    "# посчитаем средний novelty\n",
    "# ваш код здесь #"
   ]
  },
  {
   "cell_type": "code",
   "execution_count": 70,
   "id": "f0749f4f",
   "metadata": {},
   "outputs": [
    {
     "data": {
      "text/html": [
       "<div>\n",
       "<style scoped>\n",
       "    .dataframe tbody tr th:only-of-type {\n",
       "        vertical-align: middle;\n",
       "    }\n",
       "\n",
       "    .dataframe tbody tr th {\n",
       "        vertical-align: top;\n",
       "    }\n",
       "\n",
       "    .dataframe thead th {\n",
       "        text-align: right;\n",
       "    }\n",
       "</style>\n",
       "<table border=\"1\" class=\"dataframe\">\n",
       "  <thead>\n",
       "    <tr style=\"text-align: right;\">\n",
       "      <th></th>\n",
       "      <th>user_id</th>\n",
       "      <th>item_id</th>\n",
       "      <th>score</th>\n",
       "      <th>rating_test</th>\n",
       "      <th>started_at</th>\n",
       "      <th>read_at</th>\n",
       "      <th>is_read</th>\n",
       "      <th>rating</th>\n",
       "      <th>is_reviewed</th>\n",
       "      <th>started_at_month</th>\n",
       "      <th>user_id_enc</th>\n",
       "      <th>item_id_enc</th>\n",
       "      <th>read</th>\n",
       "      <th>rank</th>\n",
       "    </tr>\n",
       "  </thead>\n",
       "  <tbody>\n",
       "    <tr>\n",
       "      <th>5783400</th>\n",
       "      <td>1057834</td>\n",
       "      <td>11387515</td>\n",
       "      <td>2.350082</td>\n",
       "      <td>NaN</td>\n",
       "      <td>2012-03-30</td>\n",
       "      <td>2012-04-01</td>\n",
       "      <td>True</td>\n",
       "      <td>3.0</td>\n",
       "      <td>True</td>\n",
       "      <td>2012-03-01</td>\n",
       "      <td>57834.0</td>\n",
       "      <td>29545.0</td>\n",
       "      <td>True</td>\n",
       "      <td>1</td>\n",
       "    </tr>\n",
       "    <tr>\n",
       "      <th>16444300</th>\n",
       "      <td>1164443</td>\n",
       "      <td>10964</td>\n",
       "      <td>2.234828</td>\n",
       "      <td>NaN</td>\n",
       "      <td>NaN</td>\n",
       "      <td>NaN</td>\n",
       "      <td>NaN</td>\n",
       "      <td>NaN</td>\n",
       "      <td>NaN</td>\n",
       "      <td>NaN</td>\n",
       "      <td>NaN</td>\n",
       "      <td>NaN</td>\n",
       "      <td>False</td>\n",
       "      <td>1</td>\n",
       "    </tr>\n",
       "    <tr>\n",
       "      <th>13665700</th>\n",
       "      <td>1136657</td>\n",
       "      <td>29056083</td>\n",
       "      <td>2.224506</td>\n",
       "      <td>NaN</td>\n",
       "      <td>NaN</td>\n",
       "      <td>NaN</td>\n",
       "      <td>NaN</td>\n",
       "      <td>NaN</td>\n",
       "      <td>NaN</td>\n",
       "      <td>NaN</td>\n",
       "      <td>NaN</td>\n",
       "      <td>NaN</td>\n",
       "      <td>False</td>\n",
       "      <td>1</td>\n",
       "    </tr>\n",
       "    <tr>\n",
       "      <th>32614600</th>\n",
       "      <td>1326146</td>\n",
       "      <td>9969571</td>\n",
       "      <td>2.193899</td>\n",
       "      <td>NaN</td>\n",
       "      <td>NaN</td>\n",
       "      <td>NaN</td>\n",
       "      <td>NaN</td>\n",
       "      <td>NaN</td>\n",
       "      <td>NaN</td>\n",
       "      <td>NaN</td>\n",
       "      <td>NaN</td>\n",
       "      <td>NaN</td>\n",
       "      <td>False</td>\n",
       "      <td>1</td>\n",
       "    </tr>\n",
       "    <tr>\n",
       "      <th>40560200</th>\n",
       "      <td>1405602</td>\n",
       "      <td>10964</td>\n",
       "      <td>2.181662</td>\n",
       "      <td>NaN</td>\n",
       "      <td>NaN</td>\n",
       "      <td>NaN</td>\n",
       "      <td>NaN</td>\n",
       "      <td>NaN</td>\n",
       "      <td>NaN</td>\n",
       "      <td>NaN</td>\n",
       "      <td>NaN</td>\n",
       "      <td>NaN</td>\n",
       "      <td>False</td>\n",
       "      <td>1</td>\n",
       "    </tr>\n",
       "    <tr>\n",
       "      <th>...</th>\n",
       "      <td>...</td>\n",
       "      <td>...</td>\n",
       "      <td>...</td>\n",
       "      <td>...</td>\n",
       "      <td>...</td>\n",
       "      <td>...</td>\n",
       "      <td>...</td>\n",
       "      <td>...</td>\n",
       "      <td>...</td>\n",
       "      <td>...</td>\n",
       "      <td>...</td>\n",
       "      <td>...</td>\n",
       "      <td>...</td>\n",
       "      <td>...</td>\n",
       "    </tr>\n",
       "    <tr>\n",
       "      <th>8736306</th>\n",
       "      <td>1087363</td>\n",
       "      <td>477</td>\n",
       "      <td>0.000000</td>\n",
       "      <td>NaN</td>\n",
       "      <td>NaN</td>\n",
       "      <td>NaN</td>\n",
       "      <td>NaN</td>\n",
       "      <td>NaN</td>\n",
       "      <td>NaN</td>\n",
       "      <td>NaN</td>\n",
       "      <td>NaN</td>\n",
       "      <td>NaN</td>\n",
       "      <td>False</td>\n",
       "      <td>96</td>\n",
       "    </tr>\n",
       "    <tr>\n",
       "      <th>8736307</th>\n",
       "      <td>1087363</td>\n",
       "      <td>475</td>\n",
       "      <td>0.000000</td>\n",
       "      <td>NaN</td>\n",
       "      <td>NaN</td>\n",
       "      <td>NaN</td>\n",
       "      <td>NaN</td>\n",
       "      <td>NaN</td>\n",
       "      <td>NaN</td>\n",
       "      <td>NaN</td>\n",
       "      <td>NaN</td>\n",
       "      <td>NaN</td>\n",
       "      <td>False</td>\n",
       "      <td>97</td>\n",
       "    </tr>\n",
       "    <tr>\n",
       "      <th>8736308</th>\n",
       "      <td>1087363</td>\n",
       "      <td>463</td>\n",
       "      <td>0.000000</td>\n",
       "      <td>NaN</td>\n",
       "      <td>NaN</td>\n",
       "      <td>NaN</td>\n",
       "      <td>NaN</td>\n",
       "      <td>NaN</td>\n",
       "      <td>NaN</td>\n",
       "      <td>NaN</td>\n",
       "      <td>NaN</td>\n",
       "      <td>NaN</td>\n",
       "      <td>False</td>\n",
       "      <td>98</td>\n",
       "    </tr>\n",
       "    <tr>\n",
       "      <th>8736309</th>\n",
       "      <td>1087363</td>\n",
       "      <td>456</td>\n",
       "      <td>0.000000</td>\n",
       "      <td>NaN</td>\n",
       "      <td>NaN</td>\n",
       "      <td>NaN</td>\n",
       "      <td>NaN</td>\n",
       "      <td>NaN</td>\n",
       "      <td>NaN</td>\n",
       "      <td>NaN</td>\n",
       "      <td>NaN</td>\n",
       "      <td>NaN</td>\n",
       "      <td>False</td>\n",
       "      <td>99</td>\n",
       "    </tr>\n",
       "    <tr>\n",
       "      <th>8736326</th>\n",
       "      <td>1087363</td>\n",
       "      <td>400</td>\n",
       "      <td>0.000000</td>\n",
       "      <td>NaN</td>\n",
       "      <td>NaN</td>\n",
       "      <td>NaN</td>\n",
       "      <td>NaN</td>\n",
       "      <td>NaN</td>\n",
       "      <td>NaN</td>\n",
       "      <td>NaN</td>\n",
       "      <td>NaN</td>\n",
       "      <td>NaN</td>\n",
       "      <td>False</td>\n",
       "      <td>100</td>\n",
       "    </tr>\n",
       "  </tbody>\n",
       "</table>\n",
       "<p>43058500 rows × 14 columns</p>\n",
       "</div>"
      ],
      "text/plain": [
       "          user_id   item_id     score  rating_test  started_at     read_at  \\\n",
       "5783400   1057834  11387515  2.350082          NaN  2012-03-30  2012-04-01   \n",
       "16444300  1164443     10964  2.234828          NaN         NaN         NaN   \n",
       "13665700  1136657  29056083  2.224506          NaN         NaN         NaN   \n",
       "32614600  1326146   9969571  2.193899          NaN         NaN         NaN   \n",
       "40560200  1405602     10964  2.181662          NaN         NaN         NaN   \n",
       "...           ...       ...       ...          ...         ...         ...   \n",
       "8736306   1087363       477  0.000000          NaN         NaN         NaN   \n",
       "8736307   1087363       475  0.000000          NaN         NaN         NaN   \n",
       "8736308   1087363       463  0.000000          NaN         NaN         NaN   \n",
       "8736309   1087363       456  0.000000          NaN         NaN         NaN   \n",
       "8736326   1087363       400  0.000000          NaN         NaN         NaN   \n",
       "\n",
       "         is_read  rating is_reviewed started_at_month  user_id_enc  \\\n",
       "5783400     True     3.0        True       2012-03-01      57834.0   \n",
       "16444300     NaN     NaN         NaN              NaN          NaN   \n",
       "13665700     NaN     NaN         NaN              NaN          NaN   \n",
       "32614600     NaN     NaN         NaN              NaN          NaN   \n",
       "40560200     NaN     NaN         NaN              NaN          NaN   \n",
       "...          ...     ...         ...              ...          ...   \n",
       "8736306      NaN     NaN         NaN              NaN          NaN   \n",
       "8736307      NaN     NaN         NaN              NaN          NaN   \n",
       "8736308      NaN     NaN         NaN              NaN          NaN   \n",
       "8736309      NaN     NaN         NaN              NaN          NaN   \n",
       "8736326      NaN     NaN         NaN              NaN          NaN   \n",
       "\n",
       "          item_id_enc   read  rank  \n",
       "5783400       29545.0   True     1  \n",
       "16444300          NaN  False     1  \n",
       "13665700          NaN  False     1  \n",
       "32614600          NaN  False     1  \n",
       "40560200          NaN  False     1  \n",
       "...               ...    ...   ...  \n",
       "8736306           NaN  False    96  \n",
       "8736307           NaN  False    97  \n",
       "8736308           NaN  False    98  \n",
       "8736309           NaN  False    99  \n",
       "8736326           NaN  False   100  \n",
       "\n",
       "[43058500 rows x 14 columns]"
      ]
     },
     "execution_count": 70,
     "metadata": {},
     "output_type": "execute_result"
    }
   ],
   "source": [
    "als_recommendations"
   ]
  },
  {
   "cell_type": "code",
   "execution_count": 73,
   "id": "99ce3f81",
   "metadata": {},
   "outputs": [
    {
     "data": {
      "text/plain": [
       "user_id\n",
       "1000000    0.2\n",
       "1000001    0.8\n",
       "1000002    0.8\n",
       "1000003    0.0\n",
       "1000004    0.0\n",
       "          ... \n",
       "1430580    0.8\n",
       "1430581    0.8\n",
       "1430582    0.8\n",
       "1430583    1.0\n",
       "1430584    0.8\n",
       "Name: read, Length: 430585, dtype: float64"
      ]
     },
     "execution_count": 73,
     "metadata": {},
     "output_type": "execute_result"
    }
   ],
   "source": [
    "novelty_5"
   ]
  },
  {
   "cell_type": "code",
   "execution_count": 72,
   "id": "18a77698",
   "metadata": {},
   "outputs": [
    {
     "data": {
      "text/plain": [
       "0.607333279143491"
      ]
     },
     "execution_count": 72,
     "metadata": {},
     "output_type": "execute_result"
    }
   ],
   "source": [
    "novelty_5.mean()"
   ]
  },
  {
   "cell_type": "markdown",
   "id": "4fbae6b6-b1e2-4bbf-b1ad-227f2916917f",
   "metadata": {},
   "source": [
    "# === Двухстадийный подход: модель"
   ]
  },
  {
   "cell_type": "code",
   "execution_count": null,
   "id": "2ef764d6-f2cc-4e72-bd7f-81a69dd7380d",
   "metadata": {},
   "outputs": [],
   "source": []
  },
  {
   "cell_type": "code",
   "execution_count": null,
   "id": "9dcc8048-f4b5-411f-913a-fd73c6a6ff2a",
   "metadata": {},
   "outputs": [],
   "source": []
  },
  {
   "cell_type": "code",
   "execution_count": null,
   "id": "dd6c82df-981f-441a-8dc2-c7b06ab2b6f7",
   "metadata": {},
   "outputs": [],
   "source": []
  },
  {
   "cell_type": "markdown",
   "id": "29b6ebd5-38a3-4f8e-8941-2f91fa70ca4e",
   "metadata": {},
   "source": [
    "# === Двухстадийный подход: построение признаков"
   ]
  },
  {
   "cell_type": "code",
   "execution_count": null,
   "id": "8788cba9-0396-46a2-b2af-1ecbd65b944e",
   "metadata": {},
   "outputs": [],
   "source": []
  },
  {
   "cell_type": "code",
   "execution_count": null,
   "id": "27aed9a2-88d9-4375-b0b0-7333aea7b1e0",
   "metadata": {},
   "outputs": [],
   "source": []
  },
  {
   "cell_type": "code",
   "execution_count": null,
   "id": "344f7f13-e43e-490c-a816-43d25c5a4a5f",
   "metadata": {},
   "outputs": [],
   "source": []
  }
 ],
 "metadata": {
  "kernelspec": {
   "display_name": "env_recsys_start",
   "language": "python",
   "name": "python3"
  },
  "language_info": {
   "codemirror_mode": {
    "name": "ipython",
    "version": 3
   },
   "file_extension": ".py",
   "mimetype": "text/x-python",
   "name": "python",
   "nbconvert_exporter": "python",
   "pygments_lexer": "ipython3",
   "version": "3.10.12"
  }
 },
 "nbformat": 4,
 "nbformat_minor": 5
}
