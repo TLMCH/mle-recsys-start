{
 "cells": [
  {
   "cell_type": "markdown",
   "id": "b3589a9a-ce16-4d2e-b581-d75139fc58b3",
   "metadata": {},
   "source": [
    "# Initialization"
   ]
  },
  {
   "cell_type": "code",
   "execution_count": 1,
   "id": "c6e28b2f-3822-4e27-b576-9bc42b279b32",
   "metadata": {},
   "outputs": [],
   "source": [
    "import logging\n",
    "\n",
    "import matplotlib.pyplot as plt\n",
    "import numpy as np\n",
    "import pandas as pd"
   ]
  },
  {
   "cell_type": "code",
   "execution_count": 2,
   "id": "4e53bc65-3e32-454b-b353-e9b95489c26c",
   "metadata": {},
   "outputs": [],
   "source": [
    "%matplotlib inline\n",
    "%config InlineBackend.figure_format = 'png'\n",
    "%config InlineBackend.figure_format = 'retina'"
   ]
  },
  {
   "cell_type": "markdown",
   "id": "e8b1d982-8795-45c2-b221-6e5a07eaa150",
   "metadata": {},
   "source": [
    "# Загрузка данных"
   ]
  },
  {
   "cell_type": "code",
   "execution_count": 3,
   "id": "6ab0db85-17df-4a4f-b23c-e9cd983d8c43",
   "metadata": {},
   "outputs": [],
   "source": [
    "items = pd.read_parquet(\"items.par\")\n",
    "events = pd.read_parquet(\"events.par\")"
   ]
  },
  {
   "cell_type": "markdown",
   "id": "f18f28dd-0371-4144-bf11-d077d44e8de0",
   "metadata": {},
   "source": [
    "# Разбиение с учётом хронологии"
   ]
  },
  {
   "cell_type": "markdown",
   "id": "47016708-6f94-4518-886c-58fa6e7bb315",
   "metadata": {},
   "source": [
    "Рекомендательные системы на практике работают с учётом хронологии. Поэтому поток событий для тренировки и валидации полезно делить на то, что уже случилось, и что ещё случится. Это позволяет проводить валидацию на тех же пользователях, на которых тренировались, но на их событиях в будущем."
   ]
  },
  {
   "cell_type": "markdown",
   "id": "e8df5897-bbcd-4364-b5d3-ec7d1de6743a",
   "metadata": {},
   "source": [
    "# === Знакомство: \"холодный\" старт"
   ]
  },
  {
   "cell_type": "markdown",
   "id": "b0b1a5ae",
   "metadata": {},
   "source": [
    "### Разбиение на тренировочную и тестовую выборки"
   ]
  },
  {
   "cell_type": "code",
   "execution_count": 4,
   "id": "4713c062-c9cd-425f-8174-cf133c4730d1",
   "metadata": {},
   "outputs": [
    {
     "name": "stdout",
     "output_type": "stream",
     "text": [
      "428220 123223 120858\n"
     ]
    }
   ],
   "source": [
    "# зададим точку разбиения\n",
    "train_test_global_time_split_date = pd.to_datetime(\"2017-08-01\").date()\n",
    "\n",
    "train_test_global_time_split_idx = events[\"started_at\"] < train_test_global_time_split_date\n",
    "events_train = events[train_test_global_time_split_idx]\n",
    "events_test = events[~train_test_global_time_split_idx]\n",
    "\n",
    "# количество пользователей в train и test\n",
    "users_train = events_train[\"user_id\"].drop_duplicates()\n",
    "users_test = events_test[\"user_id\"].drop_duplicates()\n",
    "# количество пользователей, которые есть и в train, и в test\n",
    "common_users = 0\n",
    "for i in users_test.values:\n",
    "    if i in users_train.values:\n",
    "        common_users += 1\n",
    "\n",
    "print(len(users_train), len(users_test), common_users)"
   ]
  },
  {
   "cell_type": "markdown",
   "id": "93146bbb",
   "metadata": {},
   "source": [
    "### Идентификация холодных пользователей"
   ]
  },
  {
   "cell_type": "code",
   "execution_count": null,
   "id": "4cb94a23-8d1d-4025-908f-f290013fa429",
   "metadata": {},
   "outputs": [],
   "source": [
    "cold_users = []\n",
    "\n",
    "for i in users_test.values:\n",
    "    if i not in users_train.values:\n",
    "        cold_users.append(i)\n",
    "\n",
    "print(len(cold_users))"
   ]
  },
  {
   "cell_type": "markdown",
   "id": "30bf3010",
   "metadata": {},
   "source": [
    "### топ-100 наиболее популярных книг"
   ]
  },
  {
   "cell_type": "code",
   "execution_count": 6,
   "id": "6f94990b-65c8-43cc-88da-ebe6a12163b4",
   "metadata": {},
   "outputs": [],
   "source": [
    "top_pop_start_date = pd.to_datetime(\"2015-01-01\").date()\n",
    "\n",
    "item_popularity = events_train \\\n",
    "    .query(\"started_at >= @top_pop_start_date\") \\\n",
    "    .groupby([\"item_id\"]).agg(users=(\"user_id\", \"nunique\"), avg_rating=(\"rating\", \"mean\")).reset_index()\n",
    "item_popularity[\"popularity_weighted\"] = item_popularity[\"users\"] * item_popularity[\"avg_rating\"]\n",
    "\n",
    "# сортируем по убыванию взвешенной популярности\n",
    "item_popularity = item_popularity.sort_values(by='popularity_weighted', ascending=False)\n",
    "\n",
    "# выбираем первые 100 айтемов со средней оценкой avg_rating не меньше 4\n",
    "top_k_pop_items = item_popularity.query(\"avg_rating >= 4\")[: 100]"
   ]
  },
  {
   "cell_type": "code",
   "execution_count": null,
   "id": "9c6e257f",
   "metadata": {},
   "outputs": [],
   "source": [
    "# добавляем информацию о книгах\n",
    "top_k_pop_items = top_k_pop_items.merge(\n",
    "    items.set_index(\"item_id\")[[\"author\", \"title\", \"genre_and_votes\", \"publication_year\"]], on=\"item_id\")\n",
    "\n",
    "with pd.option_context('display.max_rows', 10):\n",
    "    display(top_k_pop_items[[\"item_id\", \"author\", \"title\", \"publication_year\", \"users\", \"avg_rating\", \"popularity_weighted\", \"genre_and_votes\"]])"
   ]
  },
  {
   "cell_type": "code",
   "execution_count": 8,
   "id": "1789b9a3",
   "metadata": {},
   "outputs": [],
   "source": [
    "cold_users_events_with_recs = \\\n",
    "    events_test[events_test[\"user_id\"].isin(cold_users)] \\\n",
    "    .merge(top_k_pop_items, on=\"item_id\", how=\"left\")\n",
    "\n",
    "cold_user_items_no_avg_rating_idx = cold_users_events_with_recs[\"avg_rating\"].isnull()\n",
    "cold_user_recs = cold_users_events_with_recs[~cold_user_items_no_avg_rating_idx] \\\n",
    "    [[\"user_id\", \"item_id\", \"rating\", \"avg_rating\"]]"
   ]
  },
  {
   "cell_type": "code",
   "execution_count": null,
   "id": "84cf0cfd",
   "metadata": {},
   "outputs": [],
   "source": [
    "# Для какой доли событий «холодных» пользователей в events_test рекомендации в top_k_pop_items совпали по книгам?\n",
    "1 - (len(cold_user_recs) / len(cold_users_events_with_recs))"
   ]
  },
  {
   "cell_type": "markdown",
   "id": "0cdfc016",
   "metadata": {},
   "source": [
    "### Подсчет метрик rmse и mae для полученных рекомендаций."
   ]
  },
  {
   "cell_type": "code",
   "execution_count": null,
   "id": "cb16b385",
   "metadata": {},
   "outputs": [],
   "source": [
    "# посчитаем метрики рекомендаций\n",
    "from sklearn.metrics import mean_squared_error, mean_absolute_error\n",
    "\n",
    "rmse = mean_squared_error(cold_user_recs[\"rating\"], cold_user_recs[\"avg_rating\"], squared=False)\n",
    "mae = mean_absolute_error(cold_user_recs[\"rating\"], cold_user_recs[\"avg_rating\"])\n",
    "print(round(rmse, 2), round(mae, 2))"
   ]
  },
  {
   "cell_type": "code",
   "execution_count": null,
   "id": "b9a68d55",
   "metadata": {},
   "outputs": [],
   "source": [
    "# посчитаем покрытие холодных пользователей рекомендациями\n",
    "\n",
    "cold_users_hit_ratio = cold_users_events_with_recs.groupby(\"user_id\").agg(hits=(\"avg_rating\", lambda x: (~x.isnull()).mean()))\n",
    "\n",
    "print(f\"Доля пользователей без релевантных рекомендаций: {(cold_users_hit_ratio == 0).mean().iat[0]:.2f}\")\n",
    "print(f\"Среднее покрытие пользователей: {cold_users_hit_ratio[cold_users_hit_ratio != 0].mean().iat[0]:.2f}\")"
   ]
  },
  {
   "cell_type": "markdown",
   "id": "65ef157d-dd5a-4882-8208-40cd9cdfebfc",
   "metadata": {},
   "source": [
    "# === Знакомство: первые персональные рекомендации"
   ]
  },
  {
   "cell_type": "markdown",
   "id": "50a8c0c2",
   "metadata": {},
   "source": [
    "### Степень разреженности матрицы взаимодействий (U-I-матрицы)"
   ]
  },
  {
   "cell_type": "code",
   "execution_count": null,
   "id": "b687dc99-9aee-472f-9730-d5f17df99c7e",
   "metadata": {},
   "outputs": [],
   "source": [
    "non_empty_cells = events.shape[0]\n",
    "all_cells = events['user_id'].nunique() * events['item_id'].nunique()\n",
    "empty_cells = all_cells - non_empty_cells\n",
    "sparcity = empty_cells / all_cells\n",
    "sparcity"
   ]
  },
  {
   "cell_type": "code",
   "execution_count": null,
   "id": "4e804e6f-3348-407c-aa3c-fc50b6045d8d",
   "metadata": {},
   "outputs": [],
   "source": [
    "from surprise import Dataset, Reader\n",
    "from surprise import SVD\n",
    "\n",
    "# используем Reader из библиотеки surprise для преобразования событий (events)\n",
    "# в формат, необходимый surprise\n",
    "reader = Reader(rating_scale=(1, 5))\n",
    "surprise_train_set = Dataset.load_from_df(events_train[['user_id', 'item_id', 'rating']], reader)\n",
    "surprise_train_set = surprise_train_set.build_full_trainset()\n",
    "\n",
    "# инициализируем модель\n",
    "svd_model = SVD(n_factors=100, random_state=0)\n",
    "\n",
    "# обучаем модель\n",
    "svd_model.fit(surprise_train_set)"
   ]
  },
  {
   "cell_type": "code",
   "execution_count": 14,
   "id": "d2677881",
   "metadata": {},
   "outputs": [],
   "source": [
    "surprise_test_set = list(events_test[['user_id', 'item_id', 'rating']].itertuples(index=False))\n",
    "\n",
    "# получаем рекомендации для тестовой выборки\n",
    "svd_predictions = svd_model.test(surprise_test_set)"
   ]
  },
  {
   "cell_type": "code",
   "execution_count": null,
   "id": "1c103378",
   "metadata": {},
   "outputs": [],
   "source": [
    "from surprise import accuracy\n",
    "\n",
    "rmse = accuracy.rmse(svd_predictions)\n",
    "mae = accuracy.mae(svd_predictions)\n",
    "                     \n",
    "print(rmse, mae)"
   ]
  },
  {
   "cell_type": "code",
   "execution_count": 16,
   "id": "3a293525",
   "metadata": {},
   "outputs": [],
   "source": [
    "from surprise import NormalPredictor\n",
    "\n",
    "# инициализируем состояние генератора, это необходимо для получения\n",
    "# одной и той же последовательности случайных чисел, только в учебных целях\n",
    "np.random.seed(0)\n",
    "\n",
    "random_model = NormalPredictor()\n",
    "\n",
    "random_model.fit(surprise_train_set)\n",
    "random_predictions = random_model.test(surprise_test_set)"
   ]
  },
  {
   "cell_type": "code",
   "execution_count": null,
   "id": "bcfbd9a3",
   "metadata": {},
   "outputs": [],
   "source": [
    "mae_random = accuracy.mae(random_predictions)"
   ]
  },
  {
   "cell_type": "code",
   "execution_count": null,
   "id": "836936b3",
   "metadata": {},
   "outputs": [],
   "source": [
    "print(0.6460 / 0.9982 * 100)\n",
    "print(0.9982 / 0.6460 * 100)"
   ]
  },
  {
   "cell_type": "code",
   "execution_count": 19,
   "id": "203dafe2",
   "metadata": {},
   "outputs": [],
   "source": [
    "# readers_count = events.groupby([\"item_id\"]).agg(users=(\"user_id\", \"nunique\"))\n",
    "# rare_items = readers_count.query(\"users < 5\")\n",
    "# events = events[~events['item_id'].isin(rare_items['users'].index.values)]"
   ]
  },
  {
   "cell_type": "code",
   "execution_count": 20,
   "id": "77c5bbd5",
   "metadata": {},
   "outputs": [],
   "source": [
    "def get_recommendations_svd(user_id, all_items, events, model, include_seen=True, n=5):\n",
    "\n",
    "    \"\"\" возвращает n рекомендаций для user_id \"\"\"\n",
    "    \n",
    "    # получим список идентификаторов всех книг\n",
    "    all_items = set(events['item_id'].unique())\n",
    "        \n",
    "    # учитываем флаг, стоит ли уже прочитанные книги включать в рекомендации\n",
    "    if include_seen:\n",
    "        items_to_predict = list(all_items)\n",
    "    else:\n",
    "        # получим список книг, которые пользователь уже прочитал (\"видел\")\n",
    "        seen_items = set(events[user_id]['item_id'].unique())\n",
    "        \n",
    "        # книги, которые пользователь ещё не читал\n",
    "        # только их и будем включать в рекомендации\n",
    "        items_to_predict = list(all_items - seen_items)\n",
    "    \n",
    "    # получаем скоры для списка книг, т. е. рекомендации\n",
    "    predictions = [model.predict(user_id, item_id) for item_id in items_to_predict]\n",
    "    \n",
    "    # сортируем рекомендации по убыванию скора и берём только n первых\n",
    "    recommendations = sorted(predictions, key=lambda x: x.est, reverse=True)[:n]\n",
    "    \n",
    "    return pd.DataFrame([(pred.iid, pred.est) for pred in recommendations], columns=[\"item_id\", \"score\"])"
   ]
  },
  {
   "cell_type": "code",
   "execution_count": null,
   "id": "daeec0f2",
   "metadata": {},
   "outputs": [],
   "source": [
    "rec = get_recommendations_svd(1296647, items, events_train, svd_model)\n",
    "rec"
   ]
  },
  {
   "cell_type": "code",
   "execution_count": null,
   "id": "b761bbae",
   "metadata": {},
   "outputs": [],
   "source": [
    "# выберем произвольного пользователя из тренировочной выборки (\"прошлого\")\n",
    "user_id = events_train['user_id'].sample().iat[0]\n",
    "\n",
    "print(f\"user_id: {user_id}\")\n",
    "\n",
    "print(\"История (последние события, recent)\")\n",
    "user_history = (\n",
    "    events_train\n",
    "    .query(\"user_id == @user_id\")\n",
    "    .merge(items.set_index(\"item_id\")[[\"author\", \"title\", \"genre_and_votes\"]], on=\"item_id\")\n",
    ")\n",
    "user_history_to_print = user_history[[\"author\", \"title\", \"started_at\", \"read_at\", \"rating\", \"genre_and_votes\"]].tail(10)\n",
    "display(user_history_to_print)\n",
    "\n",
    "print(\"Рекомендации\")\n",
    "user_recommendations = get_recommendations_svd(user_id, items, events_train, svd_model)\n",
    "user_recommendations = user_recommendations.merge(items[[\"item_id\", \"author\", \"title\", \"genre_and_votes\"]], on=\"item_id\")\n",
    "display(user_recommendations)"
   ]
  },
  {
   "cell_type": "markdown",
   "id": "3817eb52-1161-4e4e-a263-0cb616794a8e",
   "metadata": {},
   "source": [
    "# === Базовые подходы: коллаборативная фильтрация"
   ]
  },
  {
   "cell_type": "code",
   "execution_count": 5,
   "id": "21789993-d0cd-4e74-96af-b3966d0f44c3",
   "metadata": {},
   "outputs": [
    {
     "name": "stderr",
     "output_type": "stream",
     "text": [
      "/tmp/ipykernel_2736/1044897688.py:8: SettingWithCopyWarning: \n",
      "A value is trying to be set on a copy of a slice from a DataFrame.\n",
      "Try using .loc[row_indexer,col_indexer] = value instead\n",
      "\n",
      "See the caveats in the documentation: https://pandas.pydata.org/pandas-docs/stable/user_guide/indexing.html#returning-a-view-versus-a-copy\n",
      "  events_train[\"user_id_enc\"] = user_encoder.transform(events_train[\"user_id\"])\n",
      "/tmp/ipykernel_2736/1044897688.py:9: SettingWithCopyWarning: \n",
      "A value is trying to be set on a copy of a slice from a DataFrame.\n",
      "Try using .loc[row_indexer,col_indexer] = value instead\n",
      "\n",
      "See the caveats in the documentation: https://pandas.pydata.org/pandas-docs/stable/user_guide/indexing.html#returning-a-view-versus-a-copy\n",
      "  events_test[\"user_id_enc\"] = user_encoder.transform(events_test[\"user_id\"])\n",
      "/tmp/ipykernel_2736/1044897688.py:16: SettingWithCopyWarning: \n",
      "A value is trying to be set on a copy of a slice from a DataFrame.\n",
      "Try using .loc[row_indexer,col_indexer] = value instead\n",
      "\n",
      "See the caveats in the documentation: https://pandas.pydata.org/pandas-docs/stable/user_guide/indexing.html#returning-a-view-versus-a-copy\n",
      "  events_train[\"item_id_enc\"] = item_encoder.transform(events_train[\"item_id\"])\n",
      "/tmp/ipykernel_2736/1044897688.py:17: SettingWithCopyWarning: \n",
      "A value is trying to be set on a copy of a slice from a DataFrame.\n",
      "Try using .loc[row_indexer,col_indexer] = value instead\n",
      "\n",
      "See the caveats in the documentation: https://pandas.pydata.org/pandas-docs/stable/user_guide/indexing.html#returning-a-view-versus-a-copy\n",
      "  events_test[\"item_id_enc\"] = item_encoder.transform(events_test[\"item_id\"])\n"
     ]
    }
   ],
   "source": [
    "import scipy\n",
    "import sklearn.preprocessing\n",
    "\n",
    "# перекодируем идентификаторы пользователей: \n",
    "# из имеющихся в последовательность 0, 1, 2, ...\n",
    "user_encoder = sklearn.preprocessing.LabelEncoder()\n",
    "user_encoder.fit(events[\"user_id\"])\n",
    "events_train[\"user_id_enc\"] = user_encoder.transform(events_train[\"user_id\"])\n",
    "events_test[\"user_id_enc\"] = user_encoder.transform(events_test[\"user_id\"])\n",
    "\n",
    "# перекодируем идентификаторы объектов: \n",
    "# из имеющихся в последовательность 0, 1, 2, ...\n",
    "item_encoder = sklearn.preprocessing.LabelEncoder()\n",
    "item_encoder.fit(items[\"item_id\"])\n",
    "items[\"item_id_enc\"] = item_encoder.transform(items[\"item_id\"])\n",
    "events_train[\"item_id_enc\"] = item_encoder.transform(events_train[\"item_id\"])\n",
    "events_test[\"item_id_enc\"] = item_encoder.transform(events_test[\"item_id\"])"
   ]
  },
  {
   "cell_type": "code",
   "execution_count": null,
   "id": "9a96f98d-0270-4a06-9063-a687dbffeca5",
   "metadata": {},
   "outputs": [],
   "source": [
    "#  размер матрицы взаимодействий в гигабайтах\n",
    "events_train[\"user_id_enc\"].nunique() * events_train[\"item_id_enc\"].nunique() / 1024**3"
   ]
  },
  {
   "cell_type": "code",
   "execution_count": 6,
   "id": "d9b938da",
   "metadata": {},
   "outputs": [],
   "source": [
    "# создаём sparse-матрицу формата CSR \n",
    "user_item_matrix_train = scipy.sparse.csr_matrix((\n",
    "    events_train[\"rating\"],\n",
    "    (events_train['user_id_enc'], events_train['item_id_enc'])),\n",
    "    dtype=np.int8)"
   ]
  },
  {
   "cell_type": "code",
   "execution_count": 7,
   "id": "608b5247",
   "metadata": {},
   "outputs": [
    {
     "data": {
      "text/plain": [
       "0.26370687410235405"
      ]
     },
     "execution_count": 7,
     "metadata": {},
     "output_type": "execute_result"
    }
   ],
   "source": [
    "#  размер sparse-матрицы формата CSR  в гигабайтах\n",
    "import sys\n",
    "\n",
    "sum([sys.getsizeof(i) for i in user_item_matrix_train.data])/1024**3"
   ]
  },
  {
   "cell_type": "code",
   "execution_count": 8,
   "id": "70c93788",
   "metadata": {},
   "outputs": [
    {
     "name": "stderr",
     "output_type": "stream",
     "text": [
      "/home/mle-user/sprint_4/env_recsys_start/lib/python3.10/site-packages/tqdm/auto.py:21: TqdmWarning: IProgress not found. Please update jupyter and ipywidgets. See https://ipywidgets.readthedocs.io/en/stable/user_install.html\n",
      "  from .autonotebook import tqdm as notebook_tqdm\n",
      "/home/mle-user/sprint_4/env_recsys_start/lib/python3.10/site-packages/implicit/cpu/als.py:95: RuntimeWarning: OpenBLAS is configured to use 4 threads. It is highly recommended to disable its internal threadpool by setting the environment variable 'OPENBLAS_NUM_THREADS=1' or by calling 'threadpoolctl.threadpool_limits(1, \"blas\")'. Having OpenBLAS use a threadpool can lead to severe performance issues here.\n",
      "  check_blas_config()\n",
      "100%|██████████| 50/50 [02:58<00:00,  3.58s/it]\n"
     ]
    }
   ],
   "source": [
    "# создание и тренировка модели\n",
    "from implicit.als import AlternatingLeastSquares\n",
    "\n",
    "als_model = AlternatingLeastSquares(factors=50, iterations=50, regularization=0.05, random_state=0)\n",
    "als_model.fit(user_item_matrix_train)"
   ]
  },
  {
   "cell_type": "code",
   "execution_count": 9,
   "id": "459fdb8e",
   "metadata": {},
   "outputs": [],
   "source": [
    "def get_recommendations_als(user_item_matrix, model, user_id, user_encoder, item_encoder, include_seen=True, n=5):\n",
    "    \"\"\"\n",
    "    Возвращает отранжированные рекомендации для заданного пользователя\n",
    "    \"\"\"\n",
    "    user_id_enc = user_encoder.transform([user_id])[0]\n",
    "    recommendations = model.recommend(\n",
    "         user_id_enc, \n",
    "         user_item_matrix[user_id_enc], \n",
    "         filter_already_liked_items=not include_seen,\n",
    "         N=n)\n",
    "    recommendations = pd.DataFrame({\"item_id_enc\": recommendations[0], \"score\": recommendations[1]})\n",
    "    recommendations[\"item_id\"] = item_encoder.inverse_transform(recommendations[\"item_id_enc\"])\n",
    "    \n",
    "    return recommendations"
   ]
  },
  {
   "cell_type": "code",
   "execution_count": 10,
   "id": "a995c240",
   "metadata": {},
   "outputs": [],
   "source": [
    "def user_history_and_recommendations(user_item_matrix, model, user_id, user_encoder, item_encoder, include_seen=True, n=5):\n",
    "    user_history = events_train[events_train['user_id'] == user_id]\n",
    "\n",
    "    history_text = f'''\n",
    "User id: {user_id} \n",
    "\n",
    "    User's history: \\n\n",
    "'''\n",
    "    for i in range(len(user_history)):\n",
    "        history_text += '\\t'\n",
    "        history_text += items[items[\"item_id_enc\"] == user_history.iloc[i, :]['item_id_enc']].iloc[0, 1]\n",
    "        history_text += ': '\n",
    "        history_text += items[items[\"item_id_enc\"] == user_history.iloc[i, :]['item_id_enc']].iloc[0, 2]\n",
    "        history_text += '\\n'\n",
    "\n",
    "    print(history_text)\n",
    "\n",
    "    rec = get_recommendations_als(user_item_matrix, model, user_id, user_encoder, item_encoder, include_seen, n)\n",
    "    \n",
    "    recommendation_text = f'''\n",
    "    User's recommendation:\\n\n",
    "'''\n",
    "    \n",
    "    for i in range(n):\n",
    "        recommendation_text += '\\t'\n",
    "        recommendation_text += items[items[\"item_id_enc\"] == rec.iloc[i, :]['item_id_enc']].iloc[0, 1]\n",
    "        recommendation_text += ': '\n",
    "        recommendation_text += items[items[\"item_id_enc\"] == rec.iloc[i, :]['item_id_enc']].iloc[0, 2]\n",
    "        recommendation_text += ' / '\n",
    "        if rec.iloc[i, :]['item_id_enc'] in user_history['item_id_enc'].values:\n",
    "            recommendation_text += 'пользователь прочитал рекоммендованную книгу'\n",
    "        else:\n",
    "            recommendation_text += 'пользователь не прочитал рекоммендованную книгу'\n",
    "        recommendation_text += '\\n'\n",
    "    \n",
    "    print(recommendation_text)"
   ]
  },
  {
   "cell_type": "code",
   "execution_count": 11,
   "id": "26f9172e",
   "metadata": {},
   "outputs": [
    {
     "name": "stdout",
     "output_type": "stream",
     "text": [
      "\n",
      "User id: 1000006 \n",
      "\n",
      "    User's history: \n",
      "\n",
      "\tMargaret Atwood: The Handmaid's Tale\n",
      "\tLouisa May Alcott: Little Women (Little Women, #1)\n",
      "\tGarth Stein: The Art of Racing in the Rain\n",
      "\tMaria Semple: Where'd You Go, Bernadette\n",
      "\tRoald Dahl, Quentin Blake: Matilda\n",
      "\tFrances Hodgson Burnett: The Secret Garden\n",
      "\tNina George, Simon Pare: The Little Paris Bookshop\n",
      "\tAziz Ansari, Eric Klinenberg: Modern Romance\n",
      "\tKennilworthy Whisp, J.K. Rowling: Quidditch Through the Ages\n",
      "\tAmy Schumer: The Girl with the Lower Back Tattoo\n",
      "\tJ.K. Rowling, Mary GrandPré: Harry Potter and the Sorcerer's Stone (Harry Potter, #1)\n",
      "\tDiane Ackerman: The Zookeeper's Wife\n",
      "\tJ.K. Rowling, Mary GrandPré: Harry Potter and the Chamber of Secrets (Harry Potter, #2)\n",
      "\tJ.K. Rowling, Mary GrandPré: Harry Potter and the Prisoner of Azkaban (Harry Potter, #3)\n",
      "\tJodi Picoult: Small Great Things\n",
      "\tJ.K. Rowling, Mary GrandPré: Harry Potter and the Goblet of Fire (Harry Potter, #4)\n",
      "\tWilliam L. Myers Jr.: A Criminal Defense\n",
      "\n",
      "\n",
      "    User's recommendation:\n",
      "\n",
      "\tJ.K. Rowling, Mary GrandPré: Harry Potter and the Sorcerer's Stone (Harry Potter, #1) / пользователь прочитал рекоммендованную книгу\n",
      "\tJ.K. Rowling, Mary GrandPré: Harry Potter and the Chamber of Secrets (Harry Potter, #2) / пользователь прочитал рекоммендованную книгу\n",
      "\tJ.K. Rowling, Mary GrandPré: Harry Potter and the Prisoner of Azkaban (Harry Potter, #3) / пользователь прочитал рекоммендованную книгу\n",
      "\tJ.K. Rowling, Mary GrandPré: Harry Potter and the Goblet of Fire (Harry Potter, #4) / пользователь прочитал рекоммендованную книгу\n",
      "\tJ.K. Rowling, Mary GrandPré: Harry Potter and the Order of the Phoenix (Harry Potter, #5) / пользователь не прочитал рекоммендованную книгу\n",
      "\n"
     ]
    }
   ],
   "source": [
    "user_history_and_recommendations(user_item_matrix_train, als_model, 1_000_006, user_encoder, item_encoder, include_seen=True, n=5)"
   ]
  },
  {
   "cell_type": "code",
   "execution_count": 12,
   "id": "cba5923a",
   "metadata": {},
   "outputs": [],
   "source": [
    "# получаем список всех возможных user_id (перекодированных)\n",
    "user_ids_encoded = range(len(user_encoder.classes_))\n",
    "\n",
    "# получаем рекомендации для всех пользователей\n",
    "als_recommendations = als_model.recommend(\n",
    "    user_ids_encoded, \n",
    "    user_item_matrix_train[user_ids_encoded], \n",
    "    filter_already_liked_items=False, N=100)"
   ]
  },
  {
   "cell_type": "code",
   "execution_count": 13,
   "id": "a7519226",
   "metadata": {},
   "outputs": [],
   "source": [
    "# преобразуем полученные рекомендации в табличный формат\n",
    "item_ids_enc = als_recommendations[0]\n",
    "als_scores = als_recommendations[1]\n",
    "\n",
    "als_recommendations = pd.DataFrame({\n",
    "    \"user_id_enc\": user_ids_encoded,\n",
    "    \"item_id_enc\": item_ids_enc.tolist(), \n",
    "    \"score\": als_scores.tolist()})\n",
    "als_recommendations = als_recommendations.explode([\"item_id_enc\", \"score\"], ignore_index=True)\n",
    "\n",
    "# приводим типы данных\n",
    "als_recommendations[\"item_id_enc\"] = als_recommendations[\"item_id_enc\"].astype(\"int\")\n",
    "als_recommendations[\"score\"] = als_recommendations[\"score\"].astype(\"float\")\n",
    "\n",
    "# получаем изначальные идентификаторы\n",
    "als_recommendations[\"user_id\"] = user_encoder.inverse_transform(als_recommendations[\"user_id_enc\"])\n",
    "als_recommendations[\"item_id\"] = item_encoder.inverse_transform(als_recommendations[\"item_id_enc\"])\n",
    "als_recommendations = als_recommendations.drop(columns=[\"user_id_enc\", \"item_id_enc\"])"
   ]
  },
  {
   "cell_type": "code",
   "execution_count": 14,
   "id": "2bbce5cc",
   "metadata": {},
   "outputs": [],
   "source": [
    "als_recommendations = als_recommendations[[\"user_id\", \"item_id\", \"score\"]]\n",
    "als_recommendations.to_parquet(\"als_recommendations.parquet\")"
   ]
  },
  {
   "cell_type": "code",
   "execution_count": 15,
   "id": "c9307235",
   "metadata": {},
   "outputs": [],
   "source": [
    "als_recommendations = (\n",
    "    als_recommendations\n",
    "    .merge(events_test[[\"user_id\", \"item_id\", \"rating\"]]\n",
    "               .rename(columns={\"rating\": \"rating_test\"}), \n",
    "           on=[\"user_id\", \"item_id\"], how=\"left\")\n",
    ")"
   ]
  },
  {
   "cell_type": "code",
   "execution_count": 16,
   "id": "8048e27e",
   "metadata": {},
   "outputs": [],
   "source": [
    "import sklearn.metrics\n",
    "\n",
    "def compute_ndcg(rating: pd.Series, score: pd.Series, k):\n",
    "\n",
    "    \"\"\" подсчёт ndcg\n",
    "    rating: истинные оценки\n",
    "    score: оценки модели\n",
    "    k: количество айтемов (по убыванию score) для оценки, остальные - отбрасываются\n",
    "    \"\"\"\n",
    "    \n",
    "    # если кол-во объектов меньше 2, то NDCG - не определена\n",
    "    if len(rating) < 2:\n",
    "        return np.nan\n",
    "\n",
    "    ndcg = sklearn.metrics.ndcg_score(np.asarray([rating.to_numpy()]), np.asarray([score.to_numpy()]), k=k)\n",
    "\n",
    "    return ndcg"
   ]
  },
  {
   "cell_type": "code",
   "execution_count": 17,
   "id": "8aae5452",
   "metadata": {},
   "outputs": [],
   "source": [
    "rating_test_idx = ~als_recommendations[\"rating_test\"].isnull()\n",
    "ndcg_at_5_scores = als_recommendations[rating_test_idx].groupby(\"user_id\").apply(lambda x: compute_ndcg(x[\"rating_test\"], x[\"score\"], k=5))"
   ]
  },
  {
   "cell_type": "code",
   "execution_count": 18,
   "id": "92355121",
   "metadata": {},
   "outputs": [
    {
     "name": "stdout",
     "output_type": "stream",
     "text": [
      "0.975946709792109\n"
     ]
    }
   ],
   "source": [
    "print(ndcg_at_5_scores.mean())"
   ]
  },
  {
   "cell_type": "code",
   "execution_count": 19,
   "id": "10654c65",
   "metadata": {},
   "outputs": [
    {
     "name": "stdout",
     "output_type": "stream",
     "text": [
      "2334248    The Hitchhiker's Guide to the Galaxy (Hitchhik...\n",
      "Name: title, dtype: object\n",
      "840143    The Restaurant at the End of the Universe (Hit...\n",
      "Name: title, dtype: object\n",
      "840144    Life, the Universe and Everything (Hitchhiker'...\n",
      "Name: title, dtype: object\n",
      "55118    So Long, and Thanks for All the Fish (Hitchhik...\n",
      "Name: title, dtype: object\n",
      "2334250    The Ultimate Hitchhiker's Guide to the Galaxy\n",
      "Name: title, dtype: object\n"
     ]
    }
   ],
   "source": [
    "a = als_model.similar_items(itemid=7, N=5, recalculate_item=False, item_users=user_item_matrix_train, filter_items=None, items=None)\n",
    "for i in range(5):\n",
    "    print(items[items['item_id_enc'] == a[0][i]]['title'])"
   ]
  },
  {
   "cell_type": "markdown",
   "id": "62575f67-f46e-4747-b3de-6ff5a87d0eba",
   "metadata": {},
   "source": [
    "# === Базовые подходы: контентные рекомендации"
   ]
  },
  {
   "cell_type": "code",
   "execution_count": 20,
   "id": "5ae7f494-3ee9-4f49-a61b-9dfb411518bd",
   "metadata": {},
   "outputs": [],
   "source": [
    "items[\"genre_and_votes\"] = items[\"genre_and_votes\"].apply(eval)"
   ]
  },
  {
   "cell_type": "code",
   "execution_count": 21,
   "id": "5f655832-4caa-4290-9b34-388e7b3f5d37",
   "metadata": {},
   "outputs": [],
   "source": [
    "def get_genres(items):\n",
    "\n",
    "    \"\"\" \n",
    "    извлекает список жанров по всем книгам, \n",
    "    подсчитывает долю голосов по каждому их них\n",
    "    \"\"\"\n",
    "    \n",
    "    genres_counter = {}\n",
    "    \n",
    "    for k, v, in items.iterrows():\n",
    "        genre_and_votes = v['genre_and_votes']\n",
    "        if genre_and_votes is None or not isinstance(genre_and_votes, dict):\n",
    "            continue\n",
    "        for genre, votes in genre_and_votes.items():\n",
    "            # увеличиваем счётчик жанров\n",
    "            try:\n",
    "                genres_counter[genre] += votes\n",
    "            except KeyError:\n",
    "                genres_counter[genre] = 0\n",
    "\n",
    "    genres = pd.Series(genres_counter, name=\"votes\")\n",
    "    genres = genres.to_frame()\n",
    "    genres = genres.reset_index().rename(columns={\"index\": \"name\"})\n",
    "    genres.index.name = \"genre_id\"\n",
    "    \n",
    "    return genres\n",
    "   \n",
    "genres = get_genres(items)"
   ]
  },
  {
   "cell_type": "code",
   "execution_count": 22,
   "id": "d8f945a6-bd08-4f17-84a3-4a82e00a29c6",
   "metadata": {},
   "outputs": [
    {
     "data": {
      "text/html": [
       "<div>\n",
       "<style scoped>\n",
       "    .dataframe tbody tr th:only-of-type {\n",
       "        vertical-align: middle;\n",
       "    }\n",
       "\n",
       "    .dataframe tbody tr th {\n",
       "        vertical-align: top;\n",
       "    }\n",
       "\n",
       "    .dataframe thead th {\n",
       "        text-align: right;\n",
       "    }\n",
       "</style>\n",
       "<table border=\"1\" class=\"dataframe\">\n",
       "  <thead>\n",
       "    <tr style=\"text-align: right;\">\n",
       "      <th></th>\n",
       "      <th>name</th>\n",
       "      <th>votes</th>\n",
       "      <th>score</th>\n",
       "    </tr>\n",
       "    <tr>\n",
       "      <th>genre_id</th>\n",
       "      <th></th>\n",
       "      <th></th>\n",
       "      <th></th>\n",
       "    </tr>\n",
       "  </thead>\n",
       "  <tbody>\n",
       "    <tr>\n",
       "      <th>25</th>\n",
       "      <td>Fantasy</td>\n",
       "      <td>6850060</td>\n",
       "      <td>0.149651</td>\n",
       "    </tr>\n",
       "    <tr>\n",
       "      <th>1</th>\n",
       "      <td>Fiction</td>\n",
       "      <td>6406256</td>\n",
       "      <td>0.139955</td>\n",
       "    </tr>\n",
       "    <tr>\n",
       "      <th>38</th>\n",
       "      <td>Classics</td>\n",
       "      <td>3414934</td>\n",
       "      <td>0.074605</td>\n",
       "    </tr>\n",
       "    <tr>\n",
       "      <th>18</th>\n",
       "      <td>Young Adult</td>\n",
       "      <td>3296951</td>\n",
       "      <td>0.072027</td>\n",
       "    </tr>\n",
       "    <tr>\n",
       "      <th>34</th>\n",
       "      <td>Romance</td>\n",
       "      <td>2422614</td>\n",
       "      <td>0.052926</td>\n",
       "    </tr>\n",
       "    <tr>\n",
       "      <th>5</th>\n",
       "      <td>Nonfiction</td>\n",
       "      <td>1737406</td>\n",
       "      <td>0.037957</td>\n",
       "    </tr>\n",
       "    <tr>\n",
       "      <th>16</th>\n",
       "      <td>Historical-Historical Fiction</td>\n",
       "      <td>1531205</td>\n",
       "      <td>0.033452</td>\n",
       "    </tr>\n",
       "    <tr>\n",
       "      <th>20</th>\n",
       "      <td>Mystery</td>\n",
       "      <td>1371196</td>\n",
       "      <td>0.029956</td>\n",
       "    </tr>\n",
       "    <tr>\n",
       "      <th>24</th>\n",
       "      <td>Science Fiction</td>\n",
       "      <td>1218917</td>\n",
       "      <td>0.026629</td>\n",
       "    </tr>\n",
       "    <tr>\n",
       "      <th>33</th>\n",
       "      <td>Fantasy-Paranormal</td>\n",
       "      <td>857012</td>\n",
       "      <td>0.018723</td>\n",
       "    </tr>\n",
       "  </tbody>\n",
       "</table>\n",
       "</div>"
      ],
      "text/plain": [
       "                                   name    votes     score\n",
       "genre_id                                                  \n",
       "25                              Fantasy  6850060  0.149651\n",
       "1                               Fiction  6406256  0.139955\n",
       "38                             Classics  3414934  0.074605\n",
       "18                          Young Adult  3296951  0.072027\n",
       "34                              Romance  2422614  0.052926\n",
       "5                            Nonfiction  1737406  0.037957\n",
       "16        Historical-Historical Fiction  1531205  0.033452\n",
       "20                              Mystery  1371196  0.029956\n",
       "24                      Science Fiction  1218917  0.026629\n",
       "33                   Fantasy-Paranormal   857012  0.018723"
      ]
     },
     "execution_count": 22,
     "metadata": {},
     "output_type": "execute_result"
    }
   ],
   "source": [
    "genres[\"score\"] = genres[\"votes\"] / genres[\"votes\"].sum()\n",
    "genres.sort_values(by=\"score\", ascending=False).head(10)"
   ]
  },
  {
   "cell_type": "code",
   "execution_count": 23,
   "id": "94af5d2b",
   "metadata": {},
   "outputs": [],
   "source": [
    "def get_item2genre_matrix(genres, items):\n",
    "\n",
    "    genre_names_to_id = genres.reset_index().set_index(\"name\")[\"genre_id\"].to_dict()\n",
    "    \n",
    "    # list to build CSR matrix\n",
    "    genres_csr_data = []\n",
    "    genres_csr_row_idx = []\n",
    "    genres_csr_col_idx = []\n",
    "    \n",
    "    for item_idx, (k, v) in enumerate(items.iterrows()):\n",
    "        if v[\"genre_and_votes\"] is None:\n",
    "            continue\n",
    "        for genre_name, votes in v[\"genre_and_votes\"].items():\n",
    "            genre_idx = genre_names_to_id[genre_name]\n",
    "            genres_csr_data.append(int(votes))\n",
    "            genres_csr_row_idx.append(item_idx)\n",
    "            genres_csr_col_idx.append(genre_idx)\n",
    "\n",
    "    genres_csr = scipy.sparse.csr_matrix((genres_csr_data, (genres_csr_row_idx, genres_csr_col_idx)), shape=(len(items), len(genres)))\n",
    "    # нормализуем, чтобы сумма оценок принадлежности к жанру была равна 1\n",
    "    genres_csr = sklearn.preprocessing.normalize(genres_csr, norm='l1', axis=1)\n",
    "    \n",
    "    return genres_csr"
   ]
  },
  {
   "cell_type": "code",
   "execution_count": 24,
   "id": "74fadaa9",
   "metadata": {},
   "outputs": [],
   "source": [
    "items = items.sort_values(by=\"item_id_enc\")\n",
    "all_items_genres_csr = get_item2genre_matrix(genres, items)"
   ]
  },
  {
   "cell_type": "code",
   "execution_count": 25,
   "id": "7c14b091",
   "metadata": {},
   "outputs": [
    {
     "data": {
      "text/plain": [
       "<Compressed Sparse Row sparse matrix of dtype 'float64'\n",
       "\twith 149 stored elements and shape (22, 56)>"
      ]
     },
     "execution_count": 25,
     "metadata": {},
     "output_type": "execute_result"
    }
   ],
   "source": [
    "user_id = 1000010\n",
    "user_events = events_train.query(\"user_id == @user_id\")[[\"item_id\", \"rating\"]]\n",
    "user_items = items[items[\"item_id\"].isin(user_events[\"item_id\"])]\n",
    "\n",
    "user_items_genres_csr = get_item2genre_matrix(get_genres(user_items), user_items)\n",
    "user_items_genres_csr"
   ]
  },
  {
   "cell_type": "code",
   "execution_count": 26,
   "id": "24bfcebc",
   "metadata": {},
   "outputs": [],
   "source": [
    "# вычислим склонность пользователя к жанрам как среднее взвешенное значение популяции на его оценки книг.\n",
    "\n",
    "# преобразуем пользовательские оценки из списка в вектор-столбец\n",
    "user_ratings = user_events[\"rating\"].to_numpy() / 5\n",
    "user_ratings = np.expand_dims(user_ratings, axis=1)\n",
    "\n",
    "user_items_genres_weighted = user_items_genres_csr.multiply(user_ratings)\n",
    "\n",
    "user_genres_scores = np.asarray(user_items_genres_weighted.mean(axis=0))"
   ]
  },
  {
   "cell_type": "code",
   "execution_count": 27,
   "id": "40f097cb",
   "metadata": {},
   "outputs": [
    {
     "data": {
      "text/html": [
       "<div>\n",
       "<style scoped>\n",
       "    .dataframe tbody tr th:only-of-type {\n",
       "        vertical-align: middle;\n",
       "    }\n",
       "\n",
       "    .dataframe tbody tr th {\n",
       "        vertical-align: top;\n",
       "    }\n",
       "\n",
       "    .dataframe thead th {\n",
       "        text-align: right;\n",
       "    }\n",
       "</style>\n",
       "<table border=\"1\" class=\"dataframe\">\n",
       "  <thead>\n",
       "    <tr style=\"text-align: right;\">\n",
       "      <th></th>\n",
       "      <th>name</th>\n",
       "      <th>votes</th>\n",
       "      <th>score</th>\n",
       "    </tr>\n",
       "    <tr>\n",
       "      <th>genre_id</th>\n",
       "      <th></th>\n",
       "      <th></th>\n",
       "      <th></th>\n",
       "    </tr>\n",
       "  </thead>\n",
       "  <tbody>\n",
       "    <tr>\n",
       "      <th>0</th>\n",
       "      <td>Fiction</td>\n",
       "      <td>110201</td>\n",
       "      <td>0.195253</td>\n",
       "    </tr>\n",
       "    <tr>\n",
       "      <th>14</th>\n",
       "      <td>Classics</td>\n",
       "      <td>96456</td>\n",
       "      <td>0.096687</td>\n",
       "    </tr>\n",
       "    <tr>\n",
       "      <th>21</th>\n",
       "      <td>Fantasy</td>\n",
       "      <td>25814</td>\n",
       "      <td>0.074261</td>\n",
       "    </tr>\n",
       "    <tr>\n",
       "      <th>15</th>\n",
       "      <td>Science Fiction</td>\n",
       "      <td>14819</td>\n",
       "      <td>0.045902</td>\n",
       "    </tr>\n",
       "    <tr>\n",
       "      <th>4</th>\n",
       "      <td>Nonfiction</td>\n",
       "      <td>10179</td>\n",
       "      <td>0.044359</td>\n",
       "    </tr>\n",
       "  </tbody>\n",
       "</table>\n",
       "</div>"
      ],
      "text/plain": [
       "                     name   votes     score\n",
       "genre_id                                   \n",
       "0                 Fiction  110201  0.195253\n",
       "14               Classics   96456  0.096687\n",
       "21                Fantasy   25814  0.074261\n",
       "15        Science Fiction   14819  0.045902\n",
       "4              Nonfiction   10179  0.044359"
      ]
     },
     "execution_count": 27,
     "metadata": {},
     "output_type": "execute_result"
    }
   ],
   "source": [
    "# выведем список жанров, которые предпочитает пользователь\n",
    "\n",
    "user_genres = get_genres(user_items).copy()\n",
    "user_genres[\"score\"] = np.ravel(user_genres_scores)\n",
    "user_genres = user_genres[user_genres[\"score\"] > 0].sort_values(by=[\"score\"], ascending=False)\n",
    "\n",
    "user_genres.head(5)"
   ]
  },
  {
   "cell_type": "code",
   "execution_count": 28,
   "id": "1086a8ae",
   "metadata": {},
   "outputs": [],
   "source": [
    "from sklearn.metrics.pairwise import cosine_similarity\n",
    "\n",
    "# вычисляем сходство между вектором пользователя и векторами по книгам\n",
    "similarity_scores = cosine_similarity(user_items_genres_csr, user_genres_scores)\n",
    "\n",
    "# преобразуем в одномерный массив\n",
    "similarity_scores = similarity_scores.flatten()\n",
    "\n",
    "# получаем индексы top-k (по убыванию значений), по сути, индексы книг (encoded)\n",
    "k = 5\n",
    "top_k_indices = np.argsort(similarity_scores)"
   ]
  },
  {
   "cell_type": "code",
   "execution_count": 29,
   "id": "2ea375cd",
   "metadata": {},
   "outputs": [
    {
     "data": {
      "text/html": [
       "<div>\n",
       "<style scoped>\n",
       "    .dataframe tbody tr th:only-of-type {\n",
       "        vertical-align: middle;\n",
       "    }\n",
       "\n",
       "    .dataframe tbody tr th {\n",
       "        vertical-align: top;\n",
       "    }\n",
       "\n",
       "    .dataframe thead th {\n",
       "        text-align: right;\n",
       "    }\n",
       "</style>\n",
       "<table border=\"1\" class=\"dataframe\">\n",
       "  <thead>\n",
       "    <tr style=\"text-align: right;\">\n",
       "      <th></th>\n",
       "      <th>author</th>\n",
       "      <th>title</th>\n",
       "      <th>genre_and_votes</th>\n",
       "    </tr>\n",
       "  </thead>\n",
       "  <tbody>\n",
       "    <tr>\n",
       "      <th>861044</th>\n",
       "      <td>J.K. Rowling</td>\n",
       "      <td>Harry Potter and the Half-Blood Prince (Harry Potter, #6)</td>\n",
       "      <td>{'Fantasy': 46400, 'Young Adult': 15083, 'Fiction': 13083, 'Fantasy-Magic': 3815, 'Childrens': 2...</td>\n",
       "    </tr>\n",
       "    <tr>\n",
       "      <th>2083381</th>\n",
       "      <td>J.K. Rowling, Mary GrandPré</td>\n",
       "      <td>Harry Potter and the Order of the Phoenix (Harry Potter, #5)</td>\n",
       "      <td>{'Fantasy': 46485, 'Young Adult': 15194, 'Fiction': 13064}</td>\n",
       "    </tr>\n",
       "    <tr>\n",
       "      <th>1584855</th>\n",
       "      <td>J.K. Rowling, Mary GrandPré</td>\n",
       "      <td>Harry Potter and the Sorcerer's Stone (Harry Potter, #1)</td>\n",
       "      <td>{'Fantasy': 59818, 'Fiction': 17918, 'Young Adult': 17892, 'Fantasy-Magic': 4974, 'Childrens': 4...</td>\n",
       "    </tr>\n",
       "    <tr>\n",
       "      <th>1028676</th>\n",
       "      <td>J.K. Rowling, Mary GrandPré</td>\n",
       "      <td>Harry Potter and the Prisoner of Azkaban (Harry Potter, #3)</td>\n",
       "      <td>{'Fantasy': 49784, 'Young Adult': 15393, 'Fiction': 14272, 'Fantasy-Magic': 4199, 'Childrens': 3...</td>\n",
       "    </tr>\n",
       "    <tr>\n",
       "      <th>2251360</th>\n",
       "      <td>J.K. Rowling, Mary GrandPré</td>\n",
       "      <td>Harry Potter and the Goblet of Fire (Harry Potter, #4)</td>\n",
       "      <td>{'Fantasy': 48257, 'Young Adult': 15483, 'Fiction': 13649}</td>\n",
       "    </tr>\n",
       "    <tr>\n",
       "      <th>2335569</th>\n",
       "      <td>J.K. Rowling, Mary GrandPré</td>\n",
       "      <td>Harry Potter Boxed Set, Books 1-5 (Harry Potter, #1-5)</td>\n",
       "      <td>{'Fantasy': 113, 'Young Adult': 43, 'Fiction': 29, 'Fantasy-Magic': 22, 'Adventure': 9, 'Fantasy...</td>\n",
       "    </tr>\n",
       "    <tr>\n",
       "      <th>2334249</th>\n",
       "      <td>J.K. Rowling</td>\n",
       "      <td>Harry Potter Collection (Harry Potter, #1-6)</td>\n",
       "      <td>{'Fantasy': 282, 'Fiction': 96, 'Young Adult': 85, 'Fantasy-Magic': 35, 'Adventure': 19, 'Childr...</td>\n",
       "    </tr>\n",
       "    <tr>\n",
       "      <th>2334248</th>\n",
       "      <td>Douglas Adams</td>\n",
       "      <td>The Hitchhiker's Guide to the Galaxy (Hitchhiker's Guide to the Galaxy, #1)</td>\n",
       "      <td>{'Science Fiction': 13941, 'Fiction': 9853, 'Humor': 5340, 'Fantasy': 4304, 'Classics': 4179, 'H...</td>\n",
       "    </tr>\n",
       "    <tr>\n",
       "      <th>2334250</th>\n",
       "      <td>Douglas Adams</td>\n",
       "      <td>The Ultimate Hitchhiker's Guide to the Galaxy</td>\n",
       "      <td>{'Science Fiction': 3146, 'Fiction': 2511, 'Humor': 1394, 'Fantasy': 1052, 'Classics': 744}</td>\n",
       "    </tr>\n",
       "    <tr>\n",
       "      <th>1080474</th>\n",
       "      <td>Bill Bryson</td>\n",
       "      <td>A Short History of Nearly Everything</td>\n",
       "      <td>{'Nonfiction': 7715, 'Science': 5973, 'History': 4648, 'Audiobook': 502}</td>\n",
       "    </tr>\n",
       "    <tr>\n",
       "      <th>1080475</th>\n",
       "      <td>Bill Bryson</td>\n",
       "      <td>Bill Bryson's African Diary</td>\n",
       "      <td>{'Travel': 448, 'Nonfiction': 310, 'Cultural-Africa': 157, 'Humor': 46, 'Autobiography-Memoir': 45}</td>\n",
       "    </tr>\n",
       "    <tr>\n",
       "      <th>1080469</th>\n",
       "      <td>Bill Bryson</td>\n",
       "      <td>In a Sunburned Country</td>\n",
       "      <td>{'Travel': 2850, 'Nonfiction': 2463, 'Humor': 672, 'Cultural-Australia': 527, 'Autobiography-Mem...</td>\n",
       "    </tr>\n",
       "    <tr>\n",
       "      <th>1080470</th>\n",
       "      <td>Bill Bryson</td>\n",
       "      <td>I'm a Stranger Here Myself: Notes on Returning to America after Twenty Years Away</td>\n",
       "      <td>{'Nonfiction': 1635, 'Travel': 1306, 'Humor': 663, 'Autobiography-Memoir': 378, 'Writing-Essays'...</td>\n",
       "    </tr>\n",
       "    <tr>\n",
       "      <th>1080471</th>\n",
       "      <td>Bill Bryson</td>\n",
       "      <td>The Lost Continent: Travels in Small Town America</td>\n",
       "      <td>{'Travel': 1728, 'Nonfiction': 1319, 'Humor': 420, 'Autobiography-Memoir': 206}</td>\n",
       "    </tr>\n",
       "    <tr>\n",
       "      <th>832647</th>\n",
       "      <td>Bill Bryson</td>\n",
       "      <td>Neither Here nor There: Travels in Europe</td>\n",
       "      <td>{'Travel': 2175, 'Nonfiction': 1347, 'Humor': 399, 'Autobiography-Memoir': 221}</td>\n",
       "    </tr>\n",
       "    <tr>\n",
       "      <th>1080478</th>\n",
       "      <td>Bill Bryson</td>\n",
       "      <td>Notes from a Small Island</td>\n",
       "      <td>{'Travel': 2631, 'Nonfiction': 2491, 'Humor': 594, 'Autobiography-Memoir': 366, 'European Litera...</td>\n",
       "    </tr>\n",
       "    <tr>\n",
       "      <th>1080479</th>\n",
       "      <td>Bill Bryson</td>\n",
       "      <td>The Mother Tongue: English and How It Got That Way</td>\n",
       "      <td>{'Nonfiction': 2106, 'History': 711, 'Humanities-Language': 687}</td>\n",
       "    </tr>\n",
       "    <tr>\n",
       "      <th>2187516</th>\n",
       "      <td>J.R.R. Tolkien</td>\n",
       "      <td>J.R.R. Tolkien 4-Book Boxed Set: The Hobbit and The Lord of the Rings</td>\n",
       "      <td>{'Fantasy': 2173, 'Fiction': 629, 'Classics': 548}</td>\n",
       "    </tr>\n",
       "    <tr>\n",
       "      <th>2187513</th>\n",
       "      <td>J.R.R. Tolkien</td>\n",
       "      <td>The Lord of the Rings (The Lord of the Rings, #1-3)</td>\n",
       "      <td>{'Fantasy': 16354, 'Classics': 4836, 'Fiction': 4812}</td>\n",
       "    </tr>\n",
       "    <tr>\n",
       "      <th>2187520</th>\n",
       "      <td>J.R.R. Tolkien</td>\n",
       "      <td>The Fellowship of the Ring (The Lord of the Rings, #1)</td>\n",
       "      <td>{'Fantasy': 38907, 'Classics': 10145, 'Fiction': 9431}</td>\n",
       "    </tr>\n",
       "    <tr>\n",
       "      <th>2040860</th>\n",
       "      <td>Gary Paulsen</td>\n",
       "      <td>Hatchet (Brian's Saga, #1)</td>\n",
       "      <td>{'Young Adult': 2595, 'Fiction': 2198, 'Adventure': 1127, 'Classics': 1033, 'Childrens': 772, 'A...</td>\n",
       "    </tr>\n",
       "    <tr>\n",
       "      <th>2040854</th>\n",
       "      <td>Delia Sherman</td>\n",
       "      <td>Changeling (Changeling, #1)</td>\n",
       "      <td>{'Fantasy': 138, 'Young Adult': 34, 'Fantasy-Urban Fantasy': 23, 'Paranormal-Fairies': 19, 'Fict...</td>\n",
       "    </tr>\n",
       "  </tbody>\n",
       "</table>\n",
       "</div>"
      ],
      "text/plain": [
       "                              author  \\\n",
       "861044                  J.K. Rowling   \n",
       "2083381  J.K. Rowling, Mary GrandPré   \n",
       "1584855  J.K. Rowling, Mary GrandPré   \n",
       "1028676  J.K. Rowling, Mary GrandPré   \n",
       "2251360  J.K. Rowling, Mary GrandPré   \n",
       "2335569  J.K. Rowling, Mary GrandPré   \n",
       "2334249                 J.K. Rowling   \n",
       "2334248                Douglas Adams   \n",
       "2334250                Douglas Adams   \n",
       "1080474                  Bill Bryson   \n",
       "1080475                  Bill Bryson   \n",
       "1080469                  Bill Bryson   \n",
       "1080470                  Bill Bryson   \n",
       "1080471                  Bill Bryson   \n",
       "832647                   Bill Bryson   \n",
       "1080478                  Bill Bryson   \n",
       "1080479                  Bill Bryson   \n",
       "2187516               J.R.R. Tolkien   \n",
       "2187513               J.R.R. Tolkien   \n",
       "2187520               J.R.R. Tolkien   \n",
       "2040860                 Gary Paulsen   \n",
       "2040854                Delia Sherman   \n",
       "\n",
       "                                                                                     title  \\\n",
       "861044                           Harry Potter and the Half-Blood Prince (Harry Potter, #6)   \n",
       "2083381                       Harry Potter and the Order of the Phoenix (Harry Potter, #5)   \n",
       "1584855                           Harry Potter and the Sorcerer's Stone (Harry Potter, #1)   \n",
       "1028676                        Harry Potter and the Prisoner of Azkaban (Harry Potter, #3)   \n",
       "2251360                             Harry Potter and the Goblet of Fire (Harry Potter, #4)   \n",
       "2335569                             Harry Potter Boxed Set, Books 1-5 (Harry Potter, #1-5)   \n",
       "2334249                                       Harry Potter Collection (Harry Potter, #1-6)   \n",
       "2334248        The Hitchhiker's Guide to the Galaxy (Hitchhiker's Guide to the Galaxy, #1)   \n",
       "2334250                                      The Ultimate Hitchhiker's Guide to the Galaxy   \n",
       "1080474                                               A Short History of Nearly Everything   \n",
       "1080475                                                        Bill Bryson's African Diary   \n",
       "1080469                                                             In a Sunburned Country   \n",
       "1080470  I'm a Stranger Here Myself: Notes on Returning to America after Twenty Years Away   \n",
       "1080471                                  The Lost Continent: Travels in Small Town America   \n",
       "832647                                           Neither Here nor There: Travels in Europe   \n",
       "1080478                                                          Notes from a Small Island   \n",
       "1080479                                 The Mother Tongue: English and How It Got That Way   \n",
       "2187516              J.R.R. Tolkien 4-Book Boxed Set: The Hobbit and The Lord of the Rings   \n",
       "2187513                                The Lord of the Rings (The Lord of the Rings, #1-3)   \n",
       "2187520                             The Fellowship of the Ring (The Lord of the Rings, #1)   \n",
       "2040860                                                         Hatchet (Brian's Saga, #1)   \n",
       "2040854                                                        Changeling (Changeling, #1)   \n",
       "\n",
       "                                                                                             genre_and_votes  \n",
       "861044   {'Fantasy': 46400, 'Young Adult': 15083, 'Fiction': 13083, 'Fantasy-Magic': 3815, 'Childrens': 2...  \n",
       "2083381                                           {'Fantasy': 46485, 'Young Adult': 15194, 'Fiction': 13064}  \n",
       "1584855  {'Fantasy': 59818, 'Fiction': 17918, 'Young Adult': 17892, 'Fantasy-Magic': 4974, 'Childrens': 4...  \n",
       "1028676  {'Fantasy': 49784, 'Young Adult': 15393, 'Fiction': 14272, 'Fantasy-Magic': 4199, 'Childrens': 3...  \n",
       "2251360                                           {'Fantasy': 48257, 'Young Adult': 15483, 'Fiction': 13649}  \n",
       "2335569  {'Fantasy': 113, 'Young Adult': 43, 'Fiction': 29, 'Fantasy-Magic': 22, 'Adventure': 9, 'Fantasy...  \n",
       "2334249  {'Fantasy': 282, 'Fiction': 96, 'Young Adult': 85, 'Fantasy-Magic': 35, 'Adventure': 19, 'Childr...  \n",
       "2334248  {'Science Fiction': 13941, 'Fiction': 9853, 'Humor': 5340, 'Fantasy': 4304, 'Classics': 4179, 'H...  \n",
       "2334250          {'Science Fiction': 3146, 'Fiction': 2511, 'Humor': 1394, 'Fantasy': 1052, 'Classics': 744}  \n",
       "1080474                             {'Nonfiction': 7715, 'Science': 5973, 'History': 4648, 'Audiobook': 502}  \n",
       "1080475  {'Travel': 448, 'Nonfiction': 310, 'Cultural-Africa': 157, 'Humor': 46, 'Autobiography-Memoir': 45}  \n",
       "1080469  {'Travel': 2850, 'Nonfiction': 2463, 'Humor': 672, 'Cultural-Australia': 527, 'Autobiography-Mem...  \n",
       "1080470  {'Nonfiction': 1635, 'Travel': 1306, 'Humor': 663, 'Autobiography-Memoir': 378, 'Writing-Essays'...  \n",
       "1080471                      {'Travel': 1728, 'Nonfiction': 1319, 'Humor': 420, 'Autobiography-Memoir': 206}  \n",
       "832647                       {'Travel': 2175, 'Nonfiction': 1347, 'Humor': 399, 'Autobiography-Memoir': 221}  \n",
       "1080478  {'Travel': 2631, 'Nonfiction': 2491, 'Humor': 594, 'Autobiography-Memoir': 366, 'European Litera...  \n",
       "1080479                                     {'Nonfiction': 2106, 'History': 711, 'Humanities-Language': 687}  \n",
       "2187516                                                   {'Fantasy': 2173, 'Fiction': 629, 'Classics': 548}  \n",
       "2187513                                                {'Fantasy': 16354, 'Classics': 4836, 'Fiction': 4812}  \n",
       "2187520                                               {'Fantasy': 38907, 'Classics': 10145, 'Fiction': 9431}  \n",
       "2040860  {'Young Adult': 2595, 'Fiction': 2198, 'Adventure': 1127, 'Classics': 1033, 'Childrens': 772, 'A...  \n",
       "2040854  {'Fantasy': 138, 'Young Adult': 34, 'Fantasy-Urban Fantasy': 23, 'Paranormal-Fairies': 19, 'Fict...  "
      ]
     },
     "metadata": {},
     "output_type": "display_data"
    }
   ],
   "source": [
    "selected_items = items[items[\"item_id_enc\"].isin(top_k_indices)]\n",
    "\n",
    "with pd.option_context(\"max_colwidth\", 100):\n",
    "   display(selected_items[[\"author\", \"title\", \"genre_and_votes\"]])"
   ]
  },
  {
   "cell_type": "markdown",
   "id": "dfdeb7c3-0935-4bee-8b93-dfe26091289b",
   "metadata": {},
   "source": [
    "# === Базовые подходы: валидация"
   ]
  },
  {
   "cell_type": "code",
   "execution_count": 30,
   "id": "05850eab-168a-4338-8692-cd1a8fefb685",
   "metadata": {},
   "outputs": [],
   "source": [
    "def process_events_recs_for_binary_metrics(events_train, events_test, recs, top_k=None):\n",
    "\n",
    "    \"\"\"\n",
    "    размечает пары <user_id, item_id> для общего множества пользователей признаками\n",
    "    - gt (ground truth)\n",
    "    - pr (prediction)\n",
    "    top_k: расчёт ведётся только для top k-рекомендаций\n",
    "    \"\"\"\n",
    "\n",
    "    events_test[\"gt\"] = True\n",
    "    common_users = set(events_test[\"user_id\"]) & set(recs[\"user_id\"])\n",
    "\n",
    "    print(f\"Common users: {len(common_users)}\")\n",
    "    \n",
    "    events_for_common_users = events_test[events_test[\"user_id\"].isin(common_users)].copy()\n",
    "    recs_for_common_users = recs[recs[\"user_id\"].isin(common_users)].copy()\n",
    "\n",
    "    recs_for_common_users = recs_for_common_users.sort_values([\"user_id\", \"score\"], ascending=[True, False])\n",
    "\n",
    "    # оставляет только те item_id, которые были в events_train, \n",
    "    # т. к. модель не имела никакой возможности давать рекомендации для новых айтемов\n",
    "    events_for_common_users = events_for_common_users[events_for_common_users[\"item_id\"].isin(events_train[\"item_id\"].unique())]\n",
    "\n",
    "    if top_k is not None:\n",
    "        recs_for_common_users = recs_for_common_users.groupby(\"user_id\").head(top_k)\n",
    "    \n",
    "    events_recs_common = events_for_common_users[[\"user_id\", \"item_id\", \"gt\"]].merge(\n",
    "        recs_for_common_users[[\"user_id\", \"item_id\", \"score\"]], \n",
    "        on=[\"user_id\", \"item_id\"], how=\"outer\")    \n",
    "\n",
    "    events_recs_common[\"gt\"] = events_recs_common[\"gt\"].fillna(False)\n",
    "    events_recs_common[\"pr\"] = ~events_recs_common[\"score\"].isnull()\n",
    "    \n",
    "    events_recs_common[\"tp\"] = events_recs_common[\"gt\"] & events_recs_common[\"pr\"]\n",
    "    events_recs_common[\"fp\"] = ~events_recs_common[\"gt\"] & events_recs_common[\"pr\"]\n",
    "    events_recs_common[\"fn\"] = events_recs_common[\"gt\"] & ~events_recs_common[\"pr\"]\n",
    "\n",
    "    return events_recs_common"
   ]
  },
  {
   "cell_type": "code",
   "execution_count": 31,
   "id": "28f429e6-b9da-4231-afba-25dd8e606a23",
   "metadata": {},
   "outputs": [
    {
     "name": "stderr",
     "output_type": "stream",
     "text": [
      "/tmp/ipykernel_2736/3166051426.py:10: SettingWithCopyWarning: \n",
      "A value is trying to be set on a copy of a slice from a DataFrame.\n",
      "Try using .loc[row_indexer,col_indexer] = value instead\n",
      "\n",
      "See the caveats in the documentation: https://pandas.pydata.org/pandas-docs/stable/user_guide/indexing.html#returning-a-view-versus-a-copy\n",
      "  events_test[\"gt\"] = True\n"
     ]
    },
    {
     "name": "stdout",
     "output_type": "stream",
     "text": [
      "Common users: 123223\n"
     ]
    }
   ],
   "source": [
    "events_recs_for_binary_metrics = process_events_recs_for_binary_metrics(\n",
    "  events_train,\n",
    "    events_test, \n",
    "    als_recommendations, \n",
    "    top_k=5)"
   ]
  },
  {
   "cell_type": "code",
   "execution_count": 32,
   "id": "b4e4509b-6289-4ad6-a767-cbb2ace791ee",
   "metadata": {},
   "outputs": [],
   "source": [
    "def compute_cls_metrics(events_recs_for_binary_metric):\n",
    "    \n",
    "    groupper = events_recs_for_binary_metric.groupby(\"user_id\")\n",
    "\n",
    "    # precision = tp / (tp + fp)\n",
    "    precision = groupper[\"tp\"].sum()/(groupper[\"tp\"].sum()+groupper[\"fp\"].sum())\n",
    "    precision = precision.fillna(0).mean()\n",
    "    \n",
    "    # recall = tp / (tp + fn)\n",
    "    recall = groupper[\"tp\"].sum()/(groupper[\"tp\"].sum()+groupper[\"fn\"].sum())\n",
    "    recall = recall.fillna(0).mean()\n",
    "\n",
    "    return precision, recall"
   ]
  },
  {
   "cell_type": "code",
   "execution_count": 33,
   "id": "8715b088",
   "metadata": {},
   "outputs": [
    {
     "name": "stdout",
     "output_type": "stream",
     "text": [
      "0.007581376853347184\n",
      "0.014121568795222568\n"
     ]
    }
   ],
   "source": [
    "p, r = compute_cls_metrics(events_recs_for_binary_metrics)\n",
    "print(p)\n",
    "print(r)"
   ]
  },
  {
   "cell_type": "markdown",
   "id": "f78475fc-bee1-48f4-be55-329db8ecd326",
   "metadata": {},
   "source": [
    "# === Двухстадийный подход: метрики"
   ]
  },
  {
   "cell_type": "code",
   "execution_count": 34,
   "id": "2a4cf639-1afa-4e89-8ba5-eee48a1bd0e1",
   "metadata": {},
   "outputs": [
    {
     "name": "stdout",
     "output_type": "stream",
     "text": [
      "0.09\n"
     ]
    }
   ],
   "source": [
    "# расчёт покрытия по объектам\n",
    "cov_items = als_recommendations['item_id'].nunique() / items['item_id'].nunique()\n",
    "print(f\"{cov_items:.2f}\")"
   ]
  },
  {
   "cell_type": "code",
   "execution_count": 35,
   "id": "965361cc",
   "metadata": {},
   "outputs": [
    {
     "name": "stderr",
     "output_type": "stream",
     "text": [
      "/tmp/ipykernel_2736/3052700722.py:2: SettingWithCopyWarning: \n",
      "A value is trying to be set on a copy of a slice from a DataFrame.\n",
      "Try using .loc[row_indexer,col_indexer] = value instead\n",
      "\n",
      "See the caveats in the documentation: https://pandas.pydata.org/pandas-docs/stable/user_guide/indexing.html#returning-a-view-versus-a-copy\n",
      "  events_train[\"read\"] = True\n"
     ]
    }
   ],
   "source": [
    "# разметим каждую рекомендацию признаком read\n",
    "events_train[\"read\"] = True\n",
    "als_recommendations = als_recommendations.merge(events_train, on=[\"user_id\", \"item_id\"], how=\"left\")\n",
    "als_recommendations[\"read\"] = als_recommendations[\"read\"].fillna(False).astype(\"bool\")\n",
    "\n",
    "# проставим ранги\n",
    "als_recommendations = als_recommendations.sort_values(by=\"score\", ascending=False)\n",
    "als_recommendations[\"rank\"] = als_recommendations.groupby(\"user_id\").cumcount() + 1\n",
    "\n",
    "# посчитаем novelty по пользователям\n",
    "novelty_5 = (1-als_recommendations.query(\"rank <= 5\").groupby(\"user_id\")[\"read\"].mean())\n",
    "\n",
    "# посчитаем средний novelty\n",
    "# ваш код здесь #"
   ]
  },
  {
   "cell_type": "code",
   "execution_count": 36,
   "id": "f0749f4f",
   "metadata": {},
   "outputs": [
    {
     "data": {
      "text/html": [
       "<div>\n",
       "<style scoped>\n",
       "    .dataframe tbody tr th:only-of-type {\n",
       "        vertical-align: middle;\n",
       "    }\n",
       "\n",
       "    .dataframe tbody tr th {\n",
       "        vertical-align: top;\n",
       "    }\n",
       "\n",
       "    .dataframe thead th {\n",
       "        text-align: right;\n",
       "    }\n",
       "</style>\n",
       "<table border=\"1\" class=\"dataframe\">\n",
       "  <thead>\n",
       "    <tr style=\"text-align: right;\">\n",
       "      <th></th>\n",
       "      <th>user_id</th>\n",
       "      <th>item_id</th>\n",
       "      <th>score</th>\n",
       "      <th>rating_test</th>\n",
       "      <th>started_at</th>\n",
       "      <th>read_at</th>\n",
       "      <th>is_read</th>\n",
       "      <th>rating</th>\n",
       "      <th>is_reviewed</th>\n",
       "      <th>started_at_month</th>\n",
       "      <th>user_id_enc</th>\n",
       "      <th>item_id_enc</th>\n",
       "      <th>read</th>\n",
       "      <th>rank</th>\n",
       "    </tr>\n",
       "  </thead>\n",
       "  <tbody>\n",
       "    <tr>\n",
       "      <th>5783400</th>\n",
       "      <td>1057834</td>\n",
       "      <td>11387515</td>\n",
       "      <td>2.350082</td>\n",
       "      <td>NaN</td>\n",
       "      <td>2012-03-30</td>\n",
       "      <td>2012-04-01</td>\n",
       "      <td>True</td>\n",
       "      <td>3.0</td>\n",
       "      <td>True</td>\n",
       "      <td>2012-03-01</td>\n",
       "      <td>57834.0</td>\n",
       "      <td>29545.0</td>\n",
       "      <td>True</td>\n",
       "      <td>1</td>\n",
       "    </tr>\n",
       "    <tr>\n",
       "      <th>16444300</th>\n",
       "      <td>1164443</td>\n",
       "      <td>10964</td>\n",
       "      <td>2.234828</td>\n",
       "      <td>NaN</td>\n",
       "      <td>NaN</td>\n",
       "      <td>NaN</td>\n",
       "      <td>NaN</td>\n",
       "      <td>NaN</td>\n",
       "      <td>NaN</td>\n",
       "      <td>NaN</td>\n",
       "      <td>NaN</td>\n",
       "      <td>NaN</td>\n",
       "      <td>False</td>\n",
       "      <td>1</td>\n",
       "    </tr>\n",
       "    <tr>\n",
       "      <th>13665700</th>\n",
       "      <td>1136657</td>\n",
       "      <td>29056083</td>\n",
       "      <td>2.224506</td>\n",
       "      <td>NaN</td>\n",
       "      <td>NaN</td>\n",
       "      <td>NaN</td>\n",
       "      <td>NaN</td>\n",
       "      <td>NaN</td>\n",
       "      <td>NaN</td>\n",
       "      <td>NaN</td>\n",
       "      <td>NaN</td>\n",
       "      <td>NaN</td>\n",
       "      <td>False</td>\n",
       "      <td>1</td>\n",
       "    </tr>\n",
       "    <tr>\n",
       "      <th>32614600</th>\n",
       "      <td>1326146</td>\n",
       "      <td>9969571</td>\n",
       "      <td>2.193899</td>\n",
       "      <td>NaN</td>\n",
       "      <td>NaN</td>\n",
       "      <td>NaN</td>\n",
       "      <td>NaN</td>\n",
       "      <td>NaN</td>\n",
       "      <td>NaN</td>\n",
       "      <td>NaN</td>\n",
       "      <td>NaN</td>\n",
       "      <td>NaN</td>\n",
       "      <td>False</td>\n",
       "      <td>1</td>\n",
       "    </tr>\n",
       "    <tr>\n",
       "      <th>40560200</th>\n",
       "      <td>1405602</td>\n",
       "      <td>10964</td>\n",
       "      <td>2.181662</td>\n",
       "      <td>NaN</td>\n",
       "      <td>NaN</td>\n",
       "      <td>NaN</td>\n",
       "      <td>NaN</td>\n",
       "      <td>NaN</td>\n",
       "      <td>NaN</td>\n",
       "      <td>NaN</td>\n",
       "      <td>NaN</td>\n",
       "      <td>NaN</td>\n",
       "      <td>False</td>\n",
       "      <td>1</td>\n",
       "    </tr>\n",
       "    <tr>\n",
       "      <th>...</th>\n",
       "      <td>...</td>\n",
       "      <td>...</td>\n",
       "      <td>...</td>\n",
       "      <td>...</td>\n",
       "      <td>...</td>\n",
       "      <td>...</td>\n",
       "      <td>...</td>\n",
       "      <td>...</td>\n",
       "      <td>...</td>\n",
       "      <td>...</td>\n",
       "      <td>...</td>\n",
       "      <td>...</td>\n",
       "      <td>...</td>\n",
       "      <td>...</td>\n",
       "    </tr>\n",
       "    <tr>\n",
       "      <th>8736306</th>\n",
       "      <td>1087363</td>\n",
       "      <td>477</td>\n",
       "      <td>0.000000</td>\n",
       "      <td>NaN</td>\n",
       "      <td>NaN</td>\n",
       "      <td>NaN</td>\n",
       "      <td>NaN</td>\n",
       "      <td>NaN</td>\n",
       "      <td>NaN</td>\n",
       "      <td>NaN</td>\n",
       "      <td>NaN</td>\n",
       "      <td>NaN</td>\n",
       "      <td>False</td>\n",
       "      <td>96</td>\n",
       "    </tr>\n",
       "    <tr>\n",
       "      <th>8736307</th>\n",
       "      <td>1087363</td>\n",
       "      <td>475</td>\n",
       "      <td>0.000000</td>\n",
       "      <td>NaN</td>\n",
       "      <td>NaN</td>\n",
       "      <td>NaN</td>\n",
       "      <td>NaN</td>\n",
       "      <td>NaN</td>\n",
       "      <td>NaN</td>\n",
       "      <td>NaN</td>\n",
       "      <td>NaN</td>\n",
       "      <td>NaN</td>\n",
       "      <td>False</td>\n",
       "      <td>97</td>\n",
       "    </tr>\n",
       "    <tr>\n",
       "      <th>8736308</th>\n",
       "      <td>1087363</td>\n",
       "      <td>463</td>\n",
       "      <td>0.000000</td>\n",
       "      <td>NaN</td>\n",
       "      <td>NaN</td>\n",
       "      <td>NaN</td>\n",
       "      <td>NaN</td>\n",
       "      <td>NaN</td>\n",
       "      <td>NaN</td>\n",
       "      <td>NaN</td>\n",
       "      <td>NaN</td>\n",
       "      <td>NaN</td>\n",
       "      <td>False</td>\n",
       "      <td>98</td>\n",
       "    </tr>\n",
       "    <tr>\n",
       "      <th>8736309</th>\n",
       "      <td>1087363</td>\n",
       "      <td>456</td>\n",
       "      <td>0.000000</td>\n",
       "      <td>NaN</td>\n",
       "      <td>NaN</td>\n",
       "      <td>NaN</td>\n",
       "      <td>NaN</td>\n",
       "      <td>NaN</td>\n",
       "      <td>NaN</td>\n",
       "      <td>NaN</td>\n",
       "      <td>NaN</td>\n",
       "      <td>NaN</td>\n",
       "      <td>False</td>\n",
       "      <td>99</td>\n",
       "    </tr>\n",
       "    <tr>\n",
       "      <th>8736326</th>\n",
       "      <td>1087363</td>\n",
       "      <td>400</td>\n",
       "      <td>0.000000</td>\n",
       "      <td>NaN</td>\n",
       "      <td>NaN</td>\n",
       "      <td>NaN</td>\n",
       "      <td>NaN</td>\n",
       "      <td>NaN</td>\n",
       "      <td>NaN</td>\n",
       "      <td>NaN</td>\n",
       "      <td>NaN</td>\n",
       "      <td>NaN</td>\n",
       "      <td>False</td>\n",
       "      <td>100</td>\n",
       "    </tr>\n",
       "  </tbody>\n",
       "</table>\n",
       "<p>43058500 rows × 14 columns</p>\n",
       "</div>"
      ],
      "text/plain": [
       "          user_id   item_id     score  rating_test  started_at     read_at  \\\n",
       "5783400   1057834  11387515  2.350082          NaN  2012-03-30  2012-04-01   \n",
       "16444300  1164443     10964  2.234828          NaN         NaN         NaN   \n",
       "13665700  1136657  29056083  2.224506          NaN         NaN         NaN   \n",
       "32614600  1326146   9969571  2.193899          NaN         NaN         NaN   \n",
       "40560200  1405602     10964  2.181662          NaN         NaN         NaN   \n",
       "...           ...       ...       ...          ...         ...         ...   \n",
       "8736306   1087363       477  0.000000          NaN         NaN         NaN   \n",
       "8736307   1087363       475  0.000000          NaN         NaN         NaN   \n",
       "8736308   1087363       463  0.000000          NaN         NaN         NaN   \n",
       "8736309   1087363       456  0.000000          NaN         NaN         NaN   \n",
       "8736326   1087363       400  0.000000          NaN         NaN         NaN   \n",
       "\n",
       "         is_read  rating is_reviewed started_at_month  user_id_enc  \\\n",
       "5783400     True     3.0        True       2012-03-01      57834.0   \n",
       "16444300     NaN     NaN         NaN              NaN          NaN   \n",
       "13665700     NaN     NaN         NaN              NaN          NaN   \n",
       "32614600     NaN     NaN         NaN              NaN          NaN   \n",
       "40560200     NaN     NaN         NaN              NaN          NaN   \n",
       "...          ...     ...         ...              ...          ...   \n",
       "8736306      NaN     NaN         NaN              NaN          NaN   \n",
       "8736307      NaN     NaN         NaN              NaN          NaN   \n",
       "8736308      NaN     NaN         NaN              NaN          NaN   \n",
       "8736309      NaN     NaN         NaN              NaN          NaN   \n",
       "8736326      NaN     NaN         NaN              NaN          NaN   \n",
       "\n",
       "          item_id_enc   read  rank  \n",
       "5783400       29545.0   True     1  \n",
       "16444300          NaN  False     1  \n",
       "13665700          NaN  False     1  \n",
       "32614600          NaN  False     1  \n",
       "40560200          NaN  False     1  \n",
       "...               ...    ...   ...  \n",
       "8736306           NaN  False    96  \n",
       "8736307           NaN  False    97  \n",
       "8736308           NaN  False    98  \n",
       "8736309           NaN  False    99  \n",
       "8736326           NaN  False   100  \n",
       "\n",
       "[43058500 rows x 14 columns]"
      ]
     },
     "execution_count": 36,
     "metadata": {},
     "output_type": "execute_result"
    }
   ],
   "source": [
    "als_recommendations"
   ]
  },
  {
   "cell_type": "code",
   "execution_count": 37,
   "id": "99ce3f81",
   "metadata": {},
   "outputs": [
    {
     "data": {
      "text/plain": [
       "user_id\n",
       "1000000    0.2\n",
       "1000001    0.8\n",
       "1000002    0.8\n",
       "1000003    0.0\n",
       "1000004    0.0\n",
       "          ... \n",
       "1430580    0.8\n",
       "1430581    0.8\n",
       "1430582    0.8\n",
       "1430583    1.0\n",
       "1430584    0.8\n",
       "Name: read, Length: 430585, dtype: float64"
      ]
     },
     "execution_count": 37,
     "metadata": {},
     "output_type": "execute_result"
    }
   ],
   "source": [
    "novelty_5"
   ]
  },
  {
   "cell_type": "code",
   "execution_count": null,
   "id": "18a77698",
   "metadata": {},
   "outputs": [],
   "source": [
    "novelty_5.mean()"
   ]
  },
  {
   "cell_type": "markdown",
   "id": "4fbae6b6-b1e2-4bbf-b1ad-227f2916917f",
   "metadata": {},
   "source": [
    "# === Двухстадийный подход: модель"
   ]
  },
  {
   "cell_type": "code",
   "execution_count": 38,
   "id": "2ef764d6-f2cc-4e72-bd7f-81a69dd7380d",
   "metadata": {},
   "outputs": [],
   "source": [
    "# задаём точку разбиения\n",
    "split_date_for_labels = pd.to_datetime(\"2017-09-15\").date()\n",
    "\n",
    "split_date_for_labels_idx = events_test[\"started_at\"] < split_date_for_labels\n",
    "events_labels = events_test[split_date_for_labels_idx].copy()\n",
    "events_test_2 = events_test[~split_date_for_labels_idx].copy() "
   ]
  },
  {
   "cell_type": "code",
   "execution_count": 39,
   "id": "9dcc8048-f4b5-411f-913a-fd73c6a6ff2a",
   "metadata": {},
   "outputs": [],
   "source": [
    "# загружаем рекомендации от двух базовых генераторов\n",
    "als_recommendations = pd.read_parquet(\"candidates/training/als_recommendations.parquet\")\n",
    "content_recommendations = pd.read_parquet(\"candidates/training/content_recommendations.parquet\")\n",
    "\n",
    "candidates = pd.merge(\n",
    "    als_recommendations[[\"user_id\", \"item_id\", \"score\"]].rename(columns={\"score\": \"als_score\"}),\n",
    "    content_recommendations[[\"user_id\", \"item_id\", \"score\"]].rename(columns={\"score\": \"cnt_score\"}),\n",
    "    on=[\"user_id\", \"item_id\"],\n",
    "    how=\"outer\") "
   ]
  },
  {
   "cell_type": "code",
   "execution_count": 40,
   "id": "dd6c82df-981f-441a-8dc2-c7b06ab2b6f7",
   "metadata": {},
   "outputs": [],
   "source": [
    "# добавляем таргет к кандидатам со значением:\n",
    "# — 1 для тех item_id, которые пользователь прочитал\n",
    "# — 0, для всех остальных \n",
    "\n",
    "events_labels[\"target\"] = 1\n",
    "candidates = candidates.merge(events_labels[[\"user_id\", \"item_id\", \"target\"]], \n",
    "                              on=[\"user_id\", \"item_id\"],\n",
    "                              how=\"left\")\n",
    "candidates[\"target\"] = candidates[\"target\"].fillna(0).astype(\"int\")\n",
    "\n",
    "# в кандидатах оставляем только тех пользователей, у которых есть хотя бы один положительный таргет\n",
    "candidates_to_sample = candidates.groupby(\"user_id\").filter(lambda x: x[\"target\"].sum() > 0)\n",
    "\n",
    "# для каждого пользователя оставляем только 4 негативных примера\n",
    "negatives_per_user = 4\n",
    "candidates_for_train = pd.concat([\n",
    "    candidates_to_sample.query(\"target == 1\"),\n",
    "    candidates_to_sample.query(\"target == 0\") \\\n",
    "        .groupby(\"user_id\") \\\n",
    "        .apply(lambda x: x.sample(negatives_per_user, random_state=0))\n",
    "    ])"
   ]
  },
  {
   "cell_type": "code",
   "execution_count": null,
   "id": "21d54f33",
   "metadata": {},
   "outputs": [],
   "source": [
    "candidates_for_train"
   ]
  },
  {
   "cell_type": "code",
   "execution_count": 41,
   "id": "cb8f382d",
   "metadata": {},
   "outputs": [
    {
     "name": "stdout",
     "output_type": "stream",
     "text": [
      "0:\tlearn: 0.6526057\ttotal: 67ms\tremaining: 1m 6s\n",
      "100:\tlearn: 0.5118959\ttotal: 1.92s\tremaining: 17.1s\n",
      "200:\tlearn: 0.5111710\ttotal: 3.81s\tremaining: 15.1s\n",
      "300:\tlearn: 0.5105208\ttotal: 5.75s\tremaining: 13.3s\n",
      "400:\tlearn: 0.5100174\ttotal: 7.67s\tremaining: 11.5s\n",
      "500:\tlearn: 0.5095747\ttotal: 9.59s\tremaining: 9.55s\n",
      "600:\tlearn: 0.5091600\ttotal: 11.5s\tremaining: 7.66s\n",
      "700:\tlearn: 0.5087803\ttotal: 13.4s\tremaining: 5.73s\n",
      "800:\tlearn: 0.5084220\ttotal: 15.4s\tremaining: 3.82s\n",
      "900:\tlearn: 0.5080930\ttotal: 17.3s\tremaining: 1.9s\n",
      "999:\tlearn: 0.5078081\ttotal: 19.2s\tremaining: 0us\n"
     ]
    },
    {
     "data": {
      "text/plain": [
       "<catboost.core.CatBoostClassifier at 0x7f2ae04cd7e0>"
      ]
     },
     "execution_count": 41,
     "metadata": {},
     "output_type": "execute_result"
    }
   ],
   "source": [
    "from catboost import CatBoostClassifier, Pool\n",
    "\n",
    "# задаём имена колонок признаков и таргета\n",
    "features = ['als_score', 'cnt_score']\n",
    "target = 'target'\n",
    "\n",
    "# Create the Pool object\n",
    "train_data = Pool(\n",
    "    data=candidates_for_train[features], \n",
    "    label=candidates_for_train[target])\n",
    "\n",
    "# инициализируем модель CatBoostClassifier\n",
    "cb_model = CatBoostClassifier(\n",
    "    iterations=1000,\n",
    "    learning_rate=0.1,\n",
    "    depth=6,\n",
    "    loss_function='Logloss',\n",
    "    verbose=100,\n",
    "    random_seed=0\n",
    ")\n",
    "\n",
    "# тренируем модель\n",
    "cb_model.fit(train_data)"
   ]
  },
  {
   "cell_type": "code",
   "execution_count": 42,
   "id": "9bf05a5c",
   "metadata": {},
   "outputs": [
    {
     "name": "stdout",
     "output_type": "stream",
     "text": [
      "14517152\n"
     ]
    }
   ],
   "source": [
    "# загружаем рекомендации от двух базовых генераторов\n",
    "als_recommendations_2 = pd.read_parquet(\"candidates/inference/als_recommendations.parquet\")\n",
    "content_recommendations_2 = pd.read_parquet(\"candidates/inference/content_recommendations.parquet\")\n",
    "\n",
    "candidates_to_rank = pd.merge(\n",
    "    als_recommendations_2[[\"user_id\", \"item_id\", \"score\"]].rename(columns={\"score\": \"als_score\"}),\n",
    "    content_recommendations_2[[\"user_id\", \"item_id\", \"score\"]].rename(columns={\"score\": \"cnt_score\"}),\n",
    "    on=[\"user_id\", \"item_id\"],\n",
    "    how=\"outer\")\n",
    "\n",
    "# оставляем только тех пользователей, что есть в тестовой выборке, для экономии ресурсов\n",
    "candidates_to_rank = candidates_to_rank[candidates_to_rank[\"user_id\"].isin(events_test_2[\"user_id\"].drop_duplicates())]\n",
    "print(len(candidates_to_rank))"
   ]
  },
  {
   "cell_type": "code",
   "execution_count": 43,
   "id": "d34e42f7",
   "metadata": {},
   "outputs": [
    {
     "data": {
      "text/html": [
       "<div>\n",
       "<style scoped>\n",
       "    .dataframe tbody tr th:only-of-type {\n",
       "        vertical-align: middle;\n",
       "    }\n",
       "\n",
       "    .dataframe tbody tr th {\n",
       "        vertical-align: top;\n",
       "    }\n",
       "\n",
       "    .dataframe thead th {\n",
       "        text-align: right;\n",
       "    }\n",
       "</style>\n",
       "<table border=\"1\" class=\"dataframe\">\n",
       "  <thead>\n",
       "    <tr style=\"text-align: right;\">\n",
       "      <th></th>\n",
       "      <th>user_id</th>\n",
       "      <th>item_id</th>\n",
       "      <th>als_score</th>\n",
       "      <th>cnt_score</th>\n",
       "      <th>cb_score</th>\n",
       "      <th>rank</th>\n",
       "    </tr>\n",
       "  </thead>\n",
       "  <tbody>\n",
       "    <tr>\n",
       "      <th>347</th>\n",
       "      <td>1000003</td>\n",
       "      <td>49628</td>\n",
       "      <td>0.446143</td>\n",
       "      <td>0.906649</td>\n",
       "      <td>0.583617</td>\n",
       "      <td>1</td>\n",
       "    </tr>\n",
       "    <tr>\n",
       "      <th>300</th>\n",
       "      <td>1000003</td>\n",
       "      <td>7260188</td>\n",
       "      <td>1.129979</td>\n",
       "      <td>NaN</td>\n",
       "      <td>0.509005</td>\n",
       "      <td>2</td>\n",
       "    </tr>\n",
       "    <tr>\n",
       "      <th>301</th>\n",
       "      <td>1000003</td>\n",
       "      <td>6148028</td>\n",
       "      <td>1.123475</td>\n",
       "      <td>NaN</td>\n",
       "      <td>0.509005</td>\n",
       "      <td>3</td>\n",
       "    </tr>\n",
       "    <tr>\n",
       "      <th>302</th>\n",
       "      <td>1000003</td>\n",
       "      <td>2767052</td>\n",
       "      <td>1.112699</td>\n",
       "      <td>NaN</td>\n",
       "      <td>0.509005</td>\n",
       "      <td>4</td>\n",
       "    </tr>\n",
       "    <tr>\n",
       "      <th>320</th>\n",
       "      <td>1000003</td>\n",
       "      <td>43641</td>\n",
       "      <td>0.617602</td>\n",
       "      <td>NaN</td>\n",
       "      <td>0.477032</td>\n",
       "      <td>5</td>\n",
       "    </tr>\n",
       "    <tr>\n",
       "      <th>...</th>\n",
       "      <td>...</td>\n",
       "      <td>...</td>\n",
       "      <td>...</td>\n",
       "      <td>...</td>\n",
       "      <td>...</td>\n",
       "      <td>...</td>\n",
       "    </tr>\n",
       "    <tr>\n",
       "      <th>43058095</th>\n",
       "      <td>1430580</td>\n",
       "      <td>23705512</td>\n",
       "      <td>0.016477</td>\n",
       "      <td>NaN</td>\n",
       "      <td>0.232760</td>\n",
       "      <td>96</td>\n",
       "    </tr>\n",
       "    <tr>\n",
       "      <th>43058096</th>\n",
       "      <td>1430580</td>\n",
       "      <td>6314763</td>\n",
       "      <td>0.016404</td>\n",
       "      <td>NaN</td>\n",
       "      <td>0.232760</td>\n",
       "      <td>97</td>\n",
       "    </tr>\n",
       "    <tr>\n",
       "      <th>43058097</th>\n",
       "      <td>1430580</td>\n",
       "      <td>11710373</td>\n",
       "      <td>0.016035</td>\n",
       "      <td>NaN</td>\n",
       "      <td>0.221228</td>\n",
       "      <td>98</td>\n",
       "    </tr>\n",
       "    <tr>\n",
       "      <th>43058098</th>\n",
       "      <td>1430580</td>\n",
       "      <td>7445</td>\n",
       "      <td>0.015793</td>\n",
       "      <td>NaN</td>\n",
       "      <td>0.221228</td>\n",
       "      <td>99</td>\n",
       "    </tr>\n",
       "    <tr>\n",
       "      <th>43058099</th>\n",
       "      <td>1430580</td>\n",
       "      <td>17802724</td>\n",
       "      <td>0.015771</td>\n",
       "      <td>NaN</td>\n",
       "      <td>0.221228</td>\n",
       "      <td>100</td>\n",
       "    </tr>\n",
       "  </tbody>\n",
       "</table>\n",
       "<p>7519400 rows × 6 columns</p>\n",
       "</div>"
      ],
      "text/plain": [
       "          user_id   item_id  als_score  cnt_score  cb_score  rank\n",
       "347       1000003     49628   0.446143   0.906649  0.583617     1\n",
       "300       1000003   7260188   1.129979        NaN  0.509005     2\n",
       "301       1000003   6148028   1.123475        NaN  0.509005     3\n",
       "302       1000003   2767052   1.112699        NaN  0.509005     4\n",
       "320       1000003     43641   0.617602        NaN  0.477032     5\n",
       "...           ...       ...        ...        ...       ...   ...\n",
       "43058095  1430580  23705512   0.016477        NaN  0.232760    96\n",
       "43058096  1430580   6314763   0.016404        NaN  0.232760    97\n",
       "43058097  1430580  11710373   0.016035        NaN  0.221228    98\n",
       "43058098  1430580      7445   0.015793        NaN  0.221228    99\n",
       "43058099  1430580  17802724   0.015771        NaN  0.221228   100\n",
       "\n",
       "[7519400 rows x 6 columns]"
      ]
     },
     "execution_count": 43,
     "metadata": {},
     "output_type": "execute_result"
    }
   ],
   "source": [
    "inference_data = Pool(data=candidates_to_rank[features])\n",
    "predictions = cb_model.predict_proba(inference_data)\n",
    "\n",
    "candidates_to_rank[\"cb_score\"] = predictions[:, 1]\n",
    "\n",
    "# для каждого пользователя проставляем rank, начиная с 1 — это максимальный cb_score\n",
    "candidates_to_rank = candidates_to_rank.sort_values([\"user_id\", \"cb_score\"], ascending=[True, False])\n",
    "candidates_to_rank['rank'] = candidates_to_rank.groupby('user_id')['cb_score'].rank(method='first', ascending=False).astype(int)\n",
    "\n",
    "max_recommendations_per_user = 100\n",
    "final_recommendations = candidates_to_rank.query('rank <= 100')\n",
    "final_recommendations"
   ]
  },
  {
   "cell_type": "code",
   "execution_count": 44,
   "id": "ccd33ba8",
   "metadata": {},
   "outputs": [
    {
     "name": "stdout",
     "output_type": "stream",
     "text": [
      "Common users: 75194\n",
      "precision: 0.006, recall: 0.015\n"
     ]
    }
   ],
   "source": [
    "events_inference = pd.concat([events_train, events_labels])\n",
    "\n",
    "cb_events_recs_for_binary_metrics_5 = process_events_recs_for_binary_metrics(\n",
    "    events_inference,\n",
    "    events_test_2,\n",
    "    final_recommendations.rename(columns={\"cb_score\": \"score\"}), \n",
    "    top_k=5)\n",
    "\n",
    "cb_precision_5, cb_recall_5 = compute_cls_metrics(cb_events_recs_for_binary_metrics_5)\n",
    "\n",
    "print(f\"precision: {cb_precision_5:.3f}, recall: {cb_recall_5:.3f}\") "
   ]
  },
  {
   "cell_type": "markdown",
   "id": "29b6ebd5-38a3-4f8e-8941-2f91fa70ca4e",
   "metadata": {},
   "source": [
    "# === Двухстадийный подход: построение признаков"
   ]
  },
  {
   "cell_type": "code",
   "execution_count": 45,
   "id": "8788cba9-0396-46a2-b2af-1ecbd65b944e",
   "metadata": {},
   "outputs": [],
   "source": [
    "items[\"age\"] = 2018 - items[\"publication_year\"]\n",
    "invalid_age_idx = items[\"age\"] < 0\n",
    "items.loc[invalid_age_idx, \"age\"] = np.nan\n",
    "items[\"age\"] = items[\"age\"].astype(\"float\")\n",
    "\n",
    "candidates_for_train = candidates_for_train.merge(items[['age', 'item_id']], on=['item_id'])\n",
    "candidates_to_rank = candidates_to_rank.merge(items[['age', 'item_id']], on=['item_id'])"
   ]
  },
  {
   "cell_type": "code",
   "execution_count": 46,
   "id": "27aed9a2-88d9-4375-b0b0-7333aea7b1e0",
   "metadata": {},
   "outputs": [],
   "source": [
    "def get_user_features(events):\n",
    "    \"\"\" считает пользовательские признаки \"\"\"\n",
    "    \n",
    "    user_features = events.groupby(\"user_id\").agg(\n",
    "        reading_years=(\"started_at\", lambda x: (x.max()-x.min()).days/365.25),\n",
    "        books_read=('item_id', 'count'),\n",
    "        rating_avg=(\"rating\", \"mean\"),\n",
    "        rating_std=(\"rating\", \"std\"))\n",
    "    \n",
    "    user_features[\"books_per_year\"] = user_features[\"books_read\"] / user_features[\"reading_years\"]\n",
    "    \n",
    "    return user_features\n",
    "    \n",
    "user_features_for_train = get_user_features(events_train)\n",
    "candidates_for_train = candidates_for_train.merge(user_features_for_train, on=\"user_id\", how=\"left\")\n",
    "  \n",
    "# оставим только тех пользователей, что есть в тесте, для экономии ресурсов\n",
    "events_inference = pd.concat([events_train, events_labels])\n",
    "events_inference = events_inference[events_inference[\"user_id\"].isin(events_test[\"user_id\"].drop_duplicates())]\n",
    "\n",
    "user_features_for_ranking = get_user_features(events_test)\n",
    "candidates_to_rank = candidates_to_rank.merge(user_features_for_ranking, on=\"user_id\", how=\"left\")"
   ]
  },
  {
   "cell_type": "code",
   "execution_count": 47,
   "id": "ae9f093c",
   "metadata": {},
   "outputs": [],
   "source": [
    "# определяем индексы топ-10 жанров и всех остальных\n",
    "genres_top_k = 10\n",
    "genres_top_idx = genres.sort_values(\"votes\", ascending=False).head(genres_top_k).index\n",
    "genres_others_idx = list(set(genres.index) - set(genres_top_idx))\n",
    "\n",
    "genres_top_columns = [f\"genre_{id}\" for id in genres_top_idx]\n",
    "genres_others_column = \"genre_others\"\n",
    "genre_columns = genres_top_columns + [genres_others_column]\n",
    "\n",
    "# составляем таблицу принадлежности книг к жанрам\n",
    "item_genres = (\n",
    "    pd.concat([\n",
    "        # топ жанров\n",
    "        pd.DataFrame(all_items_genres_csr[:, genres_top_idx].toarray(), columns=genres_top_columns),\n",
    "        # все остальные жанры\n",
    "        pd.DataFrame(all_items_genres_csr[:, genres_others_idx].sum(axis=1), columns=[genres_others_column])\n",
    "        ],\n",
    "        axis=1)\n",
    "    .reset_index()\n",
    "    .rename(columns={\"index\": \"item_id_enc\"})\n",
    ")\n",
    "\n",
    "# объединяем информацию принадлежности книг к жанрам с основной информацией о книгах\n",
    "items = items.merge(item_genres, on=\"item_id_enc\", how=\"left\")\n",
    "\n",
    "def get_user_genres(events, items, item_genre_columns):\n",
    "    user_genres = (\n",
    "        events\n",
    "        .merge(items[[\"item_id\"] + item_genre_columns], on=\"item_id\", how=\"left\")\n",
    "        .groupby(\"user_id\")[item_genre_columns].mean()\n",
    "    )\n",
    "    return user_genres\n",
    "    \n",
    "user_genres_for_train = get_user_genres(events_train, items, genre_columns)\n",
    "candidates_for_train = candidates_for_train.merge(user_genres_for_train, on=\"user_id\", how=\"left\")\n",
    "\n",
    "user_genres_for_ranking = get_user_genres(events_inference, items, genre_columns)\n",
    "candidates_to_rank = candidates_to_rank.merge(user_genres_for_ranking, on=\"user_id\", how=\"left\")"
   ]
  },
  {
   "cell_type": "code",
   "execution_count": 51,
   "id": "69e6e6c8",
   "metadata": {},
   "outputs": [
    {
     "data": {
      "text/plain": [
       "0.038488976462249"
      ]
     },
     "execution_count": 51,
     "metadata": {},
     "output_type": "execute_result"
    }
   ],
   "source": [
    "# медиана жанровости книг в candidates_for_train для жанра “Romance”\n",
    "candidates_for_train['genre_34'].median()"
   ]
  },
  {
   "cell_type": "code",
   "execution_count": 55,
   "id": "94ea9430",
   "metadata": {},
   "outputs": [
    {
     "name": "stdout",
     "output_type": "stream",
     "text": [
      "0:\tlearn: 0.6463959\ttotal: 27.5ms\tremaining: 27.4s\n",
      "100:\tlearn: 0.4713221\ttotal: 2.51s\tremaining: 22.4s\n",
      "200:\tlearn: 0.4644844\ttotal: 4.96s\tremaining: 19.7s\n",
      "300:\tlearn: 0.4594952\ttotal: 7.42s\tremaining: 17.2s\n",
      "400:\tlearn: 0.4554551\ttotal: 9.87s\tremaining: 14.7s\n",
      "500:\tlearn: 0.4519091\ttotal: 12.3s\tremaining: 12.3s\n",
      "600:\tlearn: 0.4485205\ttotal: 14.8s\tremaining: 9.8s\n",
      "700:\tlearn: 0.4455961\ttotal: 17.2s\tremaining: 7.35s\n",
      "800:\tlearn: 0.4426742\ttotal: 19.7s\tremaining: 4.9s\n",
      "900:\tlearn: 0.4399390\ttotal: 22.2s\tremaining: 2.44s\n",
      "999:\tlearn: 0.4372603\ttotal: 24.6s\tremaining: 0us\n"
     ]
    },
    {
     "data": {
      "text/plain": [
       "<catboost.core.CatBoostClassifier at 0x7f2ab320ecb0>"
      ]
     },
     "execution_count": 55,
     "metadata": {},
     "output_type": "execute_result"
    }
   ],
   "source": [
    "from catboost import CatBoostClassifier, Pool\n",
    "\n",
    "# задаём имена колонок признаков и таргета\n",
    "features = ['als_score', 'cnt_score', \n",
    "    'age', 'reading_years', 'books_read', \n",
    "    'rating_avg', 'rating_std', \n",
    "    'books_per_year'] + genre_columns\n",
    "target = 'target'\n",
    "\n",
    "# создаём Pool\n",
    "train_data = Pool(\n",
    "    data=candidates_for_train[features], \n",
    "    label=candidates_for_train[target])\n",
    "\n",
    "# инициализируем модель CatBoostClassifier\n",
    "cb_model = CatBoostClassifier(\n",
    "    iterations=1000,\n",
    "    learning_rate=0.1,\n",
    "    depth=6,\n",
    "    loss_function='Logloss',\n",
    "    verbose=100,\n",
    "    random_seed=0,\n",
    ")\n",
    "\n",
    "# тренируем модель\n",
    "cb_model.fit(train_data)"
   ]
  },
  {
   "cell_type": "code",
   "execution_count": 56,
   "id": "1a5f9d4c",
   "metadata": {},
   "outputs": [],
   "source": [
    "inference_data = Pool(data=candidates_to_rank[features])\n",
    "predictions = cb_model.predict_proba(inference_data)\n",
    "\n",
    "candidates_to_rank[\"cb_score\"] = predictions\n",
    "\n",
    "# для каждого пользователя проставим rank, начиная с 1 — это максимальный cb_score\n",
    "candidates_to_rank = candidates_to_rank.sort_values([\"user_id\", \"cb_score\"], ascending=[True, False])\n",
    "candidates_to_rank[\"rank\"] = candidates_to_rank.groupby(\"user_id\").cumcount() + 1\n",
    "\n",
    "max_recommendations_per_user = 100\n",
    "final_recommendations = candidates_to_rank.query(\"rank <= @max_recommendations_per_user\")"
   ]
  },
  {
   "cell_type": "code",
   "execution_count": null,
   "id": "03b10bc9",
   "metadata": {},
   "outputs": [
    {
     "data": {
      "text/plain": [
       "75194"
      ]
     },
     "execution_count": 58,
     "metadata": {},
     "output_type": "execute_result"
    }
   ],
   "source": [
    "# количество пользователей попало в final_recommendations\n",
    "final_recommendations['user_id'].nunique()"
   ]
  },
  {
   "cell_type": "code",
   "execution_count": 59,
   "id": "6b2797d3",
   "metadata": {},
   "outputs": [],
   "source": [
    "# сохранение финальных рекомендаций\n",
    "final_recommendations.to_parquet(\"final_recommendations_feat.parquet\")"
   ]
  },
  {
   "cell_type": "code",
   "execution_count": 61,
   "id": "e6921912",
   "metadata": {},
   "outputs": [
    {
     "name": "stdout",
     "output_type": "stream",
     "text": [
      "Common users: 75194\n",
      "precision: 0.001, recall: 0.032\n"
     ]
    }
   ],
   "source": [
    "# для экономии ресурсов оставим события только тех пользователей, \n",
    "# для которых следует оценить рекомендации\n",
    "events_inference = pd.concat([events_train, events_labels])\n",
    "events_inference = events_inference[events_inference[\"user_id\"].isin(events_test_2[\"user_id\"].drop_duplicates())]\n",
    "\n",
    "cb_events_recs_for_binary_metrics_5 = process_events_recs_for_binary_metrics(\n",
    "    events_inference,\n",
    "    events_test_2,\n",
    "    final_recommendations.rename(columns={\"cb_score\": \"score\"}))\n",
    "\n",
    "cb_precision_5, cb_recall_5 = compute_cls_metrics(cb_events_recs_for_binary_metrics_5)\n",
    "\n",
    "print(f\"precision: {cb_precision_5:.3f}, recall: {cb_recall_5:.3f}\")"
   ]
  },
  {
   "cell_type": "code",
   "execution_count": 62,
   "id": "95179e39",
   "metadata": {},
   "outputs": [
    {
     "name": "stdout",
     "output_type": "stream",
     "text": [
      "                       fi\n",
      "als_score       33.179668\n",
      "age             21.760184\n",
      "books_read       7.185924\n",
      "reading_years    3.956481\n",
      "cnt_score        3.802804\n",
      "genre_18         3.275670\n",
      "genre_others     2.936089\n",
      "genre_1          2.868140\n",
      "genre_25         2.771455\n",
      "books_per_year   2.457898\n",
      "genre_34         2.250218\n",
      "genre_38         1.977371\n",
      "genre_16         1.887499\n",
      "rating_avg       1.826807\n",
      "genre_33         1.788293\n",
      "genre_24         1.707536\n",
      "genre_20         1.484709\n",
      "genre_5          1.462568\n",
      "rating_std       1.420685\n"
     ]
    }
   ],
   "source": [
    "feature_importance = pd.DataFrame(cb_model.get_feature_importance(), \n",
    "    index=features, \n",
    "    columns=[\"fi\"])\n",
    "feature_importance = feature_importance.sort_values([\"fi\"], ascending=[False])\n",
    "\n",
    "print(feature_importance )"
   ]
  },
  {
   "cell_type": "code",
   "execution_count": null,
   "id": "0cd3346c",
   "metadata": {},
   "outputs": [],
   "source": []
  }
 ],
 "metadata": {
  "kernelspec": {
   "display_name": "env_recsys_start",
   "language": "python",
   "name": "python3"
  },
  "language_info": {
   "codemirror_mode": {
    "name": "ipython",
    "version": 3
   },
   "file_extension": ".py",
   "mimetype": "text/x-python",
   "name": "python",
   "nbconvert_exporter": "python",
   "pygments_lexer": "ipython3",
   "version": "3.10.12"
  }
 },
 "nbformat": 4,
 "nbformat_minor": 5
}
