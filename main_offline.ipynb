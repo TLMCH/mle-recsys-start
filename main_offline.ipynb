{
 "cells": [
  {
   "cell_type": "markdown",
   "id": "b3589a9a-ce16-4d2e-b581-d75139fc58b3",
   "metadata": {},
   "source": [
    "# Initialization"
   ]
  },
  {
   "cell_type": "code",
   "execution_count": 1,
   "id": "c6e28b2f-3822-4e27-b576-9bc42b279b32",
   "metadata": {},
   "outputs": [],
   "source": [
    "import logging\n",
    "\n",
    "import matplotlib.pyplot as plt\n",
    "import numpy as np\n",
    "import pandas as pd"
   ]
  },
  {
   "cell_type": "code",
   "execution_count": 2,
   "id": "4e53bc65-3e32-454b-b353-e9b95489c26c",
   "metadata": {},
   "outputs": [],
   "source": [
    "%matplotlib inline\n",
    "%config InlineBackend.figure_format = 'png'\n",
    "%config InlineBackend.figure_format = 'retina'"
   ]
  },
  {
   "cell_type": "markdown",
   "id": "e8b1d982-8795-45c2-b221-6e5a07eaa150",
   "metadata": {},
   "source": [
    "# Загрузка данных"
   ]
  },
  {
   "cell_type": "code",
   "execution_count": 3,
   "id": "6ab0db85-17df-4a4f-b23c-e9cd983d8c43",
   "metadata": {},
   "outputs": [],
   "source": [
    "items = pd.read_parquet(\"items.par\")\n",
    "events = pd.read_parquet(\"events.par\")"
   ]
  },
  {
   "cell_type": "markdown",
   "id": "f18f28dd-0371-4144-bf11-d077d44e8de0",
   "metadata": {},
   "source": [
    "# Разбиение с учётом хронологии"
   ]
  },
  {
   "cell_type": "markdown",
   "id": "47016708-6f94-4518-886c-58fa6e7bb315",
   "metadata": {},
   "source": [
    "Рекомендательные системы на практике работают с учётом хронологии. Поэтому поток событий для тренировки и валидации полезно делить на то, что уже случилось, и что ещё случится. Это позволяет проводить валидацию на тех же пользователях, на которых тренировались, но на их событиях в будущем."
   ]
  },
  {
   "cell_type": "markdown",
   "id": "e8df5897-bbcd-4364-b5d3-ec7d1de6743a",
   "metadata": {},
   "source": [
    "# === Знакомство: \"холодный\" старт"
   ]
  },
  {
   "cell_type": "markdown",
   "id": "b0b1a5ae",
   "metadata": {},
   "source": [
    "### Разбиение на тренировочную и тестовую выборки"
   ]
  },
  {
   "cell_type": "code",
   "execution_count": 4,
   "id": "4713c062-c9cd-425f-8174-cf133c4730d1",
   "metadata": {},
   "outputs": [
    {
     "name": "stdout",
     "output_type": "stream",
     "text": [
      "428220 123223 120858\n"
     ]
    }
   ],
   "source": [
    "# зададим точку разбиения\n",
    "train_test_global_time_split_date = pd.to_datetime(\"2017-08-01\").date()\n",
    "\n",
    "train_test_global_time_split_idx = events[\"started_at\"] < train_test_global_time_split_date\n",
    "events_train = events[train_test_global_time_split_idx]\n",
    "events_test = events[~train_test_global_time_split_idx]\n",
    "\n",
    "# количество пользователей в train и test\n",
    "users_train = events_train[\"user_id\"].drop_duplicates()\n",
    "users_test = events_test[\"user_id\"].drop_duplicates()\n",
    "# количество пользователей, которые есть и в train, и в test\n",
    "common_users = 0\n",
    "for i in users_test.values:\n",
    "    if i in users_train.values:\n",
    "        common_users += 1\n",
    "\n",
    "print(len(users_train), len(users_test), common_users)"
   ]
  },
  {
   "cell_type": "markdown",
   "id": "93146bbb",
   "metadata": {},
   "source": [
    "### Идентификация холодных пользователей"
   ]
  },
  {
   "cell_type": "code",
   "execution_count": null,
   "id": "4cb94a23-8d1d-4025-908f-f290013fa429",
   "metadata": {},
   "outputs": [],
   "source": [
    "cold_users = []\n",
    "\n",
    "for i in users_test.values:\n",
    "    if i not in users_train.values:\n",
    "        cold_users.append(i)\n",
    "\n",
    "print(len(cold_users))"
   ]
  },
  {
   "cell_type": "markdown",
   "id": "30bf3010",
   "metadata": {},
   "source": [
    "### топ-100 наиболее популярных книг"
   ]
  },
  {
   "cell_type": "code",
   "execution_count": null,
   "id": "6f94990b-65c8-43cc-88da-ebe6a12163b4",
   "metadata": {},
   "outputs": [],
   "source": [
    "top_pop_start_date = pd.to_datetime(\"2015-01-01\").date()\n",
    "\n",
    "item_popularity = events_train \\\n",
    "    .query(\"started_at >= @top_pop_start_date\") \\\n",
    "    .groupby([\"item_id\"]).agg(users=(\"user_id\", \"nunique\"), avg_rating=(\"rating\", \"mean\")).reset_index()\n",
    "item_popularity[\"popularity_weighted\"] = item_popularity[\"users\"] * item_popularity[\"avg_rating\"]\n",
    "\n",
    "# сортируем по убыванию взвешенной популярности\n",
    "item_popularity = item_popularity.sort_values(by='popularity_weighted', ascending=False)\n",
    "\n",
    "# выбираем первые 100 айтемов со средней оценкой avg_rating не меньше 4\n",
    "top_k_pop_items = item_popularity.query(\"avg_rating >= 4\")[: 100]"
   ]
  },
  {
   "cell_type": "code",
   "execution_count": null,
   "id": "9c6e257f",
   "metadata": {},
   "outputs": [],
   "source": [
    "# добавляем информацию о книгах\n",
    "top_k_pop_items = top_k_pop_items.merge(\n",
    "    items.set_index(\"item_id\")[[\"author\", \"title\", \"genre_and_votes\", \"publication_year\"]], on=\"item_id\")\n",
    "\n",
    "with pd.option_context('display.max_rows', 10):\n",
    "    display(top_k_pop_items[[\"item_id\", \"author\", \"title\", \"publication_year\", \"users\", \"avg_rating\", \"popularity_weighted\", \"genre_and_votes\"]])"
   ]
  },
  {
   "cell_type": "code",
   "execution_count": null,
   "id": "1789b9a3",
   "metadata": {},
   "outputs": [],
   "source": [
    "cold_users_events_with_recs = \\\n",
    "    events_test[events_test[\"user_id\"].isin(cold_users)] \\\n",
    "    .merge(top_k_pop_items, on=\"item_id\", how=\"left\")\n",
    "\n",
    "cold_user_items_no_avg_rating_idx = cold_users_events_with_recs[\"avg_rating\"].isnull()\n",
    "cold_user_recs = cold_users_events_with_recs[~cold_user_items_no_avg_rating_idx] \\\n",
    "    [[\"user_id\", \"item_id\", \"rating\", \"avg_rating\"]]"
   ]
  },
  {
   "cell_type": "code",
   "execution_count": null,
   "id": "84cf0cfd",
   "metadata": {},
   "outputs": [],
   "source": [
    "# Для какой доли событий «холодных» пользователей в events_test рекомендации в top_k_pop_items совпали по книгам?\n",
    "1 - (len(cold_user_recs) / len(cold_users_events_with_recs))"
   ]
  },
  {
   "cell_type": "markdown",
   "id": "0cdfc016",
   "metadata": {},
   "source": [
    "### Подсчет метрик rmse и mae для полученных рекомендаций."
   ]
  },
  {
   "cell_type": "code",
   "execution_count": null,
   "id": "cb16b385",
   "metadata": {},
   "outputs": [],
   "source": [
    "# посчитаем метрики рекомендаций\n",
    "from sklearn.metrics import mean_squared_error, mean_absolute_error\n",
    "\n",
    "rmse = mean_squared_error(cold_user_recs[\"rating\"], cold_user_recs[\"avg_rating\"], squared=False)\n",
    "mae = mean_absolute_error(cold_user_recs[\"rating\"], cold_user_recs[\"avg_rating\"])\n",
    "print(round(rmse, 2), round(mae, 2))"
   ]
  },
  {
   "cell_type": "code",
   "execution_count": null,
   "id": "b9a68d55",
   "metadata": {},
   "outputs": [],
   "source": [
    "# посчитаем покрытие холодных пользователей рекомендациями\n",
    "\n",
    "cold_users_hit_ratio = cold_users_events_with_recs.groupby(\"user_id\").agg(hits=(\"avg_rating\", lambda x: (~x.isnull()).mean()))\n",
    "\n",
    "print(f\"Доля пользователей без релевантных рекомендаций: {(cold_users_hit_ratio == 0).mean().iat[0]:.2f}\")\n",
    "print(f\"Среднее покрытие пользователей: {cold_users_hit_ratio[cold_users_hit_ratio != 0].mean().iat[0]:.2f}\")"
   ]
  },
  {
   "cell_type": "markdown",
   "id": "65ef157d-dd5a-4882-8208-40cd9cdfebfc",
   "metadata": {},
   "source": [
    "# === Знакомство: первые персональные рекомендации"
   ]
  },
  {
   "cell_type": "markdown",
   "id": "50a8c0c2",
   "metadata": {},
   "source": [
    "### Степень разреженности матрицы взаимодействий (U-I-матрицы)"
   ]
  },
  {
   "cell_type": "code",
   "execution_count": 88,
   "id": "b687dc99-9aee-472f-9730-d5f17df99c7e",
   "metadata": {},
   "outputs": [
    {
     "data": {
      "text/plain": [
       "0.9993451160571009"
      ]
     },
     "execution_count": 88,
     "metadata": {},
     "output_type": "execute_result"
    }
   ],
   "source": [
    "non_empty_cells = events.shape[0]\n",
    "all_cells = events['user_id'].nunique() * events['item_id'].nunique()\n",
    "empty_cells = all_cells - non_empty_cells\n",
    "sparcity = empty_cells / all_cells\n",
    "sparcity"
   ]
  },
  {
   "cell_type": "code",
   "execution_count": 89,
   "id": "4e804e6f-3348-407c-aa3c-fc50b6045d8d",
   "metadata": {},
   "outputs": [
    {
     "data": {
      "text/plain": [
       "<surprise.prediction_algorithms.matrix_factorization.SVD at 0x7f19ac655ed0>"
      ]
     },
     "execution_count": 89,
     "metadata": {},
     "output_type": "execute_result"
    }
   ],
   "source": [
    "from surprise import Dataset, Reader\n",
    "from surprise import SVD\n",
    "\n",
    "# используем Reader из библиотеки surprise для преобразования событий (events)\n",
    "# в формат, необходимый surprise\n",
    "reader = Reader(rating_scale=(1, 5))\n",
    "surprise_train_set = Dataset.load_from_df(events_train[['user_id', 'item_id', 'rating']], reader)\n",
    "surprise_train_set = surprise_train_set.build_full_trainset()\n",
    "\n",
    "# инициализируем модель\n",
    "svd_model = SVD(n_factors=100, random_state=0)\n",
    "\n",
    "# обучаем модель\n",
    "svd_model.fit(surprise_train_set)"
   ]
  },
  {
   "cell_type": "code",
   "execution_count": 90,
   "id": "d2677881",
   "metadata": {},
   "outputs": [],
   "source": [
    "surprise_test_set = list(events_test[['user_id', 'item_id', 'rating']].itertuples(index=False))\n",
    "\n",
    "# получаем рекомендации для тестовой выборки\n",
    "svd_predictions = svd_model.test(surprise_test_set)"
   ]
  },
  {
   "cell_type": "code",
   "execution_count": 91,
   "id": "1c103378",
   "metadata": {},
   "outputs": [
    {
     "name": "stdout",
     "output_type": "stream",
     "text": [
      "RMSE: 0.8263\n",
      "MAE:  0.6460\n",
      "0.826346375350908 0.6460143973270805\n"
     ]
    }
   ],
   "source": [
    "from surprise import accuracy\n",
    "\n",
    "rmse = accuracy.rmse(svd_predictions)\n",
    "mae = accuracy.mae(svd_predictions)\n",
    "                     \n",
    "print(rmse, mae)"
   ]
  },
  {
   "cell_type": "code",
   "execution_count": 92,
   "id": "3a293525",
   "metadata": {},
   "outputs": [],
   "source": [
    "from surprise import NormalPredictor\n",
    "\n",
    "# инициализируем состояние генератора, это необходимо для получения\n",
    "# одной и той же последовательности случайных чисел, только в учебных целях\n",
    "np.random.seed(0)\n",
    "\n",
    "random_model = NormalPredictor()\n",
    "\n",
    "random_model.fit(surprise_train_set)\n",
    "random_predictions = random_model.test(surprise_test_set)"
   ]
  },
  {
   "cell_type": "code",
   "execution_count": 93,
   "id": "bcfbd9a3",
   "metadata": {},
   "outputs": [
    {
     "name": "stdout",
     "output_type": "stream",
     "text": [
      "MAE:  0.9982\n"
     ]
    }
   ],
   "source": [
    "mae_random = accuracy.mae(random_predictions)"
   ]
  },
  {
   "cell_type": "code",
   "execution_count": 94,
   "id": "836936b3",
   "metadata": {},
   "outputs": [
    {
     "name": "stdout",
     "output_type": "stream",
     "text": [
      "64.71648968142657\n",
      "154.52012383900927\n"
     ]
    }
   ],
   "source": [
    "print(0.6460 / 0.9982 * 100)\n",
    "print(0.9982 / 0.6460 * 100)"
   ]
  },
  {
   "cell_type": "code",
   "execution_count": null,
   "id": "203dafe2",
   "metadata": {},
   "outputs": [],
   "source": [
    "# readers_count = events.groupby([\"item_id\"]).agg(users=(\"user_id\", \"nunique\"))\n",
    "# rare_items = readers_count.query(\"users < 5\")\n",
    "# events = events[~events['item_id'].isin(rare_items['users'].index.values)]"
   ]
  },
  {
   "cell_type": "code",
   "execution_count": 95,
   "id": "77c5bbd5",
   "metadata": {},
   "outputs": [],
   "source": [
    "def get_recommendations_svd(user_id, all_items, events, model, include_seen=True, n=5):\n",
    "\n",
    "    \"\"\" возвращает n рекомендаций для user_id \"\"\"\n",
    "    \n",
    "    # получим список идентификаторов всех книг\n",
    "    all_items = set(events['item_id'].unique())\n",
    "        \n",
    "    # учитываем флаг, стоит ли уже прочитанные книги включать в рекомендации\n",
    "    if include_seen:\n",
    "        items_to_predict = list(all_items)\n",
    "    else:\n",
    "        # получим список книг, которые пользователь уже прочитал (\"видел\")\n",
    "        seen_items = set(events[user_id]['item_id'].unique())\n",
    "        \n",
    "        # книги, которые пользователь ещё не читал\n",
    "        # только их и будем включать в рекомендации\n",
    "        items_to_predict = list(all_items - seen_items)\n",
    "    \n",
    "    # получаем скоры для списка книг, т. е. рекомендации\n",
    "    predictions = [model.predict(user_id, item_id) for item_id in items_to_predict]\n",
    "    \n",
    "    # сортируем рекомендации по убыванию скора и берём только n первых\n",
    "    recommendations = sorted(predictions, key=lambda x: x.est, reverse=True)[:n]\n",
    "    \n",
    "    return pd.DataFrame([(pred.iid, pred.est) for pred in recommendations], columns=[\"item_id\", \"score\"])"
   ]
  },
  {
   "cell_type": "code",
   "execution_count": 97,
   "id": "daeec0f2",
   "metadata": {},
   "outputs": [
    {
     "data": {
      "text/html": [
       "<div>\n",
       "<style scoped>\n",
       "    .dataframe tbody tr th:only-of-type {\n",
       "        vertical-align: middle;\n",
       "    }\n",
       "\n",
       "    .dataframe tbody tr th {\n",
       "        vertical-align: top;\n",
       "    }\n",
       "\n",
       "    .dataframe thead th {\n",
       "        text-align: right;\n",
       "    }\n",
       "</style>\n",
       "<table border=\"1\" class=\"dataframe\">\n",
       "  <thead>\n",
       "    <tr style=\"text-align: right;\">\n",
       "      <th></th>\n",
       "      <th>item_id</th>\n",
       "      <th>score</th>\n",
       "    </tr>\n",
       "  </thead>\n",
       "  <tbody>\n",
       "    <tr>\n",
       "      <th>0</th>\n",
       "      <td>24812</td>\n",
       "      <td>5.000000</td>\n",
       "    </tr>\n",
       "    <tr>\n",
       "      <th>1</th>\n",
       "      <td>8471387</td>\n",
       "      <td>5.000000</td>\n",
       "    </tr>\n",
       "    <tr>\n",
       "      <th>2</th>\n",
       "      <td>481749</td>\n",
       "      <td>5.000000</td>\n",
       "    </tr>\n",
       "    <tr>\n",
       "      <th>3</th>\n",
       "      <td>30688013</td>\n",
       "      <td>4.996900</td>\n",
       "    </tr>\n",
       "    <tr>\n",
       "      <th>4</th>\n",
       "      <td>1108124</td>\n",
       "      <td>4.979711</td>\n",
       "    </tr>\n",
       "  </tbody>\n",
       "</table>\n",
       "</div>"
      ],
      "text/plain": [
       "    item_id     score\n",
       "0     24812  5.000000\n",
       "1   8471387  5.000000\n",
       "2    481749  5.000000\n",
       "3  30688013  4.996900\n",
       "4   1108124  4.979711"
      ]
     },
     "execution_count": 97,
     "metadata": {},
     "output_type": "execute_result"
    }
   ],
   "source": [
    "rec = get_recommendations_svd(1296647, items, events_train, svd_model)\n",
    "rec"
   ]
  },
  {
   "cell_type": "code",
   "execution_count": 98,
   "id": "b761bbae",
   "metadata": {},
   "outputs": [
    {
     "name": "stdout",
     "output_type": "stream",
     "text": [
      "user_id: 1109853\n",
      "История (последние события, recent)\n"
     ]
    },
    {
     "data": {
      "text/html": [
       "<div>\n",
       "<style scoped>\n",
       "    .dataframe tbody tr th:only-of-type {\n",
       "        vertical-align: middle;\n",
       "    }\n",
       "\n",
       "    .dataframe tbody tr th {\n",
       "        vertical-align: top;\n",
       "    }\n",
       "\n",
       "    .dataframe thead th {\n",
       "        text-align: right;\n",
       "    }\n",
       "</style>\n",
       "<table border=\"1\" class=\"dataframe\">\n",
       "  <thead>\n",
       "    <tr style=\"text-align: right;\">\n",
       "      <th></th>\n",
       "      <th>author</th>\n",
       "      <th>title</th>\n",
       "      <th>started_at</th>\n",
       "      <th>read_at</th>\n",
       "      <th>rating</th>\n",
       "      <th>genre_and_votes</th>\n",
       "    </tr>\n",
       "  </thead>\n",
       "  <tbody>\n",
       "    <tr>\n",
       "      <th>0</th>\n",
       "      <td>Patrick Rothfuss</td>\n",
       "      <td>The Wise Man's Fear (The Kingkiller Chronicle,...</td>\n",
       "      <td>2015-06-17</td>\n",
       "      <td>2015-08-31</td>\n",
       "      <td>5</td>\n",
       "      <td>{'Fantasy': 16491, 'Fiction': 2222, 'Fantasy-E...</td>\n",
       "    </tr>\n",
       "    <tr>\n",
       "      <th>1</th>\n",
       "      <td>Andy Weir</td>\n",
       "      <td>The Martian</td>\n",
       "      <td>2014-12-07</td>\n",
       "      <td>2014-12-11</td>\n",
       "      <td>4</td>\n",
       "      <td>{'Science Fiction': 11966, 'Fiction': 8430}</td>\n",
       "    </tr>\n",
       "    <tr>\n",
       "      <th>2</th>\n",
       "      <td>Brandon Sanderson</td>\n",
       "      <td>The Way of Kings (The Stormlight Archive, #1)</td>\n",
       "      <td>2015-08-31</td>\n",
       "      <td>2015-10-30</td>\n",
       "      <td>5</td>\n",
       "      <td>{'Fantasy': 14291, 'Fiction': 1623, 'Fantasy-E...</td>\n",
       "    </tr>\n",
       "    <tr>\n",
       "      <th>3</th>\n",
       "      <td>Brandon Sanderson</td>\n",
       "      <td>Words of Radiance (The Stormlight Archive, #2)</td>\n",
       "      <td>2015-10-30</td>\n",
       "      <td>2016-03-17</td>\n",
       "      <td>5</td>\n",
       "      <td>{'Fantasy': 8542, 'Fiction': 872, 'Fantasy-Epi...</td>\n",
       "    </tr>\n",
       "    <tr>\n",
       "      <th>4</th>\n",
       "      <td>Ken Follett</td>\n",
       "      <td>Fall of Giants (The Century Trilogy, #1)</td>\n",
       "      <td>2016-05-12</td>\n",
       "      <td>2016-08-30</td>\n",
       "      <td>4</td>\n",
       "      <td>{'Historical-Historical Fiction': 4665, 'Ficti...</td>\n",
       "    </tr>\n",
       "  </tbody>\n",
       "</table>\n",
       "</div>"
      ],
      "text/plain": [
       "              author                                              title  \\\n",
       "0   Patrick Rothfuss  The Wise Man's Fear (The Kingkiller Chronicle,...   \n",
       "1          Andy Weir                                        The Martian   \n",
       "2  Brandon Sanderson      The Way of Kings (The Stormlight Archive, #1)   \n",
       "3  Brandon Sanderson     Words of Radiance (The Stormlight Archive, #2)   \n",
       "4        Ken Follett           Fall of Giants (The Century Trilogy, #1)   \n",
       "\n",
       "   started_at     read_at  rating  \\\n",
       "0  2015-06-17  2015-08-31       5   \n",
       "1  2014-12-07  2014-12-11       4   \n",
       "2  2015-08-31  2015-10-30       5   \n",
       "3  2015-10-30  2016-03-17       5   \n",
       "4  2016-05-12  2016-08-30       4   \n",
       "\n",
       "                                     genre_and_votes  \n",
       "0  {'Fantasy': 16491, 'Fiction': 2222, 'Fantasy-E...  \n",
       "1        {'Science Fiction': 11966, 'Fiction': 8430}  \n",
       "2  {'Fantasy': 14291, 'Fiction': 1623, 'Fantasy-E...  \n",
       "3  {'Fantasy': 8542, 'Fiction': 872, 'Fantasy-Epi...  \n",
       "4  {'Historical-Historical Fiction': 4665, 'Ficti...  "
      ]
     },
     "metadata": {},
     "output_type": "display_data"
    },
    {
     "name": "stdout",
     "output_type": "stream",
     "text": [
      "Рекомендации\n"
     ]
    },
    {
     "data": {
      "text/html": [
       "<div>\n",
       "<style scoped>\n",
       "    .dataframe tbody tr th:only-of-type {\n",
       "        vertical-align: middle;\n",
       "    }\n",
       "\n",
       "    .dataframe tbody tr th {\n",
       "        vertical-align: top;\n",
       "    }\n",
       "\n",
       "    .dataframe thead th {\n",
       "        text-align: right;\n",
       "    }\n",
       "</style>\n",
       "<table border=\"1\" class=\"dataframe\">\n",
       "  <thead>\n",
       "    <tr style=\"text-align: right;\">\n",
       "      <th></th>\n",
       "      <th>item_id</th>\n",
       "      <th>score</th>\n",
       "      <th>author</th>\n",
       "      <th>title</th>\n",
       "      <th>genre_and_votes</th>\n",
       "    </tr>\n",
       "  </thead>\n",
       "  <tbody>\n",
       "    <tr>\n",
       "      <th>0</th>\n",
       "      <td>30688013</td>\n",
       "      <td>5.000000</td>\n",
       "      <td>Robin Hobb</td>\n",
       "      <td>Assassin's Fate (The Fitz and the Fool, #3)</td>\n",
       "      <td>{'Fantasy': 1657, 'Fiction': 172, 'Fantasy-Epi...</td>\n",
       "    </tr>\n",
       "    <tr>\n",
       "      <th>1</th>\n",
       "      <td>11221285</td>\n",
       "      <td>5.000000</td>\n",
       "      <td>Brandon Sanderson</td>\n",
       "      <td>The Way of Kings, Part 2 (The Stormlight Archi...</td>\n",
       "      <td>{'Fantasy': 641, 'Fiction': 46, 'Fantasy-Epic ...</td>\n",
       "    </tr>\n",
       "    <tr>\n",
       "      <th>2</th>\n",
       "      <td>19219646</td>\n",
       "      <td>5.000000</td>\n",
       "      <td>Wolfgang Herrndorf</td>\n",
       "      <td>Arbeit und Struktur</td>\n",
       "      <td>{'Nonfiction': 25, 'European Literature-German...</td>\n",
       "    </tr>\n",
       "    <tr>\n",
       "      <th>3</th>\n",
       "      <td>22037424</td>\n",
       "      <td>4.996202</td>\n",
       "      <td>J.K. Rowling, Jonny Duddle, Tomislav Tomić</td>\n",
       "      <td>Harry Potter and the Prisoner of Azkaban (Harr...</td>\n",
       "      <td>{'Fantasy': 49994, 'Young Adult': 15433, 'Fict...</td>\n",
       "    </tr>\n",
       "    <tr>\n",
       "      <th>4</th>\n",
       "      <td>2168850</td>\n",
       "      <td>4.995777</td>\n",
       "      <td>محمد بن إدريس الشافعي, إميل بديع يعقوب</td>\n",
       "      <td>ديوان الإمام الشافعي</td>\n",
       "      <td>{'Poetry': 93, 'Religion': 15, 'Literature': 1...</td>\n",
       "    </tr>\n",
       "  </tbody>\n",
       "</table>\n",
       "</div>"
      ],
      "text/plain": [
       "    item_id     score                                      author  \\\n",
       "0  30688013  5.000000                                  Robin Hobb   \n",
       "1  11221285  5.000000                           Brandon Sanderson   \n",
       "2  19219646  5.000000                          Wolfgang Herrndorf   \n",
       "3  22037424  4.996202  J.K. Rowling, Jonny Duddle, Tomislav Tomić   \n",
       "4   2168850  4.995777      محمد بن إدريس الشافعي, إميل بديع يعقوب   \n",
       "\n",
       "                                               title  \\\n",
       "0        Assassin's Fate (The Fitz and the Fool, #3)   \n",
       "1  The Way of Kings, Part 2 (The Stormlight Archi...   \n",
       "2                                Arbeit und Struktur   \n",
       "3  Harry Potter and the Prisoner of Azkaban (Harr...   \n",
       "4                               ديوان الإمام الشافعي   \n",
       "\n",
       "                                     genre_and_votes  \n",
       "0  {'Fantasy': 1657, 'Fiction': 172, 'Fantasy-Epi...  \n",
       "1  {'Fantasy': 641, 'Fiction': 46, 'Fantasy-Epic ...  \n",
       "2  {'Nonfiction': 25, 'European Literature-German...  \n",
       "3  {'Fantasy': 49994, 'Young Adult': 15433, 'Fict...  \n",
       "4  {'Poetry': 93, 'Religion': 15, 'Literature': 1...  "
      ]
     },
     "metadata": {},
     "output_type": "display_data"
    }
   ],
   "source": [
    "# выберем произвольного пользователя из тренировочной выборки (\"прошлого\")\n",
    "user_id = events_train['user_id'].sample().iat[0]\n",
    "\n",
    "print(f\"user_id: {user_id}\")\n",
    "\n",
    "print(\"История (последние события, recent)\")\n",
    "user_history = (\n",
    "    events_train\n",
    "    .query(\"user_id == @user_id\")\n",
    "    .merge(items.set_index(\"item_id\")[[\"author\", \"title\", \"genre_and_votes\"]], on=\"item_id\")\n",
    ")\n",
    "user_history_to_print = user_history[[\"author\", \"title\", \"started_at\", \"read_at\", \"rating\", \"genre_and_votes\"]].tail(10)\n",
    "display(user_history_to_print)\n",
    "\n",
    "print(\"Рекомендации\")\n",
    "user_recommendations = get_recommendations_svd(user_id, items, events_train, svd_model)\n",
    "user_recommendations = user_recommendations.merge(items[[\"item_id\", \"author\", \"title\", \"genre_and_votes\"]], on=\"item_id\")\n",
    "display(user_recommendations)"
   ]
  },
  {
   "cell_type": "markdown",
   "id": "3817eb52-1161-4e4e-a263-0cb616794a8e",
   "metadata": {},
   "source": [
    "# === Базовые подходы: коллаборативная фильтрация"
   ]
  },
  {
   "cell_type": "code",
   "execution_count": 5,
   "id": "21789993-d0cd-4e74-96af-b3966d0f44c3",
   "metadata": {},
   "outputs": [
    {
     "name": "stderr",
     "output_type": "stream",
     "text": [
      "/tmp/ipykernel_1902/1044897688.py:8: SettingWithCopyWarning: \n",
      "A value is trying to be set on a copy of a slice from a DataFrame.\n",
      "Try using .loc[row_indexer,col_indexer] = value instead\n",
      "\n",
      "See the caveats in the documentation: https://pandas.pydata.org/pandas-docs/stable/user_guide/indexing.html#returning-a-view-versus-a-copy\n",
      "  events_train[\"user_id_enc\"] = user_encoder.transform(events_train[\"user_id\"])\n",
      "/tmp/ipykernel_1902/1044897688.py:9: SettingWithCopyWarning: \n",
      "A value is trying to be set on a copy of a slice from a DataFrame.\n",
      "Try using .loc[row_indexer,col_indexer] = value instead\n",
      "\n",
      "See the caveats in the documentation: https://pandas.pydata.org/pandas-docs/stable/user_guide/indexing.html#returning-a-view-versus-a-copy\n",
      "  events_test[\"user_id_enc\"] = user_encoder.transform(events_test[\"user_id\"])\n",
      "/tmp/ipykernel_1902/1044897688.py:16: SettingWithCopyWarning: \n",
      "A value is trying to be set on a copy of a slice from a DataFrame.\n",
      "Try using .loc[row_indexer,col_indexer] = value instead\n",
      "\n",
      "See the caveats in the documentation: https://pandas.pydata.org/pandas-docs/stable/user_guide/indexing.html#returning-a-view-versus-a-copy\n",
      "  events_train[\"item_id_enc\"] = item_encoder.transform(events_train[\"item_id\"])\n",
      "/tmp/ipykernel_1902/1044897688.py:17: SettingWithCopyWarning: \n",
      "A value is trying to be set on a copy of a slice from a DataFrame.\n",
      "Try using .loc[row_indexer,col_indexer] = value instead\n",
      "\n",
      "See the caveats in the documentation: https://pandas.pydata.org/pandas-docs/stable/user_guide/indexing.html#returning-a-view-versus-a-copy\n",
      "  events_test[\"item_id_enc\"] = item_encoder.transform(events_test[\"item_id\"])\n"
     ]
    }
   ],
   "source": [
    "import scipy\n",
    "import sklearn.preprocessing\n",
    "\n",
    "# перекодируем идентификаторы пользователей: \n",
    "# из имеющихся в последовательность 0, 1, 2, ...\n",
    "user_encoder = sklearn.preprocessing.LabelEncoder()\n",
    "user_encoder.fit(events[\"user_id\"])\n",
    "events_train[\"user_id_enc\"] = user_encoder.transform(events_train[\"user_id\"])\n",
    "events_test[\"user_id_enc\"] = user_encoder.transform(events_test[\"user_id\"])\n",
    "\n",
    "# перекодируем идентификаторы объектов: \n",
    "# из имеющихся в последовательность 0, 1, 2, ...\n",
    "item_encoder = sklearn.preprocessing.LabelEncoder()\n",
    "item_encoder.fit(items[\"item_id\"])\n",
    "items[\"item_id_enc\"] = item_encoder.transform(items[\"item_id\"])\n",
    "events_train[\"item_id_enc\"] = item_encoder.transform(events_train[\"item_id\"])\n",
    "events_test[\"item_id_enc\"] = item_encoder.transform(events_test[\"item_id\"])"
   ]
  },
  {
   "cell_type": "code",
   "execution_count": 6,
   "id": "9a96f98d-0270-4a06-9063-a687dbffeca5",
   "metadata": {},
   "outputs": [
    {
     "data": {
      "text/plain": [
       "16.54028546065092"
      ]
     },
     "execution_count": 6,
     "metadata": {},
     "output_type": "execute_result"
    }
   ],
   "source": [
    "#  размер матрицы взаимодействий в гигабайтах\n",
    "events_train[\"user_id_enc\"].nunique() * events_train[\"item_id_enc\"].nunique() / 1024**3"
   ]
  },
  {
   "cell_type": "code",
   "execution_count": 7,
   "id": "d9b938da",
   "metadata": {},
   "outputs": [],
   "source": [
    "# создаём sparse-матрицу формата CSR \n",
    "user_item_matrix_train = scipy.sparse.csr_matrix((\n",
    "    events_train[\"rating\"],\n",
    "    (events_train['user_id_enc'], events_train['item_id_enc'])),\n",
    "    dtype=np.int8)"
   ]
  },
  {
   "cell_type": "code",
   "execution_count": 8,
   "id": "608b5247",
   "metadata": {},
   "outputs": [
    {
     "data": {
      "text/plain": [
       "0.26370687410235405"
      ]
     },
     "execution_count": 8,
     "metadata": {},
     "output_type": "execute_result"
    }
   ],
   "source": [
    "#  размер sparse-матрицы формата CSR  в гигабайтах\n",
    "import sys\n",
    "\n",
    "sum([sys.getsizeof(i) for i in user_item_matrix_train.data])/1024**3"
   ]
  },
  {
   "cell_type": "code",
   "execution_count": 9,
   "id": "70c93788",
   "metadata": {},
   "outputs": [
    {
     "name": "stderr",
     "output_type": "stream",
     "text": [
      "/home/mle-user/sprint_4/env_recsys_start/lib/python3.10/site-packages/tqdm/auto.py:21: TqdmWarning: IProgress not found. Please update jupyter and ipywidgets. See https://ipywidgets.readthedocs.io/en/stable/user_install.html\n",
      "  from .autonotebook import tqdm as notebook_tqdm\n",
      "/home/mle-user/sprint_4/env_recsys_start/lib/python3.10/site-packages/implicit/cpu/als.py:95: RuntimeWarning: OpenBLAS is configured to use 4 threads. It is highly recommended to disable its internal threadpool by setting the environment variable 'OPENBLAS_NUM_THREADS=1' or by calling 'threadpoolctl.threadpool_limits(1, \"blas\")'. Having OpenBLAS use a threadpool can lead to severe performance issues here.\n",
      "  check_blas_config()\n",
      "100%|██████████| 50/50 [02:52<00:00,  3.46s/it]\n"
     ]
    }
   ],
   "source": [
    "# создание и тренировка модели\n",
    "from implicit.als import AlternatingLeastSquares\n",
    "\n",
    "als_model = AlternatingLeastSquares(factors=50, iterations=50, regularization=0.05, random_state=0)\n",
    "als_model.fit(user_item_matrix_train)"
   ]
  },
  {
   "cell_type": "code",
   "execution_count": 10,
   "id": "459fdb8e",
   "metadata": {},
   "outputs": [],
   "source": [
    "def get_recommendations_als(user_item_matrix, model, user_id, user_encoder, item_encoder, include_seen=True, n=5):\n",
    "    \"\"\"\n",
    "    Возвращает отранжированные рекомендации для заданного пользователя\n",
    "    \"\"\"\n",
    "    user_id_enc = user_encoder.transform([user_id])[0]\n",
    "    recommendations = model.recommend(\n",
    "         user_id_enc, \n",
    "         user_item_matrix[user_id_enc], \n",
    "         filter_already_liked_items=not include_seen,\n",
    "         N=n)\n",
    "    recommendations = pd.DataFrame({\"item_id_enc\": recommendations[0], \"score\": recommendations[1]})\n",
    "    recommendations[\"item_id\"] = item_encoder.inverse_transform(recommendations[\"item_id_enc\"])\n",
    "    \n",
    "    return recommendations"
   ]
  },
  {
   "cell_type": "code",
   "execution_count": 11,
   "id": "a995c240",
   "metadata": {},
   "outputs": [],
   "source": [
    "def user_history_and_recommendations(user_item_matrix, model, user_id, user_encoder, item_encoder, include_seen=True, n=5):\n",
    "    user_history = events_train[events_train['user_id'] == user_id]\n",
    "\n",
    "    history_text = f'''\n",
    "User id: {user_id} \n",
    "\n",
    "    User's history: \\n\n",
    "'''\n",
    "    for i in range(len(user_history)):\n",
    "        history_text += '\\t'\n",
    "        history_text += items[items[\"item_id_enc\"] == user_history.iloc[i, :]['item_id_enc']].iloc[0, 1]\n",
    "        history_text += ': '\n",
    "        history_text += items[items[\"item_id_enc\"] == user_history.iloc[i, :]['item_id_enc']].iloc[0, 2]\n",
    "        history_text += '\\n'\n",
    "\n",
    "    print(history_text)\n",
    "\n",
    "    rec = get_recommendations_als(user_item_matrix, model, user_id, user_encoder, item_encoder, include_seen, n)\n",
    "    \n",
    "    recommendation_text = f'''\n",
    "    User's recommendation:\\n\n",
    "'''\n",
    "    \n",
    "    for i in range(n):\n",
    "        recommendation_text += '\\t'\n",
    "        recommendation_text += items[items[\"item_id_enc\"] == rec.iloc[i, :]['item_id_enc']].iloc[0, 1]\n",
    "        recommendation_text += ': '\n",
    "        recommendation_text += items[items[\"item_id_enc\"] == rec.iloc[i, :]['item_id_enc']].iloc[0, 2]\n",
    "        recommendation_text += ' / '\n",
    "        if rec.iloc[i, :]['item_id_enc'] in user_history['item_id_enc'].values:\n",
    "            recommendation_text += 'пользователь прочитал рекоммендованную книгу'\n",
    "        else:\n",
    "            recommendation_text += 'пользователь не прочитал рекоммендованную книгу'\n",
    "        recommendation_text += '\\n'\n",
    "    \n",
    "    print(recommendation_text)"
   ]
  },
  {
   "cell_type": "code",
   "execution_count": 12,
   "id": "26f9172e",
   "metadata": {},
   "outputs": [
    {
     "name": "stdout",
     "output_type": "stream",
     "text": [
      "\n",
      "User id: 1000006 \n",
      "\n",
      "    User's history: \n",
      "\n",
      "\tMargaret Atwood: The Handmaid's Tale\n",
      "\tLouisa May Alcott: Little Women (Little Women, #1)\n",
      "\tGarth Stein: The Art of Racing in the Rain\n",
      "\tMaria Semple: Where'd You Go, Bernadette\n",
      "\tRoald Dahl, Quentin Blake: Matilda\n",
      "\tFrances Hodgson Burnett: The Secret Garden\n",
      "\tNina George, Simon Pare: The Little Paris Bookshop\n",
      "\tAziz Ansari, Eric Klinenberg: Modern Romance\n",
      "\tKennilworthy Whisp, J.K. Rowling: Quidditch Through the Ages\n",
      "\tAmy Schumer: The Girl with the Lower Back Tattoo\n",
      "\tJ.K. Rowling, Mary GrandPré: Harry Potter and the Sorcerer's Stone (Harry Potter, #1)\n",
      "\tDiane Ackerman: The Zookeeper's Wife\n",
      "\tJ.K. Rowling, Mary GrandPré: Harry Potter and the Chamber of Secrets (Harry Potter, #2)\n",
      "\tJ.K. Rowling, Mary GrandPré: Harry Potter and the Prisoner of Azkaban (Harry Potter, #3)\n",
      "\tJodi Picoult: Small Great Things\n",
      "\tJ.K. Rowling, Mary GrandPré: Harry Potter and the Goblet of Fire (Harry Potter, #4)\n",
      "\tWilliam L. Myers Jr.: A Criminal Defense\n",
      "\n",
      "\n",
      "    User's recommendation:\n",
      "\n",
      "\tJ.K. Rowling, Mary GrandPré: Harry Potter and the Sorcerer's Stone (Harry Potter, #1) / пользователь прочитал рекоммендованную книгу\n",
      "\tJ.K. Rowling, Mary GrandPré: Harry Potter and the Chamber of Secrets (Harry Potter, #2) / пользователь прочитал рекоммендованную книгу\n",
      "\tJ.K. Rowling, Mary GrandPré: Harry Potter and the Prisoner of Azkaban (Harry Potter, #3) / пользователь прочитал рекоммендованную книгу\n",
      "\tJ.K. Rowling, Mary GrandPré: Harry Potter and the Goblet of Fire (Harry Potter, #4) / пользователь прочитал рекоммендованную книгу\n",
      "\tJ.K. Rowling, Mary GrandPré: Harry Potter and the Order of the Phoenix (Harry Potter, #5) / пользователь не прочитал рекоммендованную книгу\n",
      "\n"
     ]
    }
   ],
   "source": [
    "user_history_and_recommendations(user_item_matrix_train, als_model, 1_000_006, user_encoder, item_encoder, include_seen=True, n=5)"
   ]
  },
  {
   "cell_type": "code",
   "execution_count": 13,
   "id": "cba5923a",
   "metadata": {},
   "outputs": [],
   "source": [
    "# получаем список всех возможных user_id (перекодированных)\n",
    "user_ids_encoded = range(len(user_encoder.classes_))\n",
    "\n",
    "# получаем рекомендации для всех пользователей\n",
    "als_recommendations = als_model.recommend(\n",
    "    user_ids_encoded, \n",
    "    user_item_matrix_train[user_ids_encoded], \n",
    "    filter_already_liked_items=False, N=100)"
   ]
  },
  {
   "cell_type": "code",
   "execution_count": 14,
   "id": "a7519226",
   "metadata": {},
   "outputs": [],
   "source": [
    "# преобразуем полученные рекомендации в табличный формат\n",
    "item_ids_enc = als_recommendations[0]\n",
    "als_scores = als_recommendations[1]\n",
    "\n",
    "als_recommendations = pd.DataFrame({\n",
    "    \"user_id_enc\": user_ids_encoded,\n",
    "    \"item_id_enc\": item_ids_enc.tolist(), \n",
    "    \"score\": als_scores.tolist()})\n",
    "als_recommendations = als_recommendations.explode([\"item_id_enc\", \"score\"], ignore_index=True)\n",
    "\n",
    "# приводим типы данных\n",
    "als_recommendations[\"item_id_enc\"] = als_recommendations[\"item_id_enc\"].astype(\"int\")\n",
    "als_recommendations[\"score\"] = als_recommendations[\"score\"].astype(\"float\")\n",
    "\n",
    "# получаем изначальные идентификаторы\n",
    "als_recommendations[\"user_id\"] = user_encoder.inverse_transform(als_recommendations[\"user_id_enc\"])\n",
    "als_recommendations[\"item_id\"] = item_encoder.inverse_transform(als_recommendations[\"item_id_enc\"])\n",
    "als_recommendations = als_recommendations.drop(columns=[\"user_id_enc\", \"item_id_enc\"])"
   ]
  },
  {
   "cell_type": "code",
   "execution_count": 15,
   "id": "2bbce5cc",
   "metadata": {},
   "outputs": [],
   "source": [
    "als_recommendations = als_recommendations[[\"user_id\", \"item_id\", \"score\"]]\n",
    "als_recommendations.to_parquet(\"als_recommendations.parquet\")"
   ]
  },
  {
   "cell_type": "code",
   "execution_count": 16,
   "id": "c9307235",
   "metadata": {},
   "outputs": [],
   "source": [
    "als_recommendations = (\n",
    "    als_recommendations\n",
    "    .merge(events_test[[\"user_id\", \"item_id\", \"rating\"]]\n",
    "               .rename(columns={\"rating\": \"rating_test\"}), \n",
    "           on=[\"user_id\", \"item_id\"], how=\"left\")\n",
    ")"
   ]
  },
  {
   "cell_type": "code",
   "execution_count": 17,
   "id": "8048e27e",
   "metadata": {},
   "outputs": [],
   "source": [
    "import sklearn.metrics\n",
    "\n",
    "def compute_ndcg(rating: pd.Series, score: pd.Series, k):\n",
    "\n",
    "    \"\"\" подсчёт ndcg\n",
    "    rating: истинные оценки\n",
    "    score: оценки модели\n",
    "    k: количество айтемов (по убыванию score) для оценки, остальные - отбрасываются\n",
    "    \"\"\"\n",
    "    \n",
    "    # если кол-во объектов меньше 2, то NDCG - не определена\n",
    "    if len(rating) < 2:\n",
    "        return np.nan\n",
    "\n",
    "    ndcg = sklearn.metrics.ndcg_score(np.asarray([rating.to_numpy()]), np.asarray([score.to_numpy()]), k=k)\n",
    "\n",
    "    return ndcg"
   ]
  },
  {
   "cell_type": "code",
   "execution_count": 18,
   "id": "8aae5452",
   "metadata": {},
   "outputs": [],
   "source": [
    "rating_test_idx = ~als_recommendations[\"rating_test\"].isnull()\n",
    "ndcg_at_5_scores = als_recommendations[rating_test_idx].groupby(\"user_id\").apply(lambda x: compute_ndcg(x[\"rating_test\"], x[\"score\"], k=5))"
   ]
  },
  {
   "cell_type": "code",
   "execution_count": 19,
   "id": "92355121",
   "metadata": {},
   "outputs": [
    {
     "name": "stdout",
     "output_type": "stream",
     "text": [
      "0.975946709792109\n"
     ]
    }
   ],
   "source": [
    "print(ndcg_at_5_scores.mean())"
   ]
  },
  {
   "cell_type": "code",
   "execution_count": 31,
   "id": "10654c65",
   "metadata": {},
   "outputs": [
    {
     "name": "stdout",
     "output_type": "stream",
     "text": [
      "2334248    The Hitchhiker's Guide to the Galaxy (Hitchhik...\n",
      "Name: title, dtype: object\n",
      "840143    The Restaurant at the End of the Universe (Hit...\n",
      "Name: title, dtype: object\n",
      "840144    Life, the Universe and Everything (Hitchhiker'...\n",
      "Name: title, dtype: object\n",
      "55118    So Long, and Thanks for All the Fish (Hitchhik...\n",
      "Name: title, dtype: object\n",
      "2334250    The Ultimate Hitchhiker's Guide to the Galaxy\n",
      "Name: title, dtype: object\n"
     ]
    }
   ],
   "source": [
    "a = als_model.similar_items(itemid=7, N=5, recalculate_item=False, item_users=user_item_matrix_train, filter_items=None, items=None)\n",
    "for i in range(5):\n",
    "    print(items[items['item_id_enc'] == a[0][i]]['title'])"
   ]
  },
  {
   "cell_type": "markdown",
   "id": "62575f67-f46e-4747-b3de-6ff5a87d0eba",
   "metadata": {},
   "source": [
    "# === Базовые подходы: контентные рекомендации"
   ]
  },
  {
   "cell_type": "code",
   "execution_count": null,
   "id": "5ae7f494-3ee9-4f49-a61b-9dfb411518bd",
   "metadata": {},
   "outputs": [],
   "source": []
  },
  {
   "cell_type": "code",
   "execution_count": null,
   "id": "5f655832-4caa-4290-9b34-388e7b3f5d37",
   "metadata": {},
   "outputs": [],
   "source": []
  },
  {
   "cell_type": "code",
   "execution_count": null,
   "id": "d8f945a6-bd08-4f17-84a3-4a82e00a29c6",
   "metadata": {},
   "outputs": [],
   "source": []
  },
  {
   "cell_type": "markdown",
   "id": "dfdeb7c3-0935-4bee-8b93-dfe26091289b",
   "metadata": {},
   "source": [
    "# === Базовые подходы: валидация"
   ]
  },
  {
   "cell_type": "code",
   "execution_count": null,
   "id": "05850eab-168a-4338-8692-cd1a8fefb685",
   "metadata": {},
   "outputs": [],
   "source": []
  },
  {
   "cell_type": "code",
   "execution_count": null,
   "id": "28f429e6-b9da-4231-afba-25dd8e606a23",
   "metadata": {},
   "outputs": [],
   "source": []
  },
  {
   "cell_type": "code",
   "execution_count": null,
   "id": "b4e4509b-6289-4ad6-a767-cbb2ace791ee",
   "metadata": {},
   "outputs": [],
   "source": []
  },
  {
   "cell_type": "markdown",
   "id": "f78475fc-bee1-48f4-be55-329db8ecd326",
   "metadata": {},
   "source": [
    "# === Двухстадийный подход: метрики"
   ]
  },
  {
   "cell_type": "code",
   "execution_count": null,
   "id": "2a4cf639-1afa-4e89-8ba5-eee48a1bd0e1",
   "metadata": {},
   "outputs": [],
   "source": []
  },
  {
   "cell_type": "code",
   "execution_count": null,
   "id": "48e4d676-ede1-4725-8e31-457ebc0452da",
   "metadata": {},
   "outputs": [],
   "source": []
  },
  {
   "cell_type": "code",
   "execution_count": null,
   "id": "d99db2ab-231d-4cf8-8221-5e00e9e6e4c0",
   "metadata": {},
   "outputs": [],
   "source": []
  },
  {
   "cell_type": "markdown",
   "id": "4fbae6b6-b1e2-4bbf-b1ad-227f2916917f",
   "metadata": {},
   "source": [
    "# === Двухстадийный подход: модель"
   ]
  },
  {
   "cell_type": "code",
   "execution_count": null,
   "id": "2ef764d6-f2cc-4e72-bd7f-81a69dd7380d",
   "metadata": {},
   "outputs": [],
   "source": []
  },
  {
   "cell_type": "code",
   "execution_count": null,
   "id": "9dcc8048-f4b5-411f-913a-fd73c6a6ff2a",
   "metadata": {},
   "outputs": [],
   "source": []
  },
  {
   "cell_type": "code",
   "execution_count": null,
   "id": "dd6c82df-981f-441a-8dc2-c7b06ab2b6f7",
   "metadata": {},
   "outputs": [],
   "source": []
  },
  {
   "cell_type": "markdown",
   "id": "29b6ebd5-38a3-4f8e-8941-2f91fa70ca4e",
   "metadata": {},
   "source": [
    "# === Двухстадийный подход: построение признаков"
   ]
  },
  {
   "cell_type": "code",
   "execution_count": null,
   "id": "8788cba9-0396-46a2-b2af-1ecbd65b944e",
   "metadata": {},
   "outputs": [],
   "source": []
  },
  {
   "cell_type": "code",
   "execution_count": null,
   "id": "27aed9a2-88d9-4375-b0b0-7333aea7b1e0",
   "metadata": {},
   "outputs": [],
   "source": []
  },
  {
   "cell_type": "code",
   "execution_count": null,
   "id": "344f7f13-e43e-490c-a816-43d25c5a4a5f",
   "metadata": {},
   "outputs": [],
   "source": []
  }
 ],
 "metadata": {
  "kernelspec": {
   "display_name": "env_recsys_start",
   "language": "python",
   "name": "python3"
  },
  "language_info": {
   "codemirror_mode": {
    "name": "ipython",
    "version": 3
   },
   "file_extension": ".py",
   "mimetype": "text/x-python",
   "name": "python",
   "nbconvert_exporter": "python",
   "pygments_lexer": "ipython3",
   "version": "3.10.12"
  }
 },
 "nbformat": 4,
 "nbformat_minor": 5
}
